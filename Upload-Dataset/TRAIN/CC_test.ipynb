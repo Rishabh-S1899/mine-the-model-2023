{
 "cells": [
  {
   "cell_type": "code",
   "execution_count": 182,
   "metadata": {},
   "outputs": [],
   "source": [
    "import numpy as np \n",
    "import pandas as pd\n",
    "import matplotlib.pyplot as plt\n",
    "import warnings\n",
    "warnings.filterwarnings(\"ignore\") "
   ]
  },
  {
   "cell_type": "code",
   "execution_count": 183,
   "metadata": {},
   "outputs": [],
   "source": [
    "from tensorflow.keras.models import Sequential\n",
    "from tensorflow.keras.layers import *\n",
    "from tensorflow.keras.callbacks import ModelCheckpoint\n",
    "from tensorflow.keras.losses import MeanSquaredError\n",
    "from tensorflow.keras.metrics import RootMeanSquaredError\n",
    "from tensorflow.keras.optimizers import Adam\n",
    "from tensorflow.keras.layers import InputLayer\n",
    "from keras.layers import Dense\n",
    "from keras.layers import LSTM\n",
    "from keras.layers import Dropout"
   ]
  },
  {
   "cell_type": "code",
   "execution_count": 184,
   "metadata": {},
   "outputs": [],
   "source": [
    "file_name='003.csv'"
   ]
  },
  {
   "cell_type": "code",
   "execution_count": 185,
   "metadata": {},
   "outputs": [
    {
     "data": {
      "text/html": [
       "<div>\n",
       "<style scoped>\n",
       "    .dataframe tbody tr th:only-of-type {\n",
       "        vertical-align: middle;\n",
       "    }\n",
       "\n",
       "    .dataframe tbody tr th {\n",
       "        vertical-align: top;\n",
       "    }\n",
       "\n",
       "    .dataframe thead th {\n",
       "        text-align: right;\n",
       "    }\n",
       "</style>\n",
       "<table border=\"1\" class=\"dataframe\">\n",
       "  <thead>\n",
       "    <tr style=\"text-align: right;\">\n",
       "      <th></th>\n",
       "      <th>Open</th>\n",
       "      <th>High</th>\n",
       "      <th>Low</th>\n",
       "      <th>Close</th>\n",
       "      <th>Adj Close</th>\n",
       "      <th>Volume</th>\n",
       "      <th>Dividends</th>\n",
       "      <th>Stock Splits</th>\n",
       "    </tr>\n",
       "    <tr>\n",
       "      <th>Date</th>\n",
       "      <th></th>\n",
       "      <th></th>\n",
       "      <th></th>\n",
       "      <th></th>\n",
       "      <th></th>\n",
       "      <th></th>\n",
       "      <th></th>\n",
       "      <th></th>\n",
       "    </tr>\n",
       "  </thead>\n",
       "  <tbody>\n",
       "    <tr>\n",
       "      <th>2007-01-02</th>\n",
       "      <td>127.000000</td>\n",
       "      <td>133.000000</td>\n",
       "      <td>127.000000</td>\n",
       "      <td>132.000000</td>\n",
       "      <td>76.526367</td>\n",
       "      <td>420128</td>\n",
       "      <td>0.0</td>\n",
       "      <td>0.0</td>\n",
       "    </tr>\n",
       "    <tr>\n",
       "      <th>2007-01-03</th>\n",
       "      <td>131.500000</td>\n",
       "      <td>133.000000</td>\n",
       "      <td>127.250000</td>\n",
       "      <td>127.250000</td>\n",
       "      <td>73.772598</td>\n",
       "      <td>517141</td>\n",
       "      <td>0.0</td>\n",
       "      <td>0.0</td>\n",
       "    </tr>\n",
       "    <tr>\n",
       "      <th>2007-01-04</th>\n",
       "      <td>125.000000</td>\n",
       "      <td>127.000000</td>\n",
       "      <td>121.750000</td>\n",
       "      <td>122.250000</td>\n",
       "      <td>70.873871</td>\n",
       "      <td>679753</td>\n",
       "      <td>0.0</td>\n",
       "      <td>0.0</td>\n",
       "    </tr>\n",
       "    <tr>\n",
       "      <th>2007-01-05</th>\n",
       "      <td>118.000000</td>\n",
       "      <td>121.250000</td>\n",
       "      <td>115.000000</td>\n",
       "      <td>120.500000</td>\n",
       "      <td>69.859299</td>\n",
       "      <td>1503804</td>\n",
       "      <td>0.0</td>\n",
       "      <td>0.0</td>\n",
       "    </tr>\n",
       "    <tr>\n",
       "      <th>2007-01-08</th>\n",
       "      <td>121.500000</td>\n",
       "      <td>124.500000</td>\n",
       "      <td>121.500000</td>\n",
       "      <td>123.750000</td>\n",
       "      <td>71.743469</td>\n",
       "      <td>547970</td>\n",
       "      <td>0.0</td>\n",
       "      <td>0.0</td>\n",
       "    </tr>\n",
       "    <tr>\n",
       "      <th>...</th>\n",
       "      <td>...</td>\n",
       "      <td>...</td>\n",
       "      <td>...</td>\n",
       "      <td>...</td>\n",
       "      <td>...</td>\n",
       "      <td>...</td>\n",
       "      <td>...</td>\n",
       "      <td>...</td>\n",
       "    </tr>\n",
       "    <tr>\n",
       "      <th>2018-11-30</th>\n",
       "      <td>245.600006</td>\n",
       "      <td>245.600006</td>\n",
       "      <td>238.600006</td>\n",
       "      <td>240.300003</td>\n",
       "      <td>196.626358</td>\n",
       "      <td>510342</td>\n",
       "      <td>0.0</td>\n",
       "      <td>0.0</td>\n",
       "    </tr>\n",
       "    <tr>\n",
       "      <th>2018-12-03</th>\n",
       "      <td>245.899994</td>\n",
       "      <td>255.600006</td>\n",
       "      <td>245.800003</td>\n",
       "      <td>251.800003</td>\n",
       "      <td>206.036270</td>\n",
       "      <td>346959</td>\n",
       "      <td>0.0</td>\n",
       "      <td>0.0</td>\n",
       "    </tr>\n",
       "    <tr>\n",
       "      <th>2018-12-04</th>\n",
       "      <td>252.100006</td>\n",
       "      <td>254.899994</td>\n",
       "      <td>248.199997</td>\n",
       "      <td>249.300003</td>\n",
       "      <td>203.990646</td>\n",
       "      <td>411592</td>\n",
       "      <td>0.0</td>\n",
       "      <td>0.0</td>\n",
       "    </tr>\n",
       "    <tr>\n",
       "      <th>2018-12-05</th>\n",
       "      <td>245.000000</td>\n",
       "      <td>245.000000</td>\n",
       "      <td>235.000000</td>\n",
       "      <td>240.000000</td>\n",
       "      <td>196.380920</td>\n",
       "      <td>266876</td>\n",
       "      <td>0.0</td>\n",
       "      <td>0.0</td>\n",
       "    </tr>\n",
       "    <tr>\n",
       "      <th>2018-12-06</th>\n",
       "      <td>236.100006</td>\n",
       "      <td>237.399994</td>\n",
       "      <td>226.100006</td>\n",
       "      <td>227.399994</td>\n",
       "      <td>186.070877</td>\n",
       "      <td>463687</td>\n",
       "      <td>0.0</td>\n",
       "      <td>0.0</td>\n",
       "    </tr>\n",
       "  </tbody>\n",
       "</table>\n",
       "<p>3000 rows × 8 columns</p>\n",
       "</div>"
      ],
      "text/plain": [
       "                  Open        High         Low       Close   Adj Close  \\\n",
       "Date                                                                     \n",
       "2007-01-02  127.000000  133.000000  127.000000  132.000000   76.526367   \n",
       "2007-01-03  131.500000  133.000000  127.250000  127.250000   73.772598   \n",
       "2007-01-04  125.000000  127.000000  121.750000  122.250000   70.873871   \n",
       "2007-01-05  118.000000  121.250000  115.000000  120.500000   69.859299   \n",
       "2007-01-08  121.500000  124.500000  121.500000  123.750000   71.743469   \n",
       "...                ...         ...         ...         ...         ...   \n",
       "2018-11-30  245.600006  245.600006  238.600006  240.300003  196.626358   \n",
       "2018-12-03  245.899994  255.600006  245.800003  251.800003  206.036270   \n",
       "2018-12-04  252.100006  254.899994  248.199997  249.300003  203.990646   \n",
       "2018-12-05  245.000000  245.000000  235.000000  240.000000  196.380920   \n",
       "2018-12-06  236.100006  237.399994  226.100006  227.399994  186.070877   \n",
       "\n",
       "             Volume  Dividends  Stock Splits  \n",
       "Date                                          \n",
       "2007-01-02   420128        0.0           0.0  \n",
       "2007-01-03   517141        0.0           0.0  \n",
       "2007-01-04   679753        0.0           0.0  \n",
       "2007-01-05  1503804        0.0           0.0  \n",
       "2007-01-08   547970        0.0           0.0  \n",
       "...             ...        ...           ...  \n",
       "2018-11-30   510342        0.0           0.0  \n",
       "2018-12-03   346959        0.0           0.0  \n",
       "2018-12-04   411592        0.0           0.0  \n",
       "2018-12-05   266876        0.0           0.0  \n",
       "2018-12-06   463687        0.0           0.0  \n",
       "\n",
       "[3000 rows x 8 columns]"
      ]
     },
     "execution_count": 185,
     "metadata": {},
     "output_type": "execute_result"
    }
   ],
   "source": [
    "df = pd.read_csv(file_name,index_col='Date',parse_dates=True)\n",
    "df"
   ]
  },
  {
   "cell_type": "code",
   "execution_count": 186,
   "metadata": {},
   "outputs": [
    {
     "data": {
      "text/plain": [
       "<Axes: xlabel='Date'>"
      ]
     },
     "execution_count": 186,
     "metadata": {},
     "output_type": "execute_result"
    },
    {
     "data": {
      "image/png": "[encoded data removed]",
      "text/plain": [
       "<Figure size 640x480 with 1 Axes>"
      ]
     },
     "metadata": {},
     "output_type": "display_data"
    }
   ],
   "source": [
    "close_df=df['Close'].copy()\n",
    "close_df.plot()"
   ]
  },
  {
   "cell_type": "code",
   "execution_count": 187,
   "metadata": {},
   "outputs": [],
   "source": [
    "def df_to_X_y(df, window_size=5):\n",
    "  df_as_np = df.to_numpy()\n",
    "  X = []\n",
    "  y = []\n",
    "  for i in range(len(df_as_np)-window_size):\n",
    "    row = [[a] for a in df_as_np[i:i+window_size]]\n",
    "    X.append(row)\n",
    "    label = df_as_np[i+window_size]\n",
    "    y.append(label)\n",
    "  return np.array(X), np.array(y)"
   ]
  },
  {
   "cell_type": "code",
   "execution_count": 188,
   "metadata": {},
   "outputs": [
    {
     "data": {
      "text/plain": [
       "((2995, 5, 1), (2995,))"
      ]
     },
     "execution_count": 188,
     "metadata": {},
     "output_type": "execute_result"
    }
   ],
   "source": [
    "n_features=1\n",
    "n_inputs=5\n",
    "X1, y1 = df_to_X_y(close_df, n_inputs)\n",
    "X1.shape, y1.shape"
   ]
  },
  {
   "cell_type": "code",
   "execution_count": 205,
   "metadata": {},
   "outputs": [
    {
     "data": {
      "text/plain": [
       "((2600, 5, 1), (2600,), (300, 5, 1), (300,))"
      ]
     },
     "execution_count": 205,
     "metadata": {},
     "output_type": "execute_result"
    }
   ],
   "source": [
    "split_index=300\n",
    "val_index=2900\n",
    "\n",
    "X_train1, y_train1 = X1[split_index:val_index], y1[split_index:val_index]\n",
    "X_val1, y_val1 = X1[:split_index], y1[:split_index]\n",
    "X_test1,y_test1=X1[val_index:],y1[val_index:]\n",
    "X_train1.shape, y_train1.shape, X_val1.shape, y_val1.shape, "
   ]
  },
  {
   "cell_type": "code",
   "execution_count": 190,
   "metadata": {},
   "outputs": [
    {
     "name": "stdout",
     "output_type": "stream",
     "text": [
      "(2500, 5, 1)\n"
     ]
    }
   ],
   "source": [
    "print(X_train1.shape)"
   ]
  },
  {
   "cell_type": "code",
   "execution_count": 191,
   "metadata": {},
   "outputs": [
    {
     "name": "stdout",
     "output_type": "stream",
     "text": [
      "Model: \"sequential_11\"\n",
      "_________________________________________________________________\n",
      " Layer (type)                Output Shape              Param #   \n",
      "=================================================================\n",
      " lstm_6 (LSTM)               (None, 120)               58560     \n",
      "                                                                 \n",
      " dense_28 (Dense)            (None, 32)                3872      \n",
      "                                                                 \n",
      " dense_29 (Dense)            (None, 32)                1056      \n",
      "                                                                 \n",
      " dense_30 (Dense)            (None, 1)                 33        \n",
      "                                                                 \n",
      "=================================================================\n",
      "Total params: 63521 (248.13 KB)\n",
      "Trainable params: 63521 (248.13 KB)\n",
      "Non-trainable params: 0 (0.00 Byte)\n",
      "_________________________________________________________________\n"
     ]
    }
   ],
   "source": [
    "from tensorflow.keras import layers\n",
    "\n",
    "model1 = Sequential([layers.Input((n_inputs, 1)),\n",
    "                    layers.LSTM(120),\n",
    "                    layers.Dense(32, activation='relu'),\n",
    "                    layers.Dense(32, activation='relu'),\n",
    "                    layers.Dense(1)])\n",
    "\n",
    "model1.summary()"
   ]
  },
  {
   "cell_type": "code",
   "execution_count": 192,
   "metadata": {},
   "outputs": [],
   "source": [
    "cp1 = ModelCheckpoint('model1/', save_best_only=True)\n",
    "model1.compile(loss=MeanSquaredError(), optimizer=Adam(learning_rate=0.0001), metrics=[RootMeanSquaredError()])"
   ]
  },
  {
   "cell_type": "code",
   "execution_count": 193,
   "metadata": {},
   "outputs": [
    {
     "name": "stdout",
     "output_type": "stream",
     "text": [
      "Epoch 1/500\n",
      "74/79 [===========================>..] - ETA: 0s - loss: 19911.4336 - root_mean_squared_error: 141.1079INFO:tensorflow:Assets written to: model1\\assets\n"
     ]
    },
    {
     "name": "stderr",
     "output_type": "stream",
     "text": [
      "INFO:tensorflow:Assets written to: model1\\assets\n"
     ]
    },
    {
     "name": "stdout",
     "output_type": "stream",
     "text": [
      "79/79 [==============================] - 7s 56ms/step - loss: 19875.3672 - root_mean_squared_error: 140.9800 - val_loss: 42346.8594 - val_root_mean_squared_error: 205.7835\n",
      "Epoch 2/500\n",
      "74/79 [===========================>..] - ETA: 0s - loss: 19325.7305 - root_mean_squared_error: 139.0170INFO:tensorflow:Assets written to: model1\\assets\n"
     ]
    },
    {
     "name": "stderr",
     "output_type": "stream",
     "text": [
      "INFO:tensorflow:Assets written to: model1\\assets\n"
     ]
    },
    {
     "name": "stdout",
     "output_type": "stream",
     "text": [
      "79/79 [==============================] - 4s 55ms/step - loss: 19322.3086 - root_mean_squared_error: 139.0047 - val_loss: 41093.9648 - val_root_mean_squared_error: 202.7165\n",
      "Epoch 3/500\n",
      "77/79 [============================>.] - ETA: 0s - loss: 17875.1328 - root_mean_squared_error: 133.6979INFO:tensorflow:Assets written to: model1\\assets\n"
     ]
    },
    {
     "name": "stderr",
     "output_type": "stream",
     "text": [
      "INFO:tensorflow:Assets written to: model1\\assets\n"
     ]
    },
    {
     "name": "stdout",
     "output_type": "stream",
     "text": [
      "79/79 [==============================] - 4s 46ms/step - loss: 17878.2070 - root_mean_squared_error: 133.7094 - val_loss: 38010.9961 - val_root_mean_squared_error: 194.9641\n",
      "Epoch 4/500\n",
      "72/79 [==========================>...] - ETA: 0s - loss: 14778.6133 - root_mean_squared_error: 121.5673INFO:tensorflow:Assets written to: model1\\assets\n"
     ]
    },
    {
     "name": "stderr",
     "output_type": "stream",
     "text": [
      "INFO:tensorflow:Assets written to: model1\\assets\n"
     ]
    },
    {
     "name": "stdout",
     "output_type": "stream",
     "text": [
      "79/79 [==============================] - 4s 46ms/step - loss: 14602.4092 - root_mean_squared_error: 120.8404 - val_loss: 31160.7129 - val_root_mean_squared_error: 176.5240\n",
      "Epoch 5/500\n",
      "74/79 [===========================>..] - ETA: 0s - loss: 9714.4756 - root_mean_squared_error: 98.5620 INFO:tensorflow:Assets written to: model1\\assets\n"
     ]
    },
    {
     "name": "stderr",
     "output_type": "stream",
     "text": [
      "INFO:tensorflow:Assets written to: model1\\assets\n"
     ]
    },
    {
     "name": "stdout",
     "output_type": "stream",
     "text": [
      "79/79 [==============================] - 4s 45ms/step - loss: 9636.8740 - root_mean_squared_error: 98.1676 - val_loss: 22507.3145 - val_root_mean_squared_error: 150.0244\n",
      "Epoch 6/500\n",
      "75/79 [===========================>..] - ETA: 0s - loss: 6131.2930 - root_mean_squared_error: 78.3026INFO:tensorflow:Assets written to: model1\\assets\n"
     ]
    },
    {
     "name": "stderr",
     "output_type": "stream",
     "text": [
      "INFO:tensorflow:Assets written to: model1\\assets\n"
     ]
    },
    {
     "name": "stdout",
     "output_type": "stream",
     "text": [
      "79/79 [==============================] - 4s 45ms/step - loss: 6068.8628 - root_mean_squared_error: 77.9029 - val_loss: 16526.1797 - val_root_mean_squared_error: 128.5542\n",
      "Epoch 7/500\n",
      "78/79 [============================>.] - ETA: 0s - loss: 3957.6919 - root_mean_squared_error: 62.9102INFO:tensorflow:Assets written to: model1\\assets\n"
     ]
    },
    {
     "name": "stderr",
     "output_type": "stream",
     "text": [
      "INFO:tensorflow:Assets written to: model1\\assets\n"
     ]
    },
    {
     "name": "stdout",
     "output_type": "stream",
     "text": [
      "79/79 [==============================] - 4s 53ms/step - loss: 3951.6587 - root_mean_squared_error: 62.8622 - val_loss: 12402.0820 - val_root_mean_squared_error: 111.3646\n",
      "Epoch 8/500\n",
      "74/79 [===========================>..] - ETA: 0s - loss: 2480.3672 - root_mean_squared_error: 49.8033INFO:tensorflow:Assets written to: model1\\assets\n"
     ]
    },
    {
     "name": "stderr",
     "output_type": "stream",
     "text": [
      "INFO:tensorflow:Assets written to: model1\\assets\n"
     ]
    },
    {
     "name": "stdout",
     "output_type": "stream",
     "text": [
      "79/79 [==============================] - 4s 45ms/step - loss: 2454.2498 - root_mean_squared_error: 49.5404 - val_loss: 9209.9609 - val_root_mean_squared_error: 95.9685\n",
      "Epoch 9/500\n",
      "72/79 [==========================>...] - ETA: 0s - loss: 1446.1298 - root_mean_squared_error: 38.0280INFO:tensorflow:Assets written to: model1\\assets\n"
     ]
    },
    {
     "name": "stderr",
     "output_type": "stream",
     "text": [
      "INFO:tensorflow:Assets written to: model1\\assets\n"
     ]
    },
    {
     "name": "stdout",
     "output_type": "stream",
     "text": [
      "79/79 [==============================] - 4s 50ms/step - loss: 1452.9694 - root_mean_squared_error: 38.1178 - val_loss: 6873.5425 - val_root_mean_squared_error: 82.9068\n",
      "Epoch 10/500\n",
      "77/79 [============================>.] - ETA: 0s - loss: 874.2837 - root_mean_squared_error: 29.5683INFO:tensorflow:Assets written to: model1\\assets\n"
     ]
    },
    {
     "name": "stderr",
     "output_type": "stream",
     "text": [
      "INFO:tensorflow:Assets written to: model1\\assets\n"
     ]
    },
    {
     "name": "stdout",
     "output_type": "stream",
     "text": [
      "79/79 [==============================] - 4s 47ms/step - loss: 868.6167 - root_mean_squared_error: 29.4723 - val_loss: 5207.8833 - val_root_mean_squared_error: 72.1657\n",
      "Epoch 11/500\n",
      "74/79 [===========================>..] - ETA: 0s - loss: 543.9249 - root_mean_squared_error: 23.3222INFO:tensorflow:Assets written to: model1\\assets\n"
     ]
    },
    {
     "name": "stderr",
     "output_type": "stream",
     "text": [
      "INFO:tensorflow:Assets written to: model1\\assets\n"
     ]
    },
    {
     "name": "stdout",
     "output_type": "stream",
     "text": [
      "79/79 [==============================] - 5s 59ms/step - loss: 534.2245 - root_mean_squared_error: 23.1133 - val_loss: 4099.8369 - val_root_mean_squared_error: 64.0300\n",
      "Epoch 12/500\n",
      "77/79 [============================>.] - ETA: 0s - loss: 341.6125 - root_mean_squared_error: 18.4828INFO:tensorflow:Assets written to: model1\\assets\n"
     ]
    },
    {
     "name": "stderr",
     "output_type": "stream",
     "text": [
      "INFO:tensorflow:Assets written to: model1\\assets\n"
     ]
    },
    {
     "name": "stdout",
     "output_type": "stream",
     "text": [
      "79/79 [==============================] - 4s 46ms/step - loss: 339.2597 - root_mean_squared_error: 18.4190 - val_loss: 3331.1733 - val_root_mean_squared_error: 57.7163\n",
      "Epoch 13/500\n",
      "78/79 [============================>.] - ETA: 0s - loss: 223.6279 - root_mean_squared_error: 14.9542INFO:tensorflow:Assets written to: model1\\assets\n"
     ]
    },
    {
     "name": "stderr",
     "output_type": "stream",
     "text": [
      "INFO:tensorflow:Assets written to: model1\\assets\n"
     ]
    },
    {
     "name": "stdout",
     "output_type": "stream",
     "text": [
      "79/79 [==============================] - 4s 48ms/step - loss: 223.3429 - root_mean_squared_error: 14.9447 - val_loss: 2807.5256 - val_root_mean_squared_error: 52.9861\n",
      "Epoch 14/500\n",
      "77/79 [============================>.] - ETA: 0s - loss: 156.3233 - root_mean_squared_error: 12.5029INFO:tensorflow:Assets written to: model1\\assets\n"
     ]
    },
    {
     "name": "stderr",
     "output_type": "stream",
     "text": [
      "INFO:tensorflow:Assets written to: model1\\assets\n"
     ]
    },
    {
     "name": "stdout",
     "output_type": "stream",
     "text": [
      "79/79 [==============================] - 4s 45ms/step - loss: 155.4733 - root_mean_squared_error: 12.4689 - val_loss: 2440.2253 - val_root_mean_squared_error: 49.3986\n",
      "Epoch 15/500\n",
      "74/79 [===========================>..] - ETA: 0s - loss: 111.5925 - root_mean_squared_error: 10.5637INFO:tensorflow:Assets written to: model1\\assets\n"
     ]
    },
    {
     "name": "stderr",
     "output_type": "stream",
     "text": [
      "INFO:tensorflow:Assets written to: model1\\assets\n"
     ]
    },
    {
     "name": "stdout",
     "output_type": "stream",
     "text": [
      "79/79 [==============================] - 4s 45ms/step - loss: 111.7195 - root_mean_squared_error: 10.5697 - val_loss: 2166.1833 - val_root_mean_squared_error: 46.5423\n",
      "Epoch 16/500\n",
      "73/79 [==========================>...] - ETA: 0s - loss: 86.1434 - root_mean_squared_error: 9.2813INFO:tensorflow:Assets written to: model1\\assets\n"
     ]
    },
    {
     "name": "stderr",
     "output_type": "stream",
     "text": [
      "INFO:tensorflow:Assets written to: model1\\assets\n"
     ]
    },
    {
     "name": "stdout",
     "output_type": "stream",
     "text": [
      "79/79 [==============================] - 4s 51ms/step - loss: 84.6955 - root_mean_squared_error: 9.2030 - val_loss: 1968.7262 - val_root_mean_squared_error: 44.3703\n",
      "Epoch 17/500\n",
      "77/79 [============================>.] - ETA: 0s - loss: 66.6070 - root_mean_squared_error: 8.1613INFO:tensorflow:Assets written to: model1\\assets\n"
     ]
    },
    {
     "name": "stderr",
     "output_type": "stream",
     "text": [
      "INFO:tensorflow:Assets written to: model1\\assets\n"
     ]
    },
    {
     "name": "stdout",
     "output_type": "stream",
     "text": [
      "79/79 [==============================] - 4s 48ms/step - loss: 66.6734 - root_mean_squared_error: 8.1654 - val_loss: 1818.8665 - val_root_mean_squared_error: 42.6482\n",
      "Epoch 18/500\n",
      "71/79 [=========================>....] - ETA: 0s - loss: 55.7852 - root_mean_squared_error: 7.4689INFO:tensorflow:Assets written to: model1\\assets\n"
     ]
    },
    {
     "name": "stderr",
     "output_type": "stream",
     "text": [
      "INFO:tensorflow:Assets written to: model1\\assets\n"
     ]
    },
    {
     "name": "stdout",
     "output_type": "stream",
     "text": [
      "79/79 [==============================] - 4s 45ms/step - loss: 54.2351 - root_mean_squared_error: 7.3644 - val_loss: 1698.9625 - val_root_mean_squared_error: 41.2185\n",
      "Epoch 19/500\n",
      "78/79 [============================>.] - ETA: 0s - loss: 45.7105 - root_mean_squared_error: 6.7610INFO:tensorflow:Assets written to: model1\\assets\n"
     ]
    },
    {
     "name": "stderr",
     "output_type": "stream",
     "text": [
      "INFO:tensorflow:Assets written to: model1\\assets\n"
     ]
    },
    {
     "name": "stdout",
     "output_type": "stream",
     "text": [
      "79/79 [==============================] - 4s 49ms/step - loss: 45.6526 - root_mean_squared_error: 6.7567 - val_loss: 1605.7734 - val_root_mean_squared_error: 40.0721\n",
      "Epoch 20/500\n",
      "77/79 [============================>.] - ETA: 0s - loss: 39.4967 - root_mean_squared_error: 6.2846INFO:tensorflow:Assets written to: model1\\assets\n"
     ]
    },
    {
     "name": "stderr",
     "output_type": "stream",
     "text": [
      "INFO:tensorflow:Assets written to: model1\\assets\n"
     ]
    },
    {
     "name": "stdout",
     "output_type": "stream",
     "text": [
      "79/79 [==============================] - 4s 46ms/step - loss: 39.3514 - root_mean_squared_error: 6.2731 - val_loss: 1527.0077 - val_root_mean_squared_error: 39.0769\n",
      "Epoch 21/500\n",
      "75/79 [===========================>..] - ETA: 0s - loss: 33.8672 - root_mean_squared_error: 5.8196INFO:tensorflow:Assets written to: model1\\assets\n"
     ]
    },
    {
     "name": "stderr",
     "output_type": "stream",
     "text": [
      "INFO:tensorflow:Assets written to: model1\\assets\n"
     ]
    },
    {
     "name": "stdout",
     "output_type": "stream",
     "text": [
      "79/79 [==============================] - 5s 59ms/step - loss: 34.2019 - root_mean_squared_error: 5.8482 - val_loss: 1458.2688 - val_root_mean_squared_error: 38.1873\n",
      "Epoch 22/500\n",
      "77/79 [============================>.] - ETA: 0s - loss: 30.6189 - root_mean_squared_error: 5.5334INFO:tensorflow:Assets written to: model1\\assets\n"
     ]
    },
    {
     "name": "stderr",
     "output_type": "stream",
     "text": [
      "INFO:tensorflow:Assets written to: model1\\assets\n"
     ]
    },
    {
     "name": "stdout",
     "output_type": "stream",
     "text": [
      "79/79 [==============================] - 4s 55ms/step - loss: 30.4528 - root_mean_squared_error: 5.5184 - val_loss: 1394.2500 - val_root_mean_squared_error: 37.3397\n",
      "Epoch 23/500\n",
      "77/79 [============================>.] - ETA: 0s - loss: 27.5485 - root_mean_squared_error: 5.2487INFO:tensorflow:Assets written to: model1\\assets\n"
     ]
    },
    {
     "name": "stderr",
     "output_type": "stream",
     "text": [
      "INFO:tensorflow:Assets written to: model1\\assets\n"
     ]
    },
    {
     "name": "stdout",
     "output_type": "stream",
     "text": [
      "79/79 [==============================] - 4s 47ms/step - loss: 27.5902 - root_mean_squared_error: 5.2526 - val_loss: 1343.5128 - val_root_mean_squared_error: 36.6540\n",
      "Epoch 24/500\n",
      "70/79 [=========================>....] - ETA: 0s - loss: 25.2427 - root_mean_squared_error: 5.0242INFO:tensorflow:Assets written to: model1\\assets\n"
     ]
    },
    {
     "name": "stderr",
     "output_type": "stream",
     "text": [
      "INFO:tensorflow:Assets written to: model1\\assets\n"
     ]
    },
    {
     "name": "stdout",
     "output_type": "stream",
     "text": [
      "79/79 [==============================] - 3s 44ms/step - loss: 25.3888 - root_mean_squared_error: 5.0387 - val_loss: 1296.7009 - val_root_mean_squared_error: 36.0097\n",
      "Epoch 25/500\n",
      "67/79 [========================>.....] - ETA: 0s - loss: 23.8886 - root_mean_squared_error: 4.8876INFO:tensorflow:Assets written to: model1\\assets\n"
     ]
    },
    {
     "name": "stderr",
     "output_type": "stream",
     "text": [
      "INFO:tensorflow:Assets written to: model1\\assets\n"
     ]
    },
    {
     "name": "stdout",
     "output_type": "stream",
     "text": [
      "79/79 [==============================] - 4s 46ms/step - loss: 23.8678 - root_mean_squared_error: 4.8855 - val_loss: 1256.5179 - val_root_mean_squared_error: 35.4474\n",
      "Epoch 26/500\n",
      "69/79 [=========================>....] - ETA: 0s - loss: 21.8457 - root_mean_squared_error: 4.6739INFO:tensorflow:Assets written to: model1\\assets\n"
     ]
    },
    {
     "name": "stderr",
     "output_type": "stream",
     "text": [
      "INFO:tensorflow:Assets written to: model1\\assets\n"
     ]
    },
    {
     "name": "stdout",
     "output_type": "stream",
     "text": [
      "79/79 [==============================] - 4s 55ms/step - loss: 22.0072 - root_mean_squared_error: 4.6912 - val_loss: 1219.3070 - val_root_mean_squared_error: 34.9186\n",
      "Epoch 27/500\n",
      "74/79 [===========================>..] - ETA: 0s - loss: 20.1897 - root_mean_squared_error: 4.4933INFO:tensorflow:Assets written to: model1\\assets\n"
     ]
    },
    {
     "name": "stderr",
     "output_type": "stream",
     "text": [
      "INFO:tensorflow:Assets written to: model1\\assets\n"
     ]
    },
    {
     "name": "stdout",
     "output_type": "stream",
     "text": [
      "79/79 [==============================] - 4s 49ms/step - loss: 20.1948 - root_mean_squared_error: 4.4939 - val_loss: 1185.1545 - val_root_mean_squared_error: 34.4261\n",
      "Epoch 28/500\n",
      "77/79 [============================>.] - ETA: 0s - loss: 19.3308 - root_mean_squared_error: 4.3967INFO:tensorflow:Assets written to: model1\\assets\n"
     ]
    },
    {
     "name": "stderr",
     "output_type": "stream",
     "text": [
      "INFO:tensorflow:Assets written to: model1\\assets\n"
     ]
    },
    {
     "name": "stdout",
     "output_type": "stream",
     "text": [
      "79/79 [==============================] - 4s 45ms/step - loss: 19.2892 - root_mean_squared_error: 4.3919 - val_loss: 1152.4762 - val_root_mean_squared_error: 33.9481\n",
      "Epoch 29/500\n",
      "74/79 [===========================>..] - ETA: 0s - loss: 18.3154 - root_mean_squared_error: 4.2797INFO:tensorflow:Assets written to: model1\\assets\n"
     ]
    },
    {
     "name": "stderr",
     "output_type": "stream",
     "text": [
      "INFO:tensorflow:Assets written to: model1\\assets\n"
     ]
    },
    {
     "name": "stdout",
     "output_type": "stream",
     "text": [
      "79/79 [==============================] - 3s 45ms/step - loss: 18.2415 - root_mean_squared_error: 4.2710 - val_loss: 1122.0667 - val_root_mean_squared_error: 33.4973\n",
      "Epoch 30/500\n",
      "77/79 [============================>.] - ETA: 0s - loss: 17.3975 - root_mean_squared_error: 4.1710INFO:tensorflow:Assets written to: model1\\assets\n"
     ]
    },
    {
     "name": "stderr",
     "output_type": "stream",
     "text": [
      "INFO:tensorflow:Assets written to: model1\\assets\n"
     ]
    },
    {
     "name": "stdout",
     "output_type": "stream",
     "text": [
      "79/79 [==============================] - 3s 44ms/step - loss: 17.5261 - root_mean_squared_error: 4.1864 - val_loss: 1097.4692 - val_root_mean_squared_error: 33.1281\n",
      "Epoch 31/500\n",
      "77/79 [============================>.] - ETA: 0s - loss: 16.8192 - root_mean_squared_error: 4.1011INFO:tensorflow:Assets written to: model1\\assets\n"
     ]
    },
    {
     "name": "stderr",
     "output_type": "stream",
     "text": [
      "INFO:tensorflow:Assets written to: model1\\assets\n"
     ]
    },
    {
     "name": "stdout",
     "output_type": "stream",
     "text": [
      "79/79 [==============================] - 4s 51ms/step - loss: 16.7554 - root_mean_squared_error: 4.0933 - val_loss: 1069.1587 - val_root_mean_squared_error: 32.6980\n",
      "Epoch 32/500\n",
      "78/79 [============================>.] - ETA: 0s - loss: 16.3522 - root_mean_squared_error: 4.0438INFO:tensorflow:Assets written to: model1\\assets\n"
     ]
    },
    {
     "name": "stderr",
     "output_type": "stream",
     "text": [
      "INFO:tensorflow:Assets written to: model1\\assets\n"
     ]
    },
    {
     "name": "stdout",
     "output_type": "stream",
     "text": [
      "79/79 [==============================] - 4s 48ms/step - loss: 16.3281 - root_mean_squared_error: 4.0408 - val_loss: 1047.1428 - val_root_mean_squared_error: 32.3596\n",
      "Epoch 33/500\n",
      "77/79 [============================>.] - ETA: 0s - loss: 16.3859 - root_mean_squared_error: 4.0479INFO:tensorflow:Assets written to: model1\\assets\n"
     ]
    },
    {
     "name": "stderr",
     "output_type": "stream",
     "text": [
      "INFO:tensorflow:Assets written to: model1\\assets\n"
     ]
    },
    {
     "name": "stdout",
     "output_type": "stream",
     "text": [
      "79/79 [==============================] - 4s 49ms/step - loss: 16.3750 - root_mean_squared_error: 4.0466 - val_loss: 1023.4611 - val_root_mean_squared_error: 31.9916\n",
      "Epoch 34/500\n",
      "72/79 [==========================>...] - ETA: 0s - loss: 15.4111 - root_mean_squared_error: 3.9257INFO:tensorflow:Assets written to: model1\\assets\n"
     ]
    },
    {
     "name": "stderr",
     "output_type": "stream",
     "text": [
      "INFO:tensorflow:Assets written to: model1\\assets\n"
     ]
    },
    {
     "name": "stdout",
     "output_type": "stream",
     "text": [
      "79/79 [==============================] - 4s 47ms/step - loss: 15.3876 - root_mean_squared_error: 3.9227 - val_loss: 1001.2770 - val_root_mean_squared_error: 31.6430\n",
      "Epoch 35/500\n",
      "72/79 [==========================>...] - ETA: 0s - loss: 15.1320 - root_mean_squared_error: 3.8900INFO:tensorflow:Assets written to: model1\\assets\n"
     ]
    },
    {
     "name": "stderr",
     "output_type": "stream",
     "text": [
      "INFO:tensorflow:Assets written to: model1\\assets\n"
     ]
    },
    {
     "name": "stdout",
     "output_type": "stream",
     "text": [
      "79/79 [==============================] - 4s 48ms/step - loss: 15.0612 - root_mean_squared_error: 3.8809 - val_loss: 981.6355 - val_root_mean_squared_error: 31.3311\n",
      "Epoch 36/500\n",
      "70/79 [=========================>....] - ETA: 0s - loss: 14.9095 - root_mean_squared_error: 3.8613INFO:tensorflow:Assets written to: model1\\assets\n"
     ]
    },
    {
     "name": "stderr",
     "output_type": "stream",
     "text": [
      "INFO:tensorflow:Assets written to: model1\\assets\n"
     ]
    },
    {
     "name": "stdout",
     "output_type": "stream",
     "text": [
      "79/79 [==============================] - 5s 59ms/step - loss: 14.9139 - root_mean_squared_error: 3.8619 - val_loss: 963.6443 - val_root_mean_squared_error: 31.0426\n",
      "Epoch 37/500\n",
      "77/79 [============================>.] - ETA: 0s - loss: 14.3677 - root_mean_squared_error: 3.7905INFO:tensorflow:Assets written to: model1\\assets\n"
     ]
    },
    {
     "name": "stderr",
     "output_type": "stream",
     "text": [
      "INFO:tensorflow:Assets written to: model1\\assets\n"
     ]
    },
    {
     "name": "stdout",
     "output_type": "stream",
     "text": [
      "79/79 [==============================] - 5s 65ms/step - loss: 14.3271 - root_mean_squared_error: 3.7851 - val_loss: 946.3521 - val_root_mean_squared_error: 30.7628\n",
      "Epoch 38/500\n",
      "73/79 [==========================>...] - ETA: 0s - loss: 13.9428 - root_mean_squared_error: 3.7340INFO:tensorflow:Assets written to: model1\\assets\n"
     ]
    },
    {
     "name": "stderr",
     "output_type": "stream",
     "text": [
      "INFO:tensorflow:Assets written to: model1\\assets\n"
     ]
    },
    {
     "name": "stdout",
     "output_type": "stream",
     "text": [
      "79/79 [==============================] - 5s 63ms/step - loss: 14.0126 - root_mean_squared_error: 3.7433 - val_loss: 931.1473 - val_root_mean_squared_error: 30.5147\n",
      "Epoch 39/500\n",
      "79/79 [==============================] - ETA: 0s - loss: 13.8576 - root_mean_squared_error: 3.7226INFO:tensorflow:Assets written to: model1\\assets\n"
     ]
    },
    {
     "name": "stderr",
     "output_type": "stream",
     "text": [
      "INFO:tensorflow:Assets written to: model1\\assets\n"
     ]
    },
    {
     "name": "stdout",
     "output_type": "stream",
     "text": [
      "79/79 [==============================] - 4s 56ms/step - loss: 13.8576 - root_mean_squared_error: 3.7226 - val_loss: 916.8755 - val_root_mean_squared_error: 30.2800\n",
      "Epoch 40/500\n",
      "79/79 [==============================] - ETA: 0s - loss: 13.6692 - root_mean_squared_error: 3.6972INFO:tensorflow:Assets written to: model1\\assets\n"
     ]
    },
    {
     "name": "stderr",
     "output_type": "stream",
     "text": [
      "INFO:tensorflow:Assets written to: model1\\assets\n"
     ]
    },
    {
     "name": "stdout",
     "output_type": "stream",
     "text": [
      "79/79 [==============================] - 5s 67ms/step - loss: 13.6692 - root_mean_squared_error: 3.6972 - val_loss: 900.0394 - val_root_mean_squared_error: 30.0007\n",
      "Epoch 41/500\n",
      "78/79 [============================>.] - ETA: 0s - loss: 13.4083 - root_mean_squared_error: 3.6617INFO:tensorflow:Assets written to: model1\\assets\n"
     ]
    },
    {
     "name": "stderr",
     "output_type": "stream",
     "text": [
      "INFO:tensorflow:Assets written to: model1\\assets\n"
     ]
    },
    {
     "name": "stdout",
     "output_type": "stream",
     "text": [
      "79/79 [==============================] - 5s 61ms/step - loss: 13.3996 - root_mean_squared_error: 3.6606 - val_loss: 886.8881 - val_root_mean_squared_error: 29.7807\n",
      "Epoch 42/500\n",
      "76/79 [===========================>..] - ETA: 0s - loss: 13.6358 - root_mean_squared_error: 3.6927INFO:tensorflow:Assets written to: model1\\assets\n"
     ]
    },
    {
     "name": "stderr",
     "output_type": "stream",
     "text": [
      "INFO:tensorflow:Assets written to: model1\\assets\n"
     ]
    },
    {
     "name": "stdout",
     "output_type": "stream",
     "text": [
      "79/79 [==============================] - 4s 51ms/step - loss: 13.5259 - root_mean_squared_error: 3.6778 - val_loss: 875.2307 - val_root_mean_squared_error: 29.5843\n",
      "Epoch 43/500\n",
      "76/79 [===========================>..] - ETA: 0s - loss: 12.9916 - root_mean_squared_error: 3.6044INFO:tensorflow:Assets written to: model1\\assets\n"
     ]
    },
    {
     "name": "stderr",
     "output_type": "stream",
     "text": [
      "INFO:tensorflow:Assets written to: model1\\assets\n"
     ]
    },
    {
     "name": "stdout",
     "output_type": "stream",
     "text": [
      "79/79 [==============================] - 4s 51ms/step - loss: 13.2590 - root_mean_squared_error: 3.6413 - val_loss: 860.9172 - val_root_mean_squared_error: 29.3414\n",
      "Epoch 44/500\n",
      "71/79 [=========================>....] - ETA: 0s - loss: 12.9366 - root_mean_squared_error: 3.5968INFO:tensorflow:Assets written to: model1\\assets\n"
     ]
    },
    {
     "name": "stderr",
     "output_type": "stream",
     "text": [
      "INFO:tensorflow:Assets written to: model1\\assets\n"
     ]
    },
    {
     "name": "stdout",
     "output_type": "stream",
     "text": [
      "79/79 [==============================] - 5s 62ms/step - loss: 13.2940 - root_mean_squared_error: 3.6461 - val_loss: 850.1404 - val_root_mean_squared_error: 29.1572\n",
      "Epoch 45/500\n",
      "78/79 [============================>.] - ETA: 0s - loss: 13.1126 - root_mean_squared_error: 3.6211INFO:tensorflow:Assets written to: model1\\assets\n"
     ]
    },
    {
     "name": "stderr",
     "output_type": "stream",
     "text": [
      "INFO:tensorflow:Assets written to: model1\\assets\n"
     ]
    },
    {
     "name": "stdout",
     "output_type": "stream",
     "text": [
      "79/79 [==============================] - 5s 62ms/step - loss: 13.1001 - root_mean_squared_error: 3.6194 - val_loss: 838.0103 - val_root_mean_squared_error: 28.9484\n",
      "Epoch 46/500\n",
      "78/79 [============================>.] - ETA: 0s - loss: 13.0166 - root_mean_squared_error: 3.6079INFO:tensorflow:Assets written to: model1\\assets\n"
     ]
    },
    {
     "name": "stderr",
     "output_type": "stream",
     "text": [
      "INFO:tensorflow:Assets written to: model1\\assets\n"
     ]
    },
    {
     "name": "stdout",
     "output_type": "stream",
     "text": [
      "79/79 [==============================] - 4s 53ms/step - loss: 13.0523 - root_mean_squared_error: 3.6128 - val_loss: 830.8875 - val_root_mean_squared_error: 28.8251\n",
      "Epoch 47/500\n",
      "78/79 [============================>.] - ETA: 0s - loss: 13.0488 - root_mean_squared_error: 3.6123INFO:tensorflow:Assets written to: model1\\assets\n"
     ]
    },
    {
     "name": "stderr",
     "output_type": "stream",
     "text": [
      "INFO:tensorflow:Assets written to: model1\\assets\n"
     ]
    },
    {
     "name": "stdout",
     "output_type": "stream",
     "text": [
      "79/79 [==============================] - 4s 52ms/step - loss: 13.0335 - root_mean_squared_error: 3.6102 - val_loss: 815.4183 - val_root_mean_squared_error: 28.5555\n",
      "Epoch 48/500\n",
      "75/79 [===========================>..] - ETA: 0s - loss: 12.8887 - root_mean_squared_error: 3.5901INFO:tensorflow:Assets written to: model1\\assets\n"
     ]
    },
    {
     "name": "stderr",
     "output_type": "stream",
     "text": [
      "INFO:tensorflow:Assets written to: model1\\assets\n"
     ]
    },
    {
     "name": "stdout",
     "output_type": "stream",
     "text": [
      "79/79 [==============================] - 4s 49ms/step - loss: 12.8958 - root_mean_squared_error: 3.5911 - val_loss: 806.4810 - val_root_mean_squared_error: 28.3986\n",
      "Epoch 49/500\n",
      "71/79 [=========================>....] - ETA: 0s - loss: 12.9124 - root_mean_squared_error: 3.5934INFO:tensorflow:Assets written to: model1\\assets\n"
     ]
    },
    {
     "name": "stderr",
     "output_type": "stream",
     "text": [
      "INFO:tensorflow:Assets written to: model1\\assets\n"
     ]
    },
    {
     "name": "stdout",
     "output_type": "stream",
     "text": [
      "79/79 [==============================] - 4s 49ms/step - loss: 12.9727 - root_mean_squared_error: 3.6018 - val_loss: 797.1582 - val_root_mean_squared_error: 28.2340\n",
      "Epoch 50/500\n",
      "75/79 [===========================>..] - ETA: 0s - loss: 12.7648 - root_mean_squared_error: 3.5728INFO:tensorflow:Assets written to: model1\\assets\n"
     ]
    },
    {
     "name": "stderr",
     "output_type": "stream",
     "text": [
      "INFO:tensorflow:Assets written to: model1\\assets\n"
     ]
    },
    {
     "name": "stdout",
     "output_type": "stream",
     "text": [
      "79/79 [==============================] - 5s 60ms/step - loss: 12.8835 - root_mean_squared_error: 3.5894 - val_loss: 787.3448 - val_root_mean_squared_error: 28.0597\n",
      "Epoch 51/500\n",
      "76/79 [===========================>..] - ETA: 0s - loss: 12.9995 - root_mean_squared_error: 3.6055INFO:tensorflow:Assets written to: model1\\assets\n"
     ]
    },
    {
     "name": "stderr",
     "output_type": "stream",
     "text": [
      "INFO:tensorflow:Assets written to: model1\\assets\n"
     ]
    },
    {
     "name": "stdout",
     "output_type": "stream",
     "text": [
      "79/79 [==============================] - 4s 53ms/step - loss: 12.9172 - root_mean_squared_error: 3.5941 - val_loss: 779.0071 - val_root_mean_squared_error: 27.9107\n",
      "Epoch 52/500\n",
      "79/79 [==============================] - ETA: 0s - loss: 12.7934 - root_mean_squared_error: 3.5768INFO:tensorflow:Assets written to: model1\\assets\n"
     ]
    },
    {
     "name": "stderr",
     "output_type": "stream",
     "text": [
      "INFO:tensorflow:Assets written to: model1\\assets\n"
     ]
    },
    {
     "name": "stdout",
     "output_type": "stream",
     "text": [
      "79/79 [==============================] - 4s 52ms/step - loss: 12.7934 - root_mean_squared_error: 3.5768 - val_loss: 771.3632 - val_root_mean_squared_error: 27.7734\n",
      "Epoch 53/500\n",
      "73/79 [==========================>...] - ETA: 0s - loss: 12.3831 - root_mean_squared_error: 3.5190INFO:tensorflow:Assets written to: model1\\assets\n"
     ]
    },
    {
     "name": "stderr",
     "output_type": "stream",
     "text": [
      "INFO:tensorflow:Assets written to: model1\\assets\n"
     ]
    },
    {
     "name": "stdout",
     "output_type": "stream",
     "text": [
      "79/79 [==============================] - 4s 47ms/step - loss: 12.4748 - root_mean_squared_error: 3.5320 - val_loss: 764.3970 - val_root_mean_squared_error: 27.6477\n",
      "Epoch 54/500\n",
      "74/79 [===========================>..] - ETA: 0s - loss: 12.7303 - root_mean_squared_error: 3.5679INFO:tensorflow:Assets written to: model1\\assets\n"
     ]
    },
    {
     "name": "stderr",
     "output_type": "stream",
     "text": [
      "INFO:tensorflow:Assets written to: model1\\assets\n"
     ]
    },
    {
     "name": "stdout",
     "output_type": "stream",
     "text": [
      "79/79 [==============================] - 4s 50ms/step - loss: 12.6053 - root_mean_squared_error: 3.5504 - val_loss: 758.4472 - val_root_mean_squared_error: 27.5399\n",
      "Epoch 55/500\n",
      "73/79 [==========================>...] - ETA: 0s - loss: 12.4015 - root_mean_squared_error: 3.5216INFO:tensorflow:Assets written to: model1\\assets\n"
     ]
    },
    {
     "name": "stderr",
     "output_type": "stream",
     "text": [
      "INFO:tensorflow:Assets written to: model1\\assets\n"
     ]
    },
    {
     "name": "stdout",
     "output_type": "stream",
     "text": [
      "79/79 [==============================] - 5s 69ms/step - loss: 12.5320 - root_mean_squared_error: 3.5401 - val_loss: 750.5580 - val_root_mean_squared_error: 27.3963\n",
      "Epoch 56/500\n",
      "78/79 [============================>.] - ETA: 0s - loss: 12.5397 - root_mean_squared_error: 3.5411INFO:tensorflow:Assets written to: model1\\assets\n"
     ]
    },
    {
     "name": "stderr",
     "output_type": "stream",
     "text": [
      "INFO:tensorflow:Assets written to: model1\\assets\n"
     ]
    },
    {
     "name": "stdout",
     "output_type": "stream",
     "text": [
      "79/79 [==============================] - 4s 49ms/step - loss: 12.5287 - root_mean_squared_error: 3.5396 - val_loss: 744.8370 - val_root_mean_squared_error: 27.2917\n",
      "Epoch 57/500\n",
      "73/79 [==========================>...] - ETA: 0s - loss: 12.3878 - root_mean_squared_error: 3.5196INFO:tensorflow:Assets written to: model1\\assets\n"
     ]
    },
    {
     "name": "stderr",
     "output_type": "stream",
     "text": [
      "INFO:tensorflow:Assets written to: model1\\assets\n"
     ]
    },
    {
     "name": "stdout",
     "output_type": "stream",
     "text": [
      "79/79 [==============================] - 4s 47ms/step - loss: 12.4601 - root_mean_squared_error: 3.5299 - val_loss: 741.2139 - val_root_mean_squared_error: 27.2252\n",
      "Epoch 58/500\n",
      "78/79 [============================>.] - ETA: 0s - loss: 12.5338 - root_mean_squared_error: 3.5403INFO:tensorflow:Assets written to: model1\\assets\n"
     ]
    },
    {
     "name": "stderr",
     "output_type": "stream",
     "text": [
      "INFO:tensorflow:Assets written to: model1\\assets\n"
     ]
    },
    {
     "name": "stdout",
     "output_type": "stream",
     "text": [
      "79/79 [==============================] - 4s 45ms/step - loss: 12.5795 - root_mean_squared_error: 3.5468 - val_loss: 737.0388 - val_root_mean_squared_error: 27.1485\n",
      "Epoch 59/500\n",
      "70/79 [=========================>....] - ETA: 0s - loss: 12.7465 - root_mean_squared_error: 3.5702INFO:tensorflow:Assets written to: model1\\assets\n"
     ]
    },
    {
     "name": "stderr",
     "output_type": "stream",
     "text": [
      "INFO:tensorflow:Assets written to: model1\\assets\n"
     ]
    },
    {
     "name": "stdout",
     "output_type": "stream",
     "text": [
      "79/79 [==============================] - 3s 45ms/step - loss: 12.4893 - root_mean_squared_error: 3.5340 - val_loss: 726.9938 - val_root_mean_squared_error: 26.9628\n",
      "Epoch 60/500\n",
      "73/79 [==========================>...] - ETA: 0s - loss: 12.5016 - root_mean_squared_error: 3.5358INFO:tensorflow:Assets written to: model1\\assets\n"
     ]
    },
    {
     "name": "stderr",
     "output_type": "stream",
     "text": [
      "INFO:tensorflow:Assets written to: model1\\assets\n"
     ]
    },
    {
     "name": "stdout",
     "output_type": "stream",
     "text": [
      "79/79 [==============================] - 4s 51ms/step - loss: 12.3460 - root_mean_squared_error: 3.5137 - val_loss: 722.2442 - val_root_mean_squared_error: 26.8746\n",
      "Epoch 61/500\n",
      "79/79 [==============================] - ETA: 0s - loss: 12.2270 - root_mean_squared_error: 3.4967INFO:tensorflow:Assets written to: model1\\assets\n"
     ]
    },
    {
     "name": "stderr",
     "output_type": "stream",
     "text": [
      "INFO:tensorflow:Assets written to: model1\\assets\n"
     ]
    },
    {
     "name": "stdout",
     "output_type": "stream",
     "text": [
      "79/79 [==============================] - 3s 45ms/step - loss: 12.2270 - root_mean_squared_error: 3.4967 - val_loss: 717.0089 - val_root_mean_squared_error: 26.7770\n",
      "Epoch 62/500\n",
      "76/79 [===========================>..] - ETA: 0s - loss: 12.2976 - root_mean_squared_error: 3.5068INFO:tensorflow:Assets written to: model1\\assets\n"
     ]
    },
    {
     "name": "stderr",
     "output_type": "stream",
     "text": [
      "INFO:tensorflow:Assets written to: model1\\assets\n"
     ]
    },
    {
     "name": "stdout",
     "output_type": "stream",
     "text": [
      "79/79 [==============================] - 4s 47ms/step - loss: 12.3750 - root_mean_squared_error: 3.5178 - val_loss: 710.6031 - val_root_mean_squared_error: 26.6571\n",
      "Epoch 63/500\n",
      "75/79 [===========================>..] - ETA: 0s - loss: 12.3764 - root_mean_squared_error: 3.5180INFO:tensorflow:Assets written to: model1\\assets\n"
     ]
    },
    {
     "name": "stderr",
     "output_type": "stream",
     "text": [
      "INFO:tensorflow:Assets written to: model1\\assets\n"
     ]
    },
    {
     "name": "stdout",
     "output_type": "stream",
     "text": [
      "79/79 [==============================] - 4s 45ms/step - loss: 12.3855 - root_mean_squared_error: 3.5193 - val_loss: 707.2750 - val_root_mean_squared_error: 26.5946\n",
      "Epoch 64/500\n",
      "78/79 [============================>.] - ETA: 0s - loss: 12.4584 - root_mean_squared_error: 3.5296INFO:tensorflow:Assets written to: model1\\assets\n"
     ]
    },
    {
     "name": "stderr",
     "output_type": "stream",
     "text": [
      "INFO:tensorflow:Assets written to: model1\\assets\n"
     ]
    },
    {
     "name": "stdout",
     "output_type": "stream",
     "text": [
      "79/79 [==============================] - 4s 45ms/step - loss: 12.4565 - root_mean_squared_error: 3.5294 - val_loss: 700.5641 - val_root_mean_squared_error: 26.4682\n",
      "Epoch 65/500\n",
      "75/79 [===========================>..] - ETA: 0s - loss: 12.4242 - root_mean_squared_error: 3.5248INFO:tensorflow:Assets written to: model1\\assets\n"
     ]
    },
    {
     "name": "stderr",
     "output_type": "stream",
     "text": [
      "INFO:tensorflow:Assets written to: model1\\assets\n"
     ]
    },
    {
     "name": "stdout",
     "output_type": "stream",
     "text": [
      "79/79 [==============================] - 4s 52ms/step - loss: 12.3847 - root_mean_squared_error: 3.5192 - val_loss: 696.6965 - val_root_mean_squared_error: 26.3950\n",
      "Epoch 66/500\n",
      "72/79 [==========================>...] - ETA: 0s - loss: 12.1839 - root_mean_squared_error: 3.4905INFO:tensorflow:Assets written to: model1\\assets\n"
     ]
    },
    {
     "name": "stderr",
     "output_type": "stream",
     "text": [
      "INFO:tensorflow:Assets written to: model1\\assets\n"
     ]
    },
    {
     "name": "stdout",
     "output_type": "stream",
     "text": [
      "79/79 [==============================] - 3s 44ms/step - loss: 12.1525 - root_mean_squared_error: 3.4861 - val_loss: 694.2584 - val_root_mean_squared_error: 26.3488\n",
      "Epoch 67/500\n",
      "71/79 [=========================>....] - ETA: 0s - loss: 12.4411 - root_mean_squared_error: 3.5272INFO:tensorflow:Assets written to: model1\\assets\n"
     ]
    },
    {
     "name": "stderr",
     "output_type": "stream",
     "text": [
      "INFO:tensorflow:Assets written to: model1\\assets\n"
     ]
    },
    {
     "name": "stdout",
     "output_type": "stream",
     "text": [
      "79/79 [==============================] - 4s 45ms/step - loss: 12.1929 - root_mean_squared_error: 3.4918 - val_loss: 686.5847 - val_root_mean_squared_error: 26.2028\n",
      "Epoch 68/500\n",
      "75/79 [===========================>..] - ETA: 0s - loss: 12.4490 - root_mean_squared_error: 3.5283INFO:tensorflow:Assets written to: model1\\assets\n"
     ]
    },
    {
     "name": "stderr",
     "output_type": "stream",
     "text": [
      "INFO:tensorflow:Assets written to: model1\\assets\n"
     ]
    },
    {
     "name": "stdout",
     "output_type": "stream",
     "text": [
      "79/79 [==============================] - 4s 47ms/step - loss: 12.2743 - root_mean_squared_error: 3.5035 - val_loss: 683.5134 - val_root_mean_squared_error: 26.1441\n",
      "Epoch 69/500\n",
      "72/79 [==========================>...] - ETA: 0s - loss: 12.5054 - root_mean_squared_error: 3.5363INFO:tensorflow:Assets written to: model1\\assets\n"
     ]
    },
    {
     "name": "stderr",
     "output_type": "stream",
     "text": [
      "INFO:tensorflow:Assets written to: model1\\assets\n"
     ]
    },
    {
     "name": "stdout",
     "output_type": "stream",
     "text": [
      "79/79 [==============================] - 4s 53ms/step - loss: 12.3916 - root_mean_squared_error: 3.5202 - val_loss: 679.0291 - val_root_mean_squared_error: 26.0582\n",
      "Epoch 70/500\n",
      "77/79 [============================>.] - ETA: 0s - loss: 12.4506 - root_mean_squared_error: 3.5285INFO:tensorflow:Assets written to: model1\\assets\n"
     ]
    },
    {
     "name": "stderr",
     "output_type": "stream",
     "text": [
      "INFO:tensorflow:Assets written to: model1\\assets\n"
     ]
    },
    {
     "name": "stdout",
     "output_type": "stream",
     "text": [
      "79/79 [==============================] - 4s 45ms/step - loss: 12.5170 - root_mean_squared_error: 3.5379 - val_loss: 677.7098 - val_root_mean_squared_error: 26.0329\n",
      "Epoch 71/500\n",
      "73/79 [==========================>...] - ETA: 0s - loss: 12.1523 - root_mean_squared_error: 3.4860INFO:tensorflow:Assets written to: model1\\assets\n"
     ]
    },
    {
     "name": "stderr",
     "output_type": "stream",
     "text": [
      "INFO:tensorflow:Assets written to: model1\\assets\n"
     ]
    },
    {
     "name": "stdout",
     "output_type": "stream",
     "text": [
      "79/79 [==============================] - 4s 45ms/step - loss: 12.2853 - root_mean_squared_error: 3.5050 - val_loss: 673.9615 - val_root_mean_squared_error: 25.9608\n",
      "Epoch 72/500\n",
      "74/79 [===========================>..] - ETA: 0s - loss: 11.9825 - root_mean_squared_error: 3.4616INFO:tensorflow:Assets written to: model1\\assets\n"
     ]
    },
    {
     "name": "stderr",
     "output_type": "stream",
     "text": [
      "INFO:tensorflow:Assets written to: model1\\assets\n"
     ]
    },
    {
     "name": "stdout",
     "output_type": "stream",
     "text": [
      "79/79 [==============================] - 4s 45ms/step - loss: 12.3509 - root_mean_squared_error: 3.5144 - val_loss: 670.8465 - val_root_mean_squared_error: 25.9007\n",
      "Epoch 73/500\n",
      "79/79 [==============================] - ETA: 0s - loss: 12.5290 - root_mean_squared_error: 3.5396INFO:tensorflow:Assets written to: model1\\assets\n"
     ]
    },
    {
     "name": "stderr",
     "output_type": "stream",
     "text": [
      "INFO:tensorflow:Assets written to: model1\\assets\n"
     ]
    },
    {
     "name": "stdout",
     "output_type": "stream",
     "text": [
      "79/79 [==============================] - 3s 45ms/step - loss: 12.5290 - root_mean_squared_error: 3.5396 - val_loss: 665.2944 - val_root_mean_squared_error: 25.7933\n",
      "Epoch 74/500\n",
      "79/79 [==============================] - 1s 8ms/step - loss: 12.3171 - root_mean_squared_error: 3.5096 - val_loss: 669.5475 - val_root_mean_squared_error: 25.8756\n",
      "Epoch 75/500\n",
      "76/79 [===========================>..] - ETA: 0s - loss: 12.3436 - root_mean_squared_error: 3.5133INFO:tensorflow:Assets written to: model1\\assets\n"
     ]
    },
    {
     "name": "stderr",
     "output_type": "stream",
     "text": [
      "INFO:tensorflow:Assets written to: model1\\assets\n"
     ]
    },
    {
     "name": "stdout",
     "output_type": "stream",
     "text": [
      "79/79 [==============================] - 4s 57ms/step - loss: 12.2883 - root_mean_squared_error: 3.5055 - val_loss: 662.8645 - val_root_mean_squared_error: 25.7462\n",
      "Epoch 76/500\n",
      "78/79 [============================>.] - ETA: 0s - loss: 12.2199 - root_mean_squared_error: 3.4957INFO:tensorflow:Assets written to: model1\\assets\n"
     ]
    },
    {
     "name": "stderr",
     "output_type": "stream",
     "text": [
      "INFO:tensorflow:Assets written to: model1\\assets\n"
     ]
    },
    {
     "name": "stdout",
     "output_type": "stream",
     "text": [
      "79/79 [==============================] - 4s 49ms/step - loss: 12.2316 - root_mean_squared_error: 3.4974 - val_loss: 656.4456 - val_root_mean_squared_error: 25.6212\n",
      "Epoch 77/500\n",
      "76/79 [===========================>..] - ETA: 0s - loss: 12.3762 - root_mean_squared_error: 3.5180INFO:tensorflow:Assets written to: model1\\assets\n"
     ]
    },
    {
     "name": "stderr",
     "output_type": "stream",
     "text": [
      "INFO:tensorflow:Assets written to: model1\\assets\n"
     ]
    },
    {
     "name": "stdout",
     "output_type": "stream",
     "text": [
      "79/79 [==============================] - 4s 48ms/step - loss: 12.2885 - root_mean_squared_error: 3.5055 - val_loss: 652.5024 - val_root_mean_squared_error: 25.5441\n",
      "Epoch 78/500\n",
      "79/79 [==============================] - ETA: 0s - loss: 12.4311 - root_mean_squared_error: 3.5258INFO:tensorflow:Assets written to: model1\\assets\n"
     ]
    },
    {
     "name": "stderr",
     "output_type": "stream",
     "text": [
      "INFO:tensorflow:Assets written to: model1\\assets\n"
     ]
    },
    {
     "name": "stdout",
     "output_type": "stream",
     "text": [
      "79/79 [==============================] - 3s 45ms/step - loss: 12.4311 - root_mean_squared_error: 3.5258 - val_loss: 647.8571 - val_root_mean_squared_error: 25.4530\n",
      "Epoch 79/500\n",
      "79/79 [==============================] - 1s 7ms/step - loss: 12.3773 - root_mean_squared_error: 3.5181 - val_loss: 648.0662 - val_root_mean_squared_error: 25.4571\n",
      "Epoch 80/500\n",
      "76/79 [===========================>..] - ETA: 0s - loss: 12.2956 - root_mean_squared_error: 3.5065INFO:tensorflow:Assets written to: model1\\assets\n"
     ]
    },
    {
     "name": "stderr",
     "output_type": "stream",
     "text": [
      "INFO:tensorflow:Assets written to: model1\\assets\n"
     ]
    },
    {
     "name": "stdout",
     "output_type": "stream",
     "text": [
      "79/79 [==============================] - 3s 45ms/step - loss: 12.2100 - root_mean_squared_error: 3.4943 - val_loss: 644.4652 - val_root_mean_squared_error: 25.3863\n",
      "Epoch 81/500\n",
      "79/79 [==============================] - ETA: 0s - loss: 12.5075 - root_mean_squared_error: 3.5366INFO:tensorflow:Assets written to: model1\\assets\n"
     ]
    },
    {
     "name": "stderr",
     "output_type": "stream",
     "text": [
      "INFO:tensorflow:Assets written to: model1\\assets\n"
     ]
    },
    {
     "name": "stdout",
     "output_type": "stream",
     "text": [
      "79/79 [==============================] - 4s 54ms/step - loss: 12.5075 - root_mean_squared_error: 3.5366 - val_loss: 643.0667 - val_root_mean_squared_error: 25.3588\n",
      "Epoch 82/500\n",
      "79/79 [==============================] - 1s 7ms/step - loss: 12.1946 - root_mean_squared_error: 3.4921 - val_loss: 643.5975 - val_root_mean_squared_error: 25.3692\n",
      "Epoch 83/500\n",
      "79/79 [==============================] - ETA: 0s - loss: 12.5618 - root_mean_squared_error: 3.5443INFO:tensorflow:Assets written to: model1\\assets\n"
     ]
    },
    {
     "name": "stderr",
     "output_type": "stream",
     "text": [
      "INFO:tensorflow:Assets written to: model1\\assets\n"
     ]
    },
    {
     "name": "stdout",
     "output_type": "stream",
     "text": [
      "79/79 [==============================] - 4s 46ms/step - loss: 12.5618 - root_mean_squared_error: 3.5443 - val_loss: 641.7020 - val_root_mean_squared_error: 25.3318\n",
      "Epoch 84/500\n",
      "77/79 [============================>.] - ETA: 0s - loss: 12.3078 - root_mean_squared_error: 3.5082INFO:tensorflow:Assets written to: model1\\assets\n"
     ]
    },
    {
     "name": "stderr",
     "output_type": "stream",
     "text": [
      "INFO:tensorflow:Assets written to: model1\\assets\n"
     ]
    },
    {
     "name": "stdout",
     "output_type": "stream",
     "text": [
      "79/79 [==============================] - 3s 45ms/step - loss: 12.3043 - root_mean_squared_error: 3.5077 - val_loss: 635.6433 - val_root_mean_squared_error: 25.2120\n",
      "Epoch 85/500\n",
      "78/79 [============================>.] - ETA: 0s - loss: 12.2593 - root_mean_squared_error: 3.5013INFO:tensorflow:Assets written to: model1\\assets\n"
     ]
    },
    {
     "name": "stderr",
     "output_type": "stream",
     "text": [
      "INFO:tensorflow:Assets written to: model1\\assets\n"
     ]
    },
    {
     "name": "stdout",
     "output_type": "stream",
     "text": [
      "79/79 [==============================] - 4s 45ms/step - loss: 12.2447 - root_mean_squared_error: 3.4992 - val_loss: 633.2173 - val_root_mean_squared_error: 25.1638\n",
      "Epoch 86/500\n",
      "67/79 [========================>.....] - ETA: 0s - loss: 12.4924 - root_mean_squared_error: 3.5345INFO:tensorflow:Assets written to: model1\\assets\n"
     ]
    },
    {
     "name": "stderr",
     "output_type": "stream",
     "text": [
      "INFO:tensorflow:Assets written to: model1\\assets\n"
     ]
    },
    {
     "name": "stdout",
     "output_type": "stream",
     "text": [
      "79/79 [==============================] - 4s 45ms/step - loss: 12.3282 - root_mean_squared_error: 3.5112 - val_loss: 629.8840 - val_root_mean_squared_error: 25.0975\n",
      "Epoch 87/500\n",
      "79/79 [==============================] - 1s 7ms/step - loss: 12.2819 - root_mean_squared_error: 3.5046 - val_loss: 633.0677 - val_root_mean_squared_error: 25.1608\n",
      "Epoch 88/500\n",
      "79/79 [==============================] - 1s 6ms/step - loss: 12.1959 - root_mean_squared_error: 3.4923 - val_loss: 632.4444 - val_root_mean_squared_error: 25.1484\n",
      "Epoch 89/500\n",
      "79/79 [==============================] - 0s 6ms/step - loss: 12.1339 - root_mean_squared_error: 3.4834 - val_loss: 630.5304 - val_root_mean_squared_error: 25.1104\n",
      "Epoch 90/500\n",
      "70/79 [=========================>....] - ETA: 0s - loss: 12.5375 - root_mean_squared_error: 3.5408INFO:tensorflow:Assets written to: model1\\assets\n"
     ]
    },
    {
     "name": "stderr",
     "output_type": "stream",
     "text": [
      "INFO:tensorflow:Assets written to: model1\\assets\n"
     ]
    },
    {
     "name": "stdout",
     "output_type": "stream",
     "text": [
      "79/79 [==============================] - 4s 56ms/step - loss: 12.3787 - root_mean_squared_error: 3.5183 - val_loss: 623.3917 - val_root_mean_squared_error: 24.9678\n",
      "Epoch 91/500\n",
      "74/79 [===========================>..] - ETA: 0s - loss: 12.0782 - root_mean_squared_error: 3.4754INFO:tensorflow:Assets written to: model1\\assets\n"
     ]
    },
    {
     "name": "stderr",
     "output_type": "stream",
     "text": [
      "INFO:tensorflow:Assets written to: model1\\assets\n"
     ]
    },
    {
     "name": "stdout",
     "output_type": "stream",
     "text": [
      "79/79 [==============================] - 4s 49ms/step - loss: 12.1834 - root_mean_squared_error: 3.4905 - val_loss: 623.0997 - val_root_mean_squared_error: 24.9620\n",
      "Epoch 92/500\n",
      "79/79 [==============================] - ETA: 0s - loss: 12.2646 - root_mean_squared_error: 3.5021INFO:tensorflow:Assets written to: model1\\assets\n"
     ]
    },
    {
     "name": "stderr",
     "output_type": "stream",
     "text": [
      "INFO:tensorflow:Assets written to: model1\\assets\n"
     ]
    },
    {
     "name": "stdout",
     "output_type": "stream",
     "text": [
      "79/79 [==============================] - 4s 46ms/step - loss: 12.2646 - root_mean_squared_error: 3.5021 - val_loss: 622.5483 - val_root_mean_squared_error: 24.9509\n",
      "Epoch 93/500\n",
      "77/79 [============================>.] - ETA: 0s - loss: 12.3380 - root_mean_squared_error: 3.5126INFO:tensorflow:Assets written to: model1\\assets\n"
     ]
    },
    {
     "name": "stderr",
     "output_type": "stream",
     "text": [
      "INFO:tensorflow:Assets written to: model1\\assets\n"
     ]
    },
    {
     "name": "stdout",
     "output_type": "stream",
     "text": [
      "79/79 [==============================] - 4s 46ms/step - loss: 12.3362 - root_mean_squared_error: 3.5123 - val_loss: 614.7943 - val_root_mean_squared_error: 24.7950\n",
      "Epoch 94/500\n",
      "79/79 [==============================] - 1s 7ms/step - loss: 12.3586 - root_mean_squared_error: 3.5155 - val_loss: 616.0306 - val_root_mean_squared_error: 24.8200\n",
      "Epoch 95/500\n",
      "71/79 [=========================>....] - ETA: 0s - loss: 12.3912 - root_mean_squared_error: 3.5201INFO:tensorflow:Assets written to: model1\\assets\n"
     ]
    },
    {
     "name": "stderr",
     "output_type": "stream",
     "text": [
      "INFO:tensorflow:Assets written to: model1\\assets\n"
     ]
    },
    {
     "name": "stdout",
     "output_type": "stream",
     "text": [
      "79/79 [==============================] - 4s 47ms/step - loss: 12.3190 - root_mean_squared_error: 3.5098 - val_loss: 613.9456 - val_root_mean_squared_error: 24.7779\n",
      "Epoch 96/500\n",
      "78/79 [============================>.] - ETA: 0s - loss: 12.2345 - root_mean_squared_error: 3.4978INFO:tensorflow:Assets written to: model1\\assets\n"
     ]
    },
    {
     "name": "stderr",
     "output_type": "stream",
     "text": [
      "INFO:tensorflow:Assets written to: model1\\assets\n"
     ]
    },
    {
     "name": "stdout",
     "output_type": "stream",
     "text": [
      "79/79 [==============================] - 4s 53ms/step - loss: 12.2228 - root_mean_squared_error: 3.4961 - val_loss: 612.5714 - val_root_mean_squared_error: 24.7502\n",
      "Epoch 97/500\n",
      "79/79 [==============================] - ETA: 0s - loss: 12.2432 - root_mean_squared_error: 3.4990INFO:tensorflow:Assets written to: model1\\assets\n"
     ]
    },
    {
     "name": "stderr",
     "output_type": "stream",
     "text": [
      "INFO:tensorflow:Assets written to: model1\\assets\n"
     ]
    },
    {
     "name": "stdout",
     "output_type": "stream",
     "text": [
      "79/79 [==============================] - 4s 45ms/step - loss: 12.2432 - root_mean_squared_error: 3.4990 - val_loss: 606.8705 - val_root_mean_squared_error: 24.6347\n",
      "Epoch 98/500\n",
      "79/79 [==============================] - 1s 7ms/step - loss: 12.2026 - root_mean_squared_error: 3.4932 - val_loss: 611.2872 - val_root_mean_squared_error: 24.7242\n",
      "Epoch 99/500\n",
      "76/79 [===========================>..] - ETA: 0s - loss: 11.9330 - root_mean_squared_error: 3.4544INFO:tensorflow:Assets written to: model1\\assets\n"
     ]
    },
    {
     "name": "stderr",
     "output_type": "stream",
     "text": [
      "INFO:tensorflow:Assets written to: model1\\assets\n"
     ]
    },
    {
     "name": "stdout",
     "output_type": "stream",
     "text": [
      "79/79 [==============================] - 3s 44ms/step - loss: 12.2427 - root_mean_squared_error: 3.4990 - val_loss: 606.0623 - val_root_mean_squared_error: 24.6183\n",
      "Epoch 100/500\n",
      "79/79 [==============================] - 1s 8ms/step - loss: 12.1705 - root_mean_squared_error: 3.4886 - val_loss: 607.9556 - val_root_mean_squared_error: 24.6568\n",
      "Epoch 101/500\n",
      "79/79 [==============================] - 1s 9ms/step - loss: 12.1034 - root_mean_squared_error: 3.4790 - val_loss: 608.5618 - val_root_mean_squared_error: 24.6690\n",
      "Epoch 102/500\n",
      "70/79 [=========================>....] - ETA: 0s - loss: 12.4556 - root_mean_squared_error: 3.5293INFO:tensorflow:Assets written to: model1\\assets\n"
     ]
    },
    {
     "name": "stderr",
     "output_type": "stream",
     "text": [
      "INFO:tensorflow:Assets written to: model1\\assets\n"
     ]
    },
    {
     "name": "stdout",
     "output_type": "stream",
     "text": [
      "79/79 [==============================] - 3s 44ms/step - loss: 12.2616 - root_mean_squared_error: 3.5017 - val_loss: 601.1852 - val_root_mean_squared_error: 24.5191\n",
      "Epoch 103/500\n",
      "73/79 [==========================>...] - ETA: 0s - loss: 12.5460 - root_mean_squared_error: 3.5420INFO:tensorflow:Assets written to: model1\\assets\n"
     ]
    },
    {
     "name": "stderr",
     "output_type": "stream",
     "text": [
      "INFO:tensorflow:Assets written to: model1\\assets\n"
     ]
    },
    {
     "name": "stdout",
     "output_type": "stream",
     "text": [
      "79/79 [==============================] - 4s 46ms/step - loss: 12.3574 - root_mean_squared_error: 3.5153 - val_loss: 600.3708 - val_root_mean_squared_error: 24.5025\n",
      "Epoch 104/500\n",
      "79/79 [==============================] - 1s 7ms/step - loss: 12.0704 - root_mean_squared_error: 3.4742 - val_loss: 603.3130 - val_root_mean_squared_error: 24.5624\n",
      "Epoch 105/500\n",
      "79/79 [==============================] - 1s 7ms/step - loss: 12.3285 - root_mean_squared_error: 3.5112 - val_loss: 600.5355 - val_root_mean_squared_error: 24.5058\n",
      "Epoch 106/500\n",
      "79/79 [==============================] - 1s 7ms/step - loss: 12.0788 - root_mean_squared_error: 3.4755 - val_loss: 602.5857 - val_root_mean_squared_error: 24.5476\n",
      "Epoch 107/500\n",
      "79/79 [==============================] - 1s 7ms/step - loss: 12.1471 - root_mean_squared_error: 3.4853 - val_loss: 601.3138 - val_root_mean_squared_error: 24.5217\n",
      "Epoch 108/500\n",
      "77/79 [============================>.] - ETA: 0s - loss: 12.2340 - root_mean_squared_error: 3.4977INFO:tensorflow:Assets written to: model1\\assets\n"
     ]
    },
    {
     "name": "stderr",
     "output_type": "stream",
     "text": [
      "INFO:tensorflow:Assets written to: model1\\assets\n"
     ]
    },
    {
     "name": "stdout",
     "output_type": "stream",
     "text": [
      "79/79 [==============================] - 4s 57ms/step - loss: 12.2508 - root_mean_squared_error: 3.5001 - val_loss: 594.5396 - val_root_mean_squared_error: 24.3832\n",
      "Epoch 109/500\n",
      "79/79 [==============================] - ETA: 0s - loss: 12.5332 - root_mean_squared_error: 3.5402INFO:tensorflow:Assets written to: model1\\assets\n"
     ]
    },
    {
     "name": "stderr",
     "output_type": "stream",
     "text": [
      "INFO:tensorflow:Assets written to: model1\\assets\n"
     ]
    },
    {
     "name": "stdout",
     "output_type": "stream",
     "text": [
      "79/79 [==============================] - 4s 51ms/step - loss: 12.5332 - root_mean_squared_error: 3.5402 - val_loss: 594.4292 - val_root_mean_squared_error: 24.3809\n",
      "Epoch 110/500\n",
      "79/79 [==============================] - 1s 8ms/step - loss: 12.3859 - root_mean_squared_error: 3.5194 - val_loss: 595.0426 - val_root_mean_squared_error: 24.3935\n",
      "Epoch 111/500\n",
      "74/79 [===========================>..] - ETA: 0s - loss: 11.9913 - root_mean_squared_error: 3.4628INFO:tensorflow:Assets written to: model1\\assets\n"
     ]
    },
    {
     "name": "stderr",
     "output_type": "stream",
     "text": [
      "INFO:tensorflow:Assets written to: model1\\assets\n"
     ]
    },
    {
     "name": "stdout",
     "output_type": "stream",
     "text": [
      "79/79 [==============================] - 3s 44ms/step - loss: 12.1287 - root_mean_squared_error: 3.4826 - val_loss: 591.2405 - val_root_mean_squared_error: 24.3154\n",
      "Epoch 112/500\n",
      "72/79 [==========================>...] - ETA: 0s - loss: 12.1233 - root_mean_squared_error: 3.4818INFO:tensorflow:Assets written to: model1\\assets\n"
     ]
    },
    {
     "name": "stderr",
     "output_type": "stream",
     "text": [
      "INFO:tensorflow:Assets written to: model1\\assets\n"
     ]
    },
    {
     "name": "stdout",
     "output_type": "stream",
     "text": [
      "79/79 [==============================] - 4s 46ms/step - loss: 12.2348 - root_mean_squared_error: 3.4978 - val_loss: 589.7020 - val_root_mean_squared_error: 24.2838\n",
      "Epoch 113/500\n",
      "79/79 [==============================] - 1s 7ms/step - loss: 12.1639 - root_mean_squared_error: 3.4877 - val_loss: 590.1603 - val_root_mean_squared_error: 24.2932\n",
      "Epoch 114/500\n",
      "79/79 [==============================] - 1s 7ms/step - loss: 12.3461 - root_mean_squared_error: 3.5137 - val_loss: 594.1749 - val_root_mean_squared_error: 24.3757\n",
      "Epoch 115/500\n",
      "72/79 [==========================>...] - ETA: 0s - loss: 12.3068 - root_mean_squared_error: 3.5081INFO:tensorflow:Assets written to: model1\\assets\n"
     ]
    },
    {
     "name": "stderr",
     "output_type": "stream",
     "text": [
      "INFO:tensorflow:Assets written to: model1\\assets\n"
     ]
    },
    {
     "name": "stdout",
     "output_type": "stream",
     "text": [
      "79/79 [==============================] - 4s 50ms/step - loss: 12.3228 - root_mean_squared_error: 3.5104 - val_loss: 589.4453 - val_root_mean_squared_error: 24.2785\n",
      "Epoch 116/500\n",
      "77/79 [============================>.] - ETA: 0s - loss: 12.4855 - root_mean_squared_error: 3.5335INFO:tensorflow:Assets written to: model1\\assets\n"
     ]
    },
    {
     "name": "stderr",
     "output_type": "stream",
     "text": [
      "INFO:tensorflow:Assets written to: model1\\assets\n"
     ]
    },
    {
     "name": "stdout",
     "output_type": "stream",
     "text": [
      "79/79 [==============================] - 4s 47ms/step - loss: 12.4136 - root_mean_squared_error: 3.5233 - val_loss: 584.1425 - val_root_mean_squared_error: 24.1690\n",
      "Epoch 117/500\n",
      "75/79 [===========================>..] - ETA: 0s - loss: 12.1616 - root_mean_squared_error: 3.4873INFO:tensorflow:Assets written to: model1\\assets\n"
     ]
    },
    {
     "name": "stderr",
     "output_type": "stream",
     "text": [
      "INFO:tensorflow:Assets written to: model1\\assets\n"
     ]
    },
    {
     "name": "stdout",
     "output_type": "stream",
     "text": [
      "79/79 [==============================] - 4s 46ms/step - loss: 12.1364 - root_mean_squared_error: 3.4837 - val_loss: 583.2329 - val_root_mean_squared_error: 24.1502\n",
      "Epoch 118/500\n",
      "71/79 [=========================>....] - ETA: 0s - loss: 12.2325 - root_mean_squared_error: 3.4975INFO:tensorflow:Assets written to: model1\\assets\n"
     ]
    },
    {
     "name": "stderr",
     "output_type": "stream",
     "text": [
      "INFO:tensorflow:Assets written to: model1\\assets\n"
     ]
    },
    {
     "name": "stdout",
     "output_type": "stream",
     "text": [
      "79/79 [==============================] - 4s 54ms/step - loss: 12.2353 - root_mean_squared_error: 3.4979 - val_loss: 579.7470 - val_root_mean_squared_error: 24.0779\n",
      "Epoch 119/500\n",
      "79/79 [==============================] - 1s 8ms/step - loss: 12.6406 - root_mean_squared_error: 3.5554 - val_loss: 591.6130 - val_root_mean_squared_error: 24.3231\n",
      "Epoch 120/500\n",
      "79/79 [==============================] - 1s 8ms/step - loss: 12.3357 - root_mean_squared_error: 3.5122 - val_loss: 589.4180 - val_root_mean_squared_error: 24.2779\n",
      "Epoch 121/500\n",
      "79/79 [==============================] - 1s 7ms/step - loss: 12.4121 - root_mean_squared_error: 3.5231 - val_loss: 581.7116 - val_root_mean_squared_error: 24.1187\n",
      "Epoch 122/500\n",
      "79/79 [==============================] - 1s 7ms/step - loss: 12.2167 - root_mean_squared_error: 3.4952 - val_loss: 585.8660 - val_root_mean_squared_error: 24.2047\n",
      "Epoch 123/500\n",
      "79/79 [==============================] - 1s 8ms/step - loss: 12.3181 - root_mean_squared_error: 3.5097 - val_loss: 582.1640 - val_root_mean_squared_error: 24.1281\n",
      "Epoch 124/500\n",
      "73/79 [==========================>...] - ETA: 0s - loss: 12.9180 - root_mean_squared_error: 3.5942INFO:tensorflow:Assets written to: model1\\assets\n"
     ]
    },
    {
     "name": "stderr",
     "output_type": "stream",
     "text": [
      "INFO:tensorflow:Assets written to: model1\\assets\n"
     ]
    },
    {
     "name": "stdout",
     "output_type": "stream",
     "text": [
      "79/79 [==============================] - 3s 44ms/step - loss: 12.7184 - root_mean_squared_error: 3.5663 - val_loss: 576.1410 - val_root_mean_squared_error: 24.0029\n",
      "Epoch 125/500\n",
      "79/79 [==============================] - 1s 8ms/step - loss: 12.2235 - root_mean_squared_error: 3.4962 - val_loss: 579.2791 - val_root_mean_squared_error: 24.0682\n",
      "Epoch 126/500\n",
      "79/79 [==============================] - 1s 8ms/step - loss: 12.2918 - root_mean_squared_error: 3.5060 - val_loss: 580.4401 - val_root_mean_squared_error: 24.0923\n",
      "Epoch 127/500\n",
      "72/79 [==========================>...] - ETA: 0s - loss: 12.3088 - root_mean_squared_error: 3.5084INFO:tensorflow:Assets written to: model1\\assets\n"
     ]
    },
    {
     "name": "stderr",
     "output_type": "stream",
     "text": [
      "INFO:tensorflow:Assets written to: model1\\assets\n"
     ]
    },
    {
     "name": "stdout",
     "output_type": "stream",
     "text": [
      "79/79 [==============================] - 4s 51ms/step - loss: 12.2427 - root_mean_squared_error: 3.4990 - val_loss: 575.4972 - val_root_mean_squared_error: 23.9895\n",
      "Epoch 128/500\n",
      "79/79 [==============================] - 1s 7ms/step - loss: 12.1706 - root_mean_squared_error: 3.4886 - val_loss: 585.4073 - val_root_mean_squared_error: 24.1952\n",
      "Epoch 129/500\n",
      "79/79 [==============================] - 1s 8ms/step - loss: 11.9797 - root_mean_squared_error: 3.4612 - val_loss: 577.2173 - val_root_mean_squared_error: 24.0253\n",
      "Epoch 130/500\n",
      "73/79 [==========================>...] - ETA: 0s - loss: 12.2404 - root_mean_squared_error: 3.4986INFO:tensorflow:Assets written to: model1\\assets\n"
     ]
    },
    {
     "name": "stderr",
     "output_type": "stream",
     "text": [
      "INFO:tensorflow:Assets written to: model1\\assets\n"
     ]
    },
    {
     "name": "stdout",
     "output_type": "stream",
     "text": [
      "79/79 [==============================] - 3s 44ms/step - loss: 12.3492 - root_mean_squared_error: 3.5141 - val_loss: 571.0358 - val_root_mean_squared_error: 23.8964\n",
      "Epoch 131/500\n",
      "79/79 [==============================] - 1s 7ms/step - loss: 12.2008 - root_mean_squared_error: 3.4930 - val_loss: 582.1566 - val_root_mean_squared_error: 24.1279\n",
      "Epoch 132/500\n",
      "79/79 [==============================] - 1s 8ms/step - loss: 12.4456 - root_mean_squared_error: 3.5278 - val_loss: 572.4565 - val_root_mean_squared_error: 23.9261\n",
      "Epoch 133/500\n",
      "79/79 [==============================] - 1s 7ms/step - loss: 12.2676 - root_mean_squared_error: 3.5025 - val_loss: 574.0916 - val_root_mean_squared_error: 23.9602\n",
      "Epoch 134/500\n",
      "79/79 [==============================] - 1s 7ms/step - loss: 12.1550 - root_mean_squared_error: 3.4864 - val_loss: 572.3394 - val_root_mean_squared_error: 23.9236\n",
      "Epoch 135/500\n",
      "79/79 [==============================] - 1s 7ms/step - loss: 12.4550 - root_mean_squared_error: 3.5292 - val_loss: 572.3519 - val_root_mean_squared_error: 23.9239\n",
      "Epoch 136/500\n",
      "74/79 [===========================>..] - ETA: 0s - loss: 12.4475 - root_mean_squared_error: 3.5281INFO:tensorflow:Assets written to: model1\\assets\n"
     ]
    },
    {
     "name": "stderr",
     "output_type": "stream",
     "text": [
      "INFO:tensorflow:Assets written to: model1\\assets\n"
     ]
    },
    {
     "name": "stdout",
     "output_type": "stream",
     "text": [
      "79/79 [==============================] - 3s 45ms/step - loss: 12.3338 - root_mean_squared_error: 3.5120 - val_loss: 569.7645 - val_root_mean_squared_error: 23.8697\n",
      "Epoch 137/500\n",
      "76/79 [===========================>..] - ETA: 0s - loss: 12.2709 - root_mean_squared_error: 3.5030INFO:tensorflow:Assets written to: model1\\assets\n"
     ]
    },
    {
     "name": "stderr",
     "output_type": "stream",
     "text": [
      "INFO:tensorflow:Assets written to: model1\\assets\n"
     ]
    },
    {
     "name": "stdout",
     "output_type": "stream",
     "text": [
      "79/79 [==============================] - 4s 45ms/step - loss: 12.1616 - root_mean_squared_error: 3.4873 - val_loss: 567.1575 - val_root_mean_squared_error: 23.8151\n",
      "Epoch 138/500\n",
      "79/79 [==============================] - 1s 8ms/step - loss: 12.2841 - root_mean_squared_error: 3.5049 - val_loss: 568.1120 - val_root_mean_squared_error: 23.8351\n",
      "Epoch 139/500\n",
      "79/79 [==============================] - 1s 7ms/step - loss: 12.1920 - root_mean_squared_error: 3.4917 - val_loss: 567.1797 - val_root_mean_squared_error: 23.8155\n",
      "Epoch 140/500\n",
      "79/79 [==============================] - 1s 7ms/step - loss: 12.5631 - root_mean_squared_error: 3.5444 - val_loss: 567.3145 - val_root_mean_squared_error: 23.8184\n",
      "Epoch 141/500\n",
      "79/79 [==============================] - 1s 8ms/step - loss: 12.1403 - root_mean_squared_error: 3.4843 - val_loss: 573.3688 - val_root_mean_squared_error: 23.9451\n",
      "Epoch 142/500\n",
      "75/79 [===========================>..] - ETA: 0s - loss: 12.1709 - root_mean_squared_error: 3.4887INFO:tensorflow:Assets written to: model1\\assets\n"
     ]
    },
    {
     "name": "stderr",
     "output_type": "stream",
     "text": [
      "INFO:tensorflow:Assets written to: model1\\assets\n"
     ]
    },
    {
     "name": "stdout",
     "output_type": "stream",
     "text": [
      "79/79 [==============================] - 3s 44ms/step - loss: 12.0764 - root_mean_squared_error: 3.4751 - val_loss: 566.8912 - val_root_mean_squared_error: 23.8095\n",
      "Epoch 143/500\n",
      "79/79 [==============================] - 1s 7ms/step - loss: 12.1196 - root_mean_squared_error: 3.4813 - val_loss: 570.6879 - val_root_mean_squared_error: 23.8891\n",
      "Epoch 144/500\n",
      "79/79 [==============================] - 1s 8ms/step - loss: 12.2005 - root_mean_squared_error: 3.4929 - val_loss: 570.1772 - val_root_mean_squared_error: 23.8784\n",
      "Epoch 145/500\n",
      "79/79 [==============================] - 1s 7ms/step - loss: 12.2585 - root_mean_squared_error: 3.5012 - val_loss: 571.1248 - val_root_mean_squared_error: 23.8982\n",
      "Epoch 146/500\n",
      "69/79 [=========================>....] - ETA: 0s - loss: 12.5528 - root_mean_squared_error: 3.5430INFO:tensorflow:Assets written to: model1\\assets\n"
     ]
    },
    {
     "name": "stderr",
     "output_type": "stream",
     "text": [
      "INFO:tensorflow:Assets written to: model1\\assets\n"
     ]
    },
    {
     "name": "stdout",
     "output_type": "stream",
     "text": [
      "79/79 [==============================] - 4s 50ms/step - loss: 12.1229 - root_mean_squared_error: 3.4818 - val_loss: 563.2292 - val_root_mean_squared_error: 23.7325\n",
      "Epoch 147/500\n",
      "79/79 [==============================] - 1s 8ms/step - loss: 12.2621 - root_mean_squared_error: 3.5017 - val_loss: 568.9422 - val_root_mean_squared_error: 23.8525\n",
      "Epoch 148/500\n",
      "79/79 [==============================] - 1s 8ms/step - loss: 12.1310 - root_mean_squared_error: 3.4830 - val_loss: 565.1085 - val_root_mean_squared_error: 23.7720\n",
      "Epoch 149/500\n",
      "79/79 [==============================] - 1s 7ms/step - loss: 12.1617 - root_mean_squared_error: 3.4874 - val_loss: 570.1216 - val_root_mean_squared_error: 23.8772\n",
      "Epoch 150/500\n",
      "79/79 [==============================] - 1s 7ms/step - loss: 12.2728 - root_mean_squared_error: 3.5032 - val_loss: 567.4883 - val_root_mean_squared_error: 23.8220\n",
      "Epoch 151/500\n",
      "79/79 [==============================] - 1s 7ms/step - loss: 12.1203 - root_mean_squared_error: 3.4814 - val_loss: 569.7950 - val_root_mean_squared_error: 23.8704\n",
      "Epoch 152/500\n",
      "73/79 [==========================>...] - ETA: 0s - loss: 12.4569 - root_mean_squared_error: 3.5294INFO:tensorflow:Assets written to: model1\\assets\n"
     ]
    },
    {
     "name": "stderr",
     "output_type": "stream",
     "text": [
      "INFO:tensorflow:Assets written to: model1\\assets\n"
     ]
    },
    {
     "name": "stdout",
     "output_type": "stream",
     "text": [
      "79/79 [==============================] - 3s 45ms/step - loss: 12.2821 - root_mean_squared_error: 3.5046 - val_loss: 562.6429 - val_root_mean_squared_error: 23.7201\n",
      "Epoch 153/500\n",
      "79/79 [==============================] - 1s 7ms/step - loss: 12.1578 - root_mean_squared_error: 3.4868 - val_loss: 562.9984 - val_root_mean_squared_error: 23.7276\n",
      "Epoch 154/500\n",
      "77/79 [============================>.] - ETA: 0s - loss: 12.1010 - root_mean_squared_error: 3.4787INFO:tensorflow:Assets written to: model1\\assets\n"
     ]
    },
    {
     "name": "stderr",
     "output_type": "stream",
     "text": [
      "INFO:tensorflow:Assets written to: model1\\assets\n"
     ]
    },
    {
     "name": "stdout",
     "output_type": "stream",
     "text": [
      "79/79 [==============================] - 4s 46ms/step - loss: 12.0326 - root_mean_squared_error: 3.4688 - val_loss: 562.4951 - val_root_mean_squared_error: 23.7170\n",
      "Epoch 155/500\n",
      "79/79 [==============================] - 1s 7ms/step - loss: 12.2842 - root_mean_squared_error: 3.5049 - val_loss: 567.8435 - val_root_mean_squared_error: 23.8295\n",
      "Epoch 156/500\n",
      "79/79 [==============================] - 1s 9ms/step - loss: 11.9867 - root_mean_squared_error: 3.4622 - val_loss: 573.0154 - val_root_mean_squared_error: 23.9377\n",
      "Epoch 157/500\n",
      "79/79 [==============================] - 1s 7ms/step - loss: 12.4286 - root_mean_squared_error: 3.5254 - val_loss: 564.3114 - val_root_mean_squared_error: 23.7552\n",
      "Epoch 158/500\n",
      "79/79 [==============================] - 1s 7ms/step - loss: 12.4435 - root_mean_squared_error: 3.5275 - val_loss: 568.2718 - val_root_mean_squared_error: 23.8385\n",
      "Epoch 159/500\n",
      "79/79 [==============================] - 1s 7ms/step - loss: 12.2854 - root_mean_squared_error: 3.5051 - val_loss: 565.5925 - val_root_mean_squared_error: 23.7822\n",
      "Epoch 160/500\n",
      "78/79 [============================>.] - ETA: 0s - loss: 12.1332 - root_mean_squared_error: 3.4833INFO:tensorflow:Assets written to: model1\\assets\n"
     ]
    },
    {
     "name": "stderr",
     "output_type": "stream",
     "text": [
      "INFO:tensorflow:Assets written to: model1\\assets\n"
     ]
    },
    {
     "name": "stdout",
     "output_type": "stream",
     "text": [
      "79/79 [==============================] - 4s 46ms/step - loss: 12.1346 - root_mean_squared_error: 3.4835 - val_loss: 561.6804 - val_root_mean_squared_error: 23.6998\n",
      "Epoch 161/500\n",
      "79/79 [==============================] - 1s 7ms/step - loss: 12.0722 - root_mean_squared_error: 3.4745 - val_loss: 563.8500 - val_root_mean_squared_error: 23.7455\n",
      "Epoch 162/500\n",
      "76/79 [===========================>..] - ETA: 0s - loss: 12.4397 - root_mean_squared_error: 3.5270INFO:tensorflow:Assets written to: model1\\assets\n"
     ]
    },
    {
     "name": "stderr",
     "output_type": "stream",
     "text": [
      "INFO:tensorflow:Assets written to: model1\\assets\n"
     ]
    },
    {
     "name": "stdout",
     "output_type": "stream",
     "text": [
      "79/79 [==============================] - 4s 45ms/step - loss: 12.4585 - root_mean_squared_error: 3.5297 - val_loss: 559.9447 - val_root_mean_squared_error: 23.6632\n",
      "Epoch 163/500\n",
      "79/79 [==============================] - 1s 8ms/step - loss: 12.2778 - root_mean_squared_error: 3.5040 - val_loss: 563.2475 - val_root_mean_squared_error: 23.7328\n",
      "Epoch 164/500\n",
      "74/79 [===========================>..] - ETA: 0s - loss: 12.3005 - root_mean_squared_error: 3.5072INFO:tensorflow:Assets written to: model1\\assets\n"
     ]
    },
    {
     "name": "stderr",
     "output_type": "stream",
     "text": [
      "INFO:tensorflow:Assets written to: model1\\assets\n"
     ]
    },
    {
     "name": "stdout",
     "output_type": "stream",
     "text": [
      "79/79 [==============================] - 4s 57ms/step - loss: 12.2114 - root_mean_squared_error: 3.4945 - val_loss: 558.8724 - val_root_mean_squared_error: 23.6405\n",
      "Epoch 165/500\n",
      "79/79 [==============================] - 1s 8ms/step - loss: 12.3229 - root_mean_squared_error: 3.5104 - val_loss: 575.4537 - val_root_mean_squared_error: 23.9886\n",
      "Epoch 166/500\n",
      "79/79 [==============================] - 1s 8ms/step - loss: 12.5326 - root_mean_squared_error: 3.5401 - val_loss: 563.2145 - val_root_mean_squared_error: 23.7321\n",
      "Epoch 167/500\n",
      "79/79 [==============================] - 1s 7ms/step - loss: 12.1584 - root_mean_squared_error: 3.4869 - val_loss: 561.1941 - val_root_mean_squared_error: 23.6895\n",
      "Epoch 168/500\n",
      "79/79 [==============================] - 1s 8ms/step - loss: 12.0588 - root_mean_squared_error: 3.4726 - val_loss: 566.2791 - val_root_mean_squared_error: 23.7966\n",
      "Epoch 169/500\n",
      "79/79 [==============================] - 1s 7ms/step - loss: 12.3354 - root_mean_squared_error: 3.5122 - val_loss: 564.6981 - val_root_mean_squared_error: 23.7634\n",
      "Epoch 170/500\n",
      "79/79 [==============================] - 1s 8ms/step - loss: 12.1196 - root_mean_squared_error: 3.4813 - val_loss: 560.8112 - val_root_mean_squared_error: 23.6815\n",
      "Epoch 171/500\n",
      "72/79 [==========================>...] - ETA: 0s - loss: 12.3240 - root_mean_squared_error: 3.5106INFO:tensorflow:Assets written to: model1\\assets\n"
     ]
    },
    {
     "name": "stderr",
     "output_type": "stream",
     "text": [
      "INFO:tensorflow:Assets written to: model1\\assets\n"
     ]
    },
    {
     "name": "stdout",
     "output_type": "stream",
     "text": [
      "79/79 [==============================] - 3s 45ms/step - loss: 12.2017 - root_mean_squared_error: 3.4931 - val_loss: 552.6799 - val_root_mean_squared_error: 23.5091\n",
      "Epoch 172/500\n",
      "79/79 [==============================] - 1s 7ms/step - loss: 12.3364 - root_mean_squared_error: 3.5123 - val_loss: 554.9703 - val_root_mean_squared_error: 23.5578\n",
      "Epoch 173/500\n",
      "79/79 [==============================] - 1s 8ms/step - loss: 12.2617 - root_mean_squared_error: 3.5017 - val_loss: 559.6239 - val_root_mean_squared_error: 23.6564\n",
      "Epoch 174/500\n",
      "79/79 [==============================] - 1s 7ms/step - loss: 12.2497 - root_mean_squared_error: 3.5000 - val_loss: 553.5292 - val_root_mean_squared_error: 23.5272\n",
      "Epoch 175/500\n",
      "79/79 [==============================] - 1s 8ms/step - loss: 12.5579 - root_mean_squared_error: 3.5437 - val_loss: 560.7823 - val_root_mean_squared_error: 23.6808\n",
      "Epoch 176/500\n",
      "79/79 [==============================] - 1s 8ms/step - loss: 12.1776 - root_mean_squared_error: 3.4896 - val_loss: 555.9818 - val_root_mean_squared_error: 23.5793\n",
      "Epoch 177/500\n",
      "79/79 [==============================] - 1s 7ms/step - loss: 12.1493 - root_mean_squared_error: 3.4856 - val_loss: 553.2736 - val_root_mean_squared_error: 23.5218\n",
      "Epoch 178/500\n",
      "74/79 [===========================>..] - ETA: 0s - loss: 12.3108 - root_mean_squared_error: 3.5087INFO:tensorflow:Assets written to: model1\\assets\n"
     ]
    },
    {
     "name": "stderr",
     "output_type": "stream",
     "text": [
      "INFO:tensorflow:Assets written to: model1\\assets\n"
     ]
    },
    {
     "name": "stdout",
     "output_type": "stream",
     "text": [
      "79/79 [==============================] - 4s 45ms/step - loss: 12.0697 - root_mean_squared_error: 3.4741 - val_loss: 550.2062 - val_root_mean_squared_error: 23.4565\n",
      "Epoch 179/500\n",
      "79/79 [==============================] - 1s 8ms/step - loss: 12.1197 - root_mean_squared_error: 3.4813 - val_loss: 551.7274 - val_root_mean_squared_error: 23.4889\n",
      "Epoch 180/500\n",
      "79/79 [==============================] - 1s 9ms/step - loss: 12.1108 - root_mean_squared_error: 3.4801 - val_loss: 552.4500 - val_root_mean_squared_error: 23.5043\n",
      "Epoch 181/500\n",
      "71/79 [=========================>....] - ETA: 0s - loss: 11.7227 - root_mean_squared_error: 3.4238INFO:tensorflow:Assets written to: model1\\assets\n"
     ]
    },
    {
     "name": "stderr",
     "output_type": "stream",
     "text": [
      "INFO:tensorflow:Assets written to: model1\\assets\n"
     ]
    },
    {
     "name": "stdout",
     "output_type": "stream",
     "text": [
      "79/79 [==============================] - 4s 51ms/step - loss: 11.9933 - root_mean_squared_error: 3.4631 - val_loss: 548.2213 - val_root_mean_squared_error: 23.4141\n",
      "Epoch 182/500\n",
      "79/79 [==============================] - 1s 8ms/step - loss: 12.2585 - root_mean_squared_error: 3.5012 - val_loss: 553.5490 - val_root_mean_squared_error: 23.5276\n",
      "Epoch 183/500\n",
      "79/79 [==============================] - 1s 9ms/step - loss: 12.2275 - root_mean_squared_error: 3.4968 - val_loss: 549.6934 - val_root_mean_squared_error: 23.4455\n",
      "Epoch 184/500\n",
      "79/79 [==============================] - 0s 6ms/step - loss: 12.1615 - root_mean_squared_error: 3.4873 - val_loss: 548.3895 - val_root_mean_squared_error: 23.4177\n",
      "Epoch 185/500\n",
      "79/79 [==============================] - ETA: 0s - loss: 12.1711 - root_mean_squared_error: 3.4887INFO:tensorflow:Assets written to: model1\\assets\n"
     ]
    },
    {
     "name": "stderr",
     "output_type": "stream",
     "text": [
      "INFO:tensorflow:Assets written to: model1\\assets\n"
     ]
    },
    {
     "name": "stdout",
     "output_type": "stream",
     "text": [
      "79/79 [==============================] - 4s 49ms/step - loss: 12.1711 - root_mean_squared_error: 3.4887 - val_loss: 547.6303 - val_root_mean_squared_error: 23.4015\n",
      "Epoch 186/500\n",
      "79/79 [==============================] - 1s 8ms/step - loss: 12.1423 - root_mean_squared_error: 3.4846 - val_loss: 550.2177 - val_root_mean_squared_error: 23.4567\n",
      "Epoch 187/500\n",
      "79/79 [==============================] - 1s 8ms/step - loss: 12.1678 - root_mean_squared_error: 3.4882 - val_loss: 552.5731 - val_root_mean_squared_error: 23.5069\n",
      "Epoch 188/500\n",
      "79/79 [==============================] - 1s 7ms/step - loss: 12.1537 - root_mean_squared_error: 3.4862 - val_loss: 556.8068 - val_root_mean_squared_error: 23.5968\n",
      "Epoch 189/500\n",
      "79/79 [==============================] - 1s 7ms/step - loss: 12.1710 - root_mean_squared_error: 3.4887 - val_loss: 556.2051 - val_root_mean_squared_error: 23.5840\n",
      "Epoch 190/500\n",
      "79/79 [==============================] - 1s 7ms/step - loss: 12.3369 - root_mean_squared_error: 3.5124 - val_loss: 555.9020 - val_root_mean_squared_error: 23.5776\n",
      "Epoch 191/500\n",
      "69/79 [=========================>....] - ETA: 0s - loss: 12.3185 - root_mean_squared_error: 3.5098INFO:tensorflow:Assets written to: model1\\assets\n"
     ]
    },
    {
     "name": "stderr",
     "output_type": "stream",
     "text": [
      "INFO:tensorflow:Assets written to: model1\\assets\n"
     ]
    },
    {
     "name": "stdout",
     "output_type": "stream",
     "text": [
      "79/79 [==============================] - 4s 45ms/step - loss: 12.2886 - root_mean_squared_error: 3.5055 - val_loss: 547.5655 - val_root_mean_squared_error: 23.4001\n",
      "Epoch 192/500\n",
      "79/79 [==============================] - 1s 8ms/step - loss: 12.4763 - root_mean_squared_error: 3.5322 - val_loss: 553.6931 - val_root_mean_squared_error: 23.5307\n",
      "Epoch 193/500\n",
      "79/79 [==============================] - 1s 7ms/step - loss: 12.3720 - root_mean_squared_error: 3.5174 - val_loss: 550.4758 - val_root_mean_squared_error: 23.4622\n",
      "Epoch 194/500\n",
      "79/79 [==============================] - 1s 7ms/step - loss: 12.1956 - root_mean_squared_error: 3.4922 - val_loss: 549.0629 - val_root_mean_squared_error: 23.4321\n",
      "Epoch 195/500\n",
      "79/79 [==============================] - ETA: 0s - loss: 12.1141 - root_mean_squared_error: 3.4805INFO:tensorflow:Assets written to: model1\\assets\n"
     ]
    },
    {
     "name": "stderr",
     "output_type": "stream",
     "text": [
      "INFO:tensorflow:Assets written to: model1\\assets\n"
     ]
    },
    {
     "name": "stdout",
     "output_type": "stream",
     "text": [
      "79/79 [==============================] - 4s 46ms/step - loss: 12.1141 - root_mean_squared_error: 3.4805 - val_loss: 545.4151 - val_root_mean_squared_error: 23.3541\n",
      "Epoch 196/500\n",
      "79/79 [==============================] - 1s 7ms/step - loss: 12.0688 - root_mean_squared_error: 3.4740 - val_loss: 549.3973 - val_root_mean_squared_error: 23.4392\n",
      "Epoch 197/500\n",
      "79/79 [==============================] - 1s 8ms/step - loss: 12.1493 - root_mean_squared_error: 3.4856 - val_loss: 554.2127 - val_root_mean_squared_error: 23.5417\n",
      "Epoch 198/500\n",
      "79/79 [==============================] - 1s 7ms/step - loss: 12.3156 - root_mean_squared_error: 3.5094 - val_loss: 550.7115 - val_root_mean_squared_error: 23.4672\n",
      "Epoch 199/500\n",
      "76/79 [===========================>..] - ETA: 0s - loss: 12.1251 - root_mean_squared_error: 3.4821INFO:tensorflow:Assets written to: model1\\assets\n"
     ]
    },
    {
     "name": "stderr",
     "output_type": "stream",
     "text": [
      "INFO:tensorflow:Assets written to: model1\\assets\n"
     ]
    },
    {
     "name": "stdout",
     "output_type": "stream",
     "text": [
      "79/79 [==============================] - 4s 50ms/step - loss: 12.0557 - root_mean_squared_error: 3.4721 - val_loss: 542.1691 - val_root_mean_squared_error: 23.2845\n",
      "Epoch 200/500\n",
      "79/79 [==============================] - 1s 7ms/step - loss: 12.4115 - root_mean_squared_error: 3.5230 - val_loss: 551.1710 - val_root_mean_squared_error: 23.4770\n",
      "Epoch 201/500\n",
      "79/79 [==============================] - 1s 8ms/step - loss: 12.3541 - root_mean_squared_error: 3.5148 - val_loss: 548.6647 - val_root_mean_squared_error: 23.4236\n",
      "Epoch 202/500\n",
      "79/79 [==============================] - 1s 7ms/step - loss: 12.0986 - root_mean_squared_error: 3.4783 - val_loss: 544.6572 - val_root_mean_squared_error: 23.3379\n",
      "Epoch 203/500\n",
      "79/79 [==============================] - 1s 7ms/step - loss: 12.2307 - root_mean_squared_error: 3.4972 - val_loss: 548.6812 - val_root_mean_squared_error: 23.4239\n",
      "Epoch 204/500\n",
      "79/79 [==============================] - 1s 7ms/step - loss: 12.3361 - root_mean_squared_error: 3.5123 - val_loss: 550.5904 - val_root_mean_squared_error: 23.4647\n",
      "Epoch 205/500\n",
      "79/79 [==============================] - 1s 7ms/step - loss: 12.2158 - root_mean_squared_error: 3.4951 - val_loss: 547.7424 - val_root_mean_squared_error: 23.4039\n",
      "Epoch 206/500\n",
      "79/79 [==============================] - 1s 8ms/step - loss: 12.1219 - root_mean_squared_error: 3.4816 - val_loss: 551.2033 - val_root_mean_squared_error: 23.4777\n",
      "Epoch 207/500\n",
      "79/79 [==============================] - 1s 8ms/step - loss: 12.1094 - root_mean_squared_error: 3.4799 - val_loss: 551.9319 - val_root_mean_squared_error: 23.4932\n",
      "Epoch 208/500\n",
      "79/79 [==============================] - 1s 8ms/step - loss: 12.2527 - root_mean_squared_error: 3.5004 - val_loss: 547.0829 - val_root_mean_squared_error: 23.3898\n",
      "Epoch 209/500\n",
      "79/79 [==============================] - 1s 8ms/step - loss: 12.2411 - root_mean_squared_error: 3.4987 - val_loss: 547.5104 - val_root_mean_squared_error: 23.3989\n",
      "Epoch 210/500\n",
      "79/79 [==============================] - 1s 8ms/step - loss: 12.2381 - root_mean_squared_error: 3.4983 - val_loss: 543.5735 - val_root_mean_squared_error: 23.3147\n",
      "Epoch 211/500\n",
      "77/79 [============================>.] - ETA: 0s - loss: 12.3096 - root_mean_squared_error: 3.5085INFO:tensorflow:Assets written to: model1\\assets\n"
     ]
    },
    {
     "name": "stderr",
     "output_type": "stream",
     "text": [
      "INFO:tensorflow:Assets written to: model1\\assets\n"
     ]
    },
    {
     "name": "stdout",
     "output_type": "stream",
     "text": [
      "79/79 [==============================] - 3s 45ms/step - loss: 12.3280 - root_mean_squared_error: 3.5111 - val_loss: 539.6755 - val_root_mean_squared_error: 23.2309\n",
      "Epoch 212/500\n",
      "79/79 [==============================] - 1s 7ms/step - loss: 12.1104 - root_mean_squared_error: 3.4800 - val_loss: 542.2037 - val_root_mean_squared_error: 23.2853\n",
      "Epoch 213/500\n",
      "79/79 [==============================] - 1s 8ms/step - loss: 12.3285 - root_mean_squared_error: 3.5112 - val_loss: 542.3543 - val_root_mean_squared_error: 23.2885\n",
      "Epoch 214/500\n",
      "79/79 [==============================] - 1s 7ms/step - loss: 12.0136 - root_mean_squared_error: 3.4661 - val_loss: 542.2149 - val_root_mean_squared_error: 23.2855\n",
      "Epoch 215/500\n",
      "74/79 [===========================>..] - ETA: 0s - loss: 12.1546 - root_mean_squared_error: 3.4863INFO:tensorflow:Assets written to: model1\\assets\n"
     ]
    },
    {
     "name": "stderr",
     "output_type": "stream",
     "text": [
      "INFO:tensorflow:Assets written to: model1\\assets\n"
     ]
    },
    {
     "name": "stdout",
     "output_type": "stream",
     "text": [
      "79/79 [==============================] - 4s 52ms/step - loss: 12.0818 - root_mean_squared_error: 3.4759 - val_loss: 539.2628 - val_root_mean_squared_error: 23.2220\n",
      "Epoch 216/500\n",
      "79/79 [==============================] - 1s 7ms/step - loss: 12.2829 - root_mean_squared_error: 3.5047 - val_loss: 544.0310 - val_root_mean_squared_error: 23.3245\n",
      "Epoch 217/500\n",
      "79/79 [==============================] - 1s 8ms/step - loss: 12.1887 - root_mean_squared_error: 3.4912 - val_loss: 543.8566 - val_root_mean_squared_error: 23.3207\n",
      "Epoch 218/500\n",
      "79/79 [==============================] - 1s 7ms/step - loss: 12.2182 - root_mean_squared_error: 3.4955 - val_loss: 540.7523 - val_root_mean_squared_error: 23.2541\n",
      "Epoch 219/500\n",
      "79/79 [==============================] - 1s 8ms/step - loss: 12.2410 - root_mean_squared_error: 3.4987 - val_loss: 546.2505 - val_root_mean_squared_error: 23.3720\n",
      "Epoch 220/500\n",
      "79/79 [==============================] - 1s 8ms/step - loss: 12.1274 - root_mean_squared_error: 3.4824 - val_loss: 542.5502 - val_root_mean_squared_error: 23.2927\n",
      "Epoch 221/500\n",
      "79/79 [==============================] - 1s 8ms/step - loss: 12.1027 - root_mean_squared_error: 3.4789 - val_loss: 539.5862 - val_root_mean_squared_error: 23.2290\n",
      "Epoch 222/500\n",
      "79/79 [==============================] - 1s 7ms/step - loss: 11.9997 - root_mean_squared_error: 3.4641 - val_loss: 540.6839 - val_root_mean_squared_error: 23.2526\n",
      "Epoch 223/500\n",
      "79/79 [==============================] - 1s 8ms/step - loss: 12.2678 - root_mean_squared_error: 3.5025 - val_loss: 547.9559 - val_root_mean_squared_error: 23.4085\n",
      "Epoch 224/500\n",
      "79/79 [==============================] - 1s 8ms/step - loss: 12.4505 - root_mean_squared_error: 3.5285 - val_loss: 544.7999 - val_root_mean_squared_error: 23.3410\n",
      "Epoch 225/500\n",
      "79/79 [==============================] - 1s 7ms/step - loss: 12.1294 - root_mean_squared_error: 3.4827 - val_loss: 542.7015 - val_root_mean_squared_error: 23.2960\n",
      "Epoch 226/500\n",
      "76/79 [===========================>..] - ETA: 0s - loss: 12.0608 - root_mean_squared_error: 3.4729INFO:tensorflow:Assets written to: model1\\assets\n"
     ]
    },
    {
     "name": "stderr",
     "output_type": "stream",
     "text": [
      "INFO:tensorflow:Assets written to: model1\\assets\n"
     ]
    },
    {
     "name": "stdout",
     "output_type": "stream",
     "text": [
      "79/79 [==============================] - 4s 47ms/step - loss: 12.0196 - root_mean_squared_error: 3.4669 - val_loss: 537.3585 - val_root_mean_squared_error: 23.1810\n",
      "Epoch 227/500\n",
      "79/79 [==============================] - 1s 7ms/step - loss: 12.0441 - root_mean_squared_error: 3.4705 - val_loss: 540.2842 - val_root_mean_squared_error: 23.2440\n",
      "Epoch 228/500\n",
      "79/79 [==============================] - 1s 8ms/step - loss: 12.4558 - root_mean_squared_error: 3.5293 - val_loss: 539.0915 - val_root_mean_squared_error: 23.2183\n",
      "Epoch 229/500\n",
      "71/79 [=========================>....] - ETA: 0s - loss: 12.1817 - root_mean_squared_error: 3.4902INFO:tensorflow:Assets written to: model1\\assets\n"
     ]
    },
    {
     "name": "stderr",
     "output_type": "stream",
     "text": [
      "INFO:tensorflow:Assets written to: model1\\assets\n"
     ]
    },
    {
     "name": "stdout",
     "output_type": "stream",
     "text": [
      "79/79 [==============================] - 3s 44ms/step - loss: 12.1609 - root_mean_squared_error: 3.4872 - val_loss: 535.9024 - val_root_mean_squared_error: 23.1496\n",
      "Epoch 230/500\n",
      "79/79 [==============================] - 1s 7ms/step - loss: 12.0960 - root_mean_squared_error: 3.4779 - val_loss: 546.3022 - val_root_mean_squared_error: 23.3731\n",
      "Epoch 231/500\n",
      "79/79 [==============================] - 1s 8ms/step - loss: 12.0808 - root_mean_squared_error: 3.4757 - val_loss: 541.4833 - val_root_mean_squared_error: 23.2698\n",
      "Epoch 232/500\n",
      "79/79 [==============================] - 1s 7ms/step - loss: 12.2511 - root_mean_squared_error: 3.5002 - val_loss: 536.4635 - val_root_mean_squared_error: 23.1617\n",
      "Epoch 233/500\n",
      "75/79 [===========================>..] - ETA: 0s - loss: 12.1519 - root_mean_squared_error: 3.4860INFO:tensorflow:Assets written to: model1\\assets\n"
     ]
    },
    {
     "name": "stderr",
     "output_type": "stream",
     "text": [
      "INFO:tensorflow:Assets written to: model1\\assets\n"
     ]
    },
    {
     "name": "stdout",
     "output_type": "stream",
     "text": [
      "79/79 [==============================] - 4s 45ms/step - loss: 12.2270 - root_mean_squared_error: 3.4967 - val_loss: 532.6396 - val_root_mean_squared_error: 23.0790\n",
      "Epoch 234/500\n",
      "79/79 [==============================] - 1s 7ms/step - loss: 12.3952 - root_mean_squared_error: 3.5207 - val_loss: 541.3549 - val_root_mean_squared_error: 23.2670\n",
      "Epoch 235/500\n",
      "79/79 [==============================] - 1s 8ms/step - loss: 12.1211 - root_mean_squared_error: 3.4815 - val_loss: 538.0339 - val_root_mean_squared_error: 23.1956\n",
      "Epoch 236/500\n",
      "77/79 [============================>.] - ETA: 0s - loss: 12.3064 - root_mean_squared_error: 3.5080INFO:tensorflow:Assets written to: model1\\assets\n"
     ]
    },
    {
     "name": "stderr",
     "output_type": "stream",
     "text": [
      "INFO:tensorflow:Assets written to: model1\\assets\n"
     ]
    },
    {
     "name": "stdout",
     "output_type": "stream",
     "text": [
      "79/79 [==============================] - 3s 44ms/step - loss: 12.2917 - root_mean_squared_error: 3.5059 - val_loss: 532.4293 - val_root_mean_squared_error: 23.0744\n",
      "Epoch 237/500\n",
      "79/79 [==============================] - 1s 8ms/step - loss: 12.4724 - root_mean_squared_error: 3.5316 - val_loss: 537.2335 - val_root_mean_squared_error: 23.1783\n",
      "Epoch 238/500\n",
      "79/79 [==============================] - 1s 7ms/step - loss: 12.0952 - root_mean_squared_error: 3.4778 - val_loss: 534.8127 - val_root_mean_squared_error: 23.1260\n",
      "Epoch 239/500\n",
      "79/79 [==============================] - 1s 7ms/step - loss: 12.2845 - root_mean_squared_error: 3.5049 - val_loss: 538.1683 - val_root_mean_squared_error: 23.1985\n",
      "Epoch 240/500\n",
      "79/79 [==============================] - 1s 8ms/step - loss: 12.3399 - root_mean_squared_error: 3.5128 - val_loss: 539.1033 - val_root_mean_squared_error: 23.2186\n",
      "Epoch 241/500\n",
      "79/79 [==============================] - 1s 7ms/step - loss: 12.2683 - root_mean_squared_error: 3.5026 - val_loss: 536.1207 - val_root_mean_squared_error: 23.1543\n",
      "Epoch 242/500\n",
      "79/79 [==============================] - 1s 7ms/step - loss: 12.2514 - root_mean_squared_error: 3.5002 - val_loss: 537.4373 - val_root_mean_squared_error: 23.1827\n",
      "Epoch 243/500\n",
      "78/79 [============================>.] - ETA: 0s - loss: 11.9809 - root_mean_squared_error: 3.4613INFO:tensorflow:Assets written to: model1\\assets\n"
     ]
    },
    {
     "name": "stderr",
     "output_type": "stream",
     "text": [
      "INFO:tensorflow:Assets written to: model1\\assets\n"
     ]
    },
    {
     "name": "stdout",
     "output_type": "stream",
     "text": [
      "79/79 [==============================] - 4s 51ms/step - loss: 11.9750 - root_mean_squared_error: 3.4605 - val_loss: 531.4908 - val_root_mean_squared_error: 23.0541\n",
      "Epoch 244/500\n",
      "73/79 [==========================>...] - ETA: 0s - loss: 12.4291 - root_mean_squared_error: 3.5255INFO:tensorflow:Assets written to: model1\\assets\n"
     ]
    },
    {
     "name": "stderr",
     "output_type": "stream",
     "text": [
      "INFO:tensorflow:Assets written to: model1\\assets\n"
     ]
    },
    {
     "name": "stdout",
     "output_type": "stream",
     "text": [
      "79/79 [==============================] - 4s 46ms/step - loss: 12.1128 - root_mean_squared_error: 3.4803 - val_loss: 529.7455 - val_root_mean_squared_error: 23.0162\n",
      "Epoch 245/500\n",
      "79/79 [==============================] - 1s 8ms/step - loss: 12.2525 - root_mean_squared_error: 3.5004 - val_loss: 530.5435 - val_root_mean_squared_error: 23.0335\n",
      "Epoch 246/500\n",
      "72/79 [==========================>...] - ETA: 0s - loss: 11.9305 - root_mean_squared_error: 3.4541INFO:tensorflow:Assets written to: model1\\assets\n"
     ]
    },
    {
     "name": "stderr",
     "output_type": "stream",
     "text": [
      "INFO:tensorflow:Assets written to: model1\\assets\n"
     ]
    },
    {
     "name": "stdout",
     "output_type": "stream",
     "text": [
      "79/79 [==============================] - 3s 44ms/step - loss: 12.0601 - root_mean_squared_error: 3.4728 - val_loss: 525.2200 - val_root_mean_squared_error: 22.9177\n",
      "Epoch 247/500\n",
      "79/79 [==============================] - 1s 7ms/step - loss: 12.4751 - root_mean_squared_error: 3.5320 - val_loss: 529.7368 - val_root_mean_squared_error: 23.0160\n",
      "Epoch 248/500\n",
      "79/79 [==============================] - 1s 8ms/step - loss: 12.3482 - root_mean_squared_error: 3.5140 - val_loss: 528.5673 - val_root_mean_squared_error: 22.9906\n",
      "Epoch 249/500\n",
      "79/79 [==============================] - 1s 7ms/step - loss: 12.1123 - root_mean_squared_error: 3.4803 - val_loss: 529.4424 - val_root_mean_squared_error: 23.0096\n",
      "Epoch 250/500\n",
      "79/79 [==============================] - 1s 7ms/step - loss: 12.0401 - root_mean_squared_error: 3.4699 - val_loss: 537.1273 - val_root_mean_squared_error: 23.1760\n",
      "Epoch 251/500\n",
      "79/79 [==============================] - 1s 7ms/step - loss: 12.0884 - root_mean_squared_error: 3.4768 - val_loss: 528.7939 - val_root_mean_squared_error: 22.9955\n",
      "Epoch 252/500\n",
      "79/79 [==============================] - 1s 8ms/step - loss: 12.0960 - root_mean_squared_error: 3.4779 - val_loss: 528.8281 - val_root_mean_squared_error: 22.9963\n",
      "Epoch 253/500\n",
      "79/79 [==============================] - 1s 7ms/step - loss: 12.3840 - root_mean_squared_error: 3.5191 - val_loss: 527.1390 - val_root_mean_squared_error: 22.9595\n",
      "Epoch 254/500\n",
      "79/79 [==============================] - 1s 7ms/step - loss: 12.0083 - root_mean_squared_error: 3.4653 - val_loss: 534.4721 - val_root_mean_squared_error: 23.1187\n",
      "Epoch 255/500\n",
      "79/79 [==============================] - 1s 7ms/step - loss: 12.1132 - root_mean_squared_error: 3.4804 - val_loss: 529.5881 - val_root_mean_squared_error: 23.0128\n",
      "Epoch 256/500\n",
      "79/79 [==============================] - 1s 7ms/step - loss: 11.9495 - root_mean_squared_error: 3.4568 - val_loss: 527.7738 - val_root_mean_squared_error: 22.9733\n",
      "Epoch 257/500\n",
      "79/79 [==============================] - 1s 7ms/step - loss: 12.2754 - root_mean_squared_error: 3.5036 - val_loss: 527.7812 - val_root_mean_squared_error: 22.9735\n",
      "Epoch 258/500\n",
      "79/79 [==============================] - ETA: 0s - loss: 12.2430 - root_mean_squared_error: 3.4990INFO:tensorflow:Assets written to: model1\\assets\n"
     ]
    },
    {
     "name": "stderr",
     "output_type": "stream",
     "text": [
      "INFO:tensorflow:Assets written to: model1\\assets\n"
     ]
    },
    {
     "name": "stdout",
     "output_type": "stream",
     "text": [
      "79/79 [==============================] - 4s 45ms/step - loss: 12.2430 - root_mean_squared_error: 3.4990 - val_loss: 524.7319 - val_root_mean_squared_error: 22.9070\n",
      "Epoch 259/500\n",
      "72/79 [==========================>...] - ETA: 0s - loss: 12.2515 - root_mean_squared_error: 3.5002INFO:tensorflow:Assets written to: model1\\assets\n"
     ]
    },
    {
     "name": "stderr",
     "output_type": "stream",
     "text": [
      "INFO:tensorflow:Assets written to: model1\\assets\n"
     ]
    },
    {
     "name": "stdout",
     "output_type": "stream",
     "text": [
      "79/79 [==============================] - 4s 45ms/step - loss: 12.0980 - root_mean_squared_error: 3.4782 - val_loss: 523.7802 - val_root_mean_squared_error: 22.8862\n",
      "Epoch 260/500\n",
      "79/79 [==============================] - 1s 8ms/step - loss: 12.2892 - root_mean_squared_error: 3.5056 - val_loss: 530.0519 - val_root_mean_squared_error: 23.0229\n",
      "Epoch 261/500\n",
      "79/79 [==============================] - 1s 7ms/step - loss: 12.1714 - root_mean_squared_error: 3.4888 - val_loss: 528.4094 - val_root_mean_squared_error: 22.9872\n",
      "Epoch 262/500\n",
      "79/79 [==============================] - 1s 7ms/step - loss: 12.1851 - root_mean_squared_error: 3.4907 - val_loss: 528.5145 - val_root_mean_squared_error: 22.9894\n",
      "Epoch 263/500\n",
      "79/79 [==============================] - 1s 7ms/step - loss: 12.2100 - root_mean_squared_error: 3.4943 - val_loss: 528.3147 - val_root_mean_squared_error: 22.9851\n",
      "Epoch 264/500\n",
      "79/79 [==============================] - 1s 7ms/step - loss: 12.2248 - root_mean_squared_error: 3.4964 - val_loss: 526.6556 - val_root_mean_squared_error: 22.9490\n",
      "Epoch 265/500\n",
      "79/79 [==============================] - 1s 7ms/step - loss: 12.1852 - root_mean_squared_error: 3.4907 - val_loss: 526.3478 - val_root_mean_squared_error: 22.9423\n",
      "Epoch 266/500\n",
      "74/79 [===========================>..] - ETA: 0s - loss: 12.2705 - root_mean_squared_error: 3.5029INFO:tensorflow:Assets written to: model1\\assets\n"
     ]
    },
    {
     "name": "stderr",
     "output_type": "stream",
     "text": [
      "INFO:tensorflow:Assets written to: model1\\assets\n"
     ]
    },
    {
     "name": "stdout",
     "output_type": "stream",
     "text": [
      "79/79 [==============================] - 4s 53ms/step - loss: 12.2445 - root_mean_squared_error: 3.4992 - val_loss: 519.5790 - val_root_mean_squared_error: 22.7943\n",
      "Epoch 267/500\n",
      "79/79 [==============================] - 1s 7ms/step - loss: 11.9823 - root_mean_squared_error: 3.4615 - val_loss: 522.1841 - val_root_mean_squared_error: 22.8513\n",
      "Epoch 268/500\n",
      "79/79 [==============================] - 1s 8ms/step - loss: 12.2100 - root_mean_squared_error: 3.4943 - val_loss: 532.1333 - val_root_mean_squared_error: 23.0680\n",
      "Epoch 269/500\n",
      "79/79 [==============================] - 1s 7ms/step - loss: 12.4273 - root_mean_squared_error: 3.5252 - val_loss: 526.2795 - val_root_mean_squared_error: 22.9408\n",
      "Epoch 270/500\n",
      "79/79 [==============================] - 1s 7ms/step - loss: 12.1002 - root_mean_squared_error: 3.4785 - val_loss: 526.5811 - val_root_mean_squared_error: 22.9474\n",
      "Epoch 271/500\n",
      "79/79 [==============================] - 1s 8ms/step - loss: 12.1156 - root_mean_squared_error: 3.4807 - val_loss: 530.5159 - val_root_mean_squared_error: 23.0329\n",
      "Epoch 272/500\n",
      "79/79 [==============================] - 1s 8ms/step - loss: 12.1057 - root_mean_squared_error: 3.4793 - val_loss: 529.5502 - val_root_mean_squared_error: 23.0120\n",
      "Epoch 273/500\n",
      "79/79 [==============================] - 1s 8ms/step - loss: 12.1623 - root_mean_squared_error: 3.4874 - val_loss: 520.3221 - val_root_mean_squared_error: 22.8106\n",
      "Epoch 274/500\n",
      "79/79 [==============================] - 1s 8ms/step - loss: 12.2314 - root_mean_squared_error: 3.4973 - val_loss: 522.5486 - val_root_mean_squared_error: 22.8593\n",
      "Epoch 275/500\n",
      "79/79 [==============================] - 1s 8ms/step - loss: 12.2395 - root_mean_squared_error: 3.4985 - val_loss: 519.8954 - val_root_mean_squared_error: 22.8012\n",
      "Epoch 276/500\n",
      "79/79 [==============================] - 1s 7ms/step - loss: 11.9959 - root_mean_squared_error: 3.4635 - val_loss: 521.4525 - val_root_mean_squared_error: 22.8353\n",
      "Epoch 277/500\n",
      "78/79 [============================>.] - ETA: 0s - loss: 12.2561 - root_mean_squared_error: 3.5009INFO:tensorflow:Assets written to: model1\\assets\n"
     ]
    },
    {
     "name": "stderr",
     "output_type": "stream",
     "text": [
      "INFO:tensorflow:Assets written to: model1\\assets\n"
     ]
    },
    {
     "name": "stdout",
     "output_type": "stream",
     "text": [
      "79/79 [==============================] - 4s 45ms/step - loss: 12.2506 - root_mean_squared_error: 3.5001 - val_loss: 519.1028 - val_root_mean_squared_error: 22.7838\n",
      "Epoch 278/500\n",
      "74/79 [===========================>..] - ETA: 0s - loss: 12.2356 - root_mean_squared_error: 3.4979INFO:tensorflow:Assets written to: model1\\assets\n"
     ]
    },
    {
     "name": "stderr",
     "output_type": "stream",
     "text": [
      "INFO:tensorflow:Assets written to: model1\\assets\n"
     ]
    },
    {
     "name": "stdout",
     "output_type": "stream",
     "text": [
      "79/79 [==============================] - 4s 51ms/step - loss: 12.0645 - root_mean_squared_error: 3.4734 - val_loss: 517.5513 - val_root_mean_squared_error: 22.7498\n",
      "Epoch 279/500\n",
      "79/79 [==============================] - 1s 8ms/step - loss: 12.0384 - root_mean_squared_error: 3.4696 - val_loss: 521.3523 - val_root_mean_squared_error: 22.8331\n",
      "Epoch 280/500\n",
      "79/79 [==============================] - 1s 8ms/step - loss: 12.0810 - root_mean_squared_error: 3.4758 - val_loss: 521.7771 - val_root_mean_squared_error: 22.8424\n",
      "Epoch 281/500\n",
      "74/79 [===========================>..] - ETA: 0s - loss: 11.8690 - root_mean_squared_error: 3.4451INFO:tensorflow:Assets written to: model1\\assets\n"
     ]
    },
    {
     "name": "stderr",
     "output_type": "stream",
     "text": [
      "INFO:tensorflow:Assets written to: model1\\assets\n"
     ]
    },
    {
     "name": "stdout",
     "output_type": "stream",
     "text": [
      "79/79 [==============================] - 4s 45ms/step - loss: 12.4793 - root_mean_squared_error: 3.5326 - val_loss: 516.5840 - val_root_mean_squared_error: 22.7285\n",
      "Epoch 282/500\n",
      "73/79 [==========================>...] - ETA: 0s - loss: 12.2663 - root_mean_squared_error: 3.5023INFO:tensorflow:Assets written to: model1\\assets\n"
     ]
    },
    {
     "name": "stderr",
     "output_type": "stream",
     "text": [
      "INFO:tensorflow:Assets written to: model1\\assets\n"
     ]
    },
    {
     "name": "stdout",
     "output_type": "stream",
     "text": [
      "79/79 [==============================] - 4s 52ms/step - loss: 12.2908 - root_mean_squared_error: 3.5058 - val_loss: 514.0258 - val_root_mean_squared_error: 22.6721\n",
      "Epoch 283/500\n",
      "76/79 [===========================>..] - ETA: 0s - loss: 12.1336 - root_mean_squared_error: 3.4833INFO:tensorflow:Assets written to: model1\\assets\n"
     ]
    },
    {
     "name": "stderr",
     "output_type": "stream",
     "text": [
      "INFO:tensorflow:Assets written to: model1\\assets\n"
     ]
    },
    {
     "name": "stdout",
     "output_type": "stream",
     "text": [
      "79/79 [==============================] - 4s 46ms/step - loss: 12.0043 - root_mean_squared_error: 3.4647 - val_loss: 510.1451 - val_root_mean_squared_error: 22.5864\n",
      "Epoch 284/500\n",
      "79/79 [==============================] - 1s 8ms/step - loss: 12.3405 - root_mean_squared_error: 3.5129 - val_loss: 516.7589 - val_root_mean_squared_error: 22.7323\n",
      "Epoch 285/500\n",
      "79/79 [==============================] - 1s 7ms/step - loss: 12.1429 - root_mean_squared_error: 3.4847 - val_loss: 520.3181 - val_root_mean_squared_error: 22.8105\n",
      "Epoch 286/500\n",
      "79/79 [==============================] - 1s 8ms/step - loss: 12.1202 - root_mean_squared_error: 3.4814 - val_loss: 512.6340 - val_root_mean_squared_error: 22.6414\n",
      "Epoch 287/500\n",
      "79/79 [==============================] - 1s 8ms/step - loss: 12.0072 - root_mean_squared_error: 3.4651 - val_loss: 517.6215 - val_root_mean_squared_error: 22.7513\n",
      "Epoch 288/500\n",
      "79/79 [==============================] - 1s 8ms/step - loss: 12.0167 - root_mean_squared_error: 3.4665 - val_loss: 514.4104 - val_root_mean_squared_error: 22.6806\n",
      "Epoch 289/500\n",
      "79/79 [==============================] - 1s 7ms/step - loss: 12.0226 - root_mean_squared_error: 3.4674 - val_loss: 514.3364 - val_root_mean_squared_error: 22.6790\n",
      "Epoch 290/500\n",
      "79/79 [==============================] - 1s 7ms/step - loss: 12.2317 - root_mean_squared_error: 3.4974 - val_loss: 515.1967 - val_root_mean_squared_error: 22.6979\n",
      "Epoch 291/500\n",
      "75/79 [===========================>..] - ETA: 0s - loss: 12.2800 - root_mean_squared_error: 3.5043INFO:tensorflow:Assets written to: model1\\assets\n"
     ]
    },
    {
     "name": "stderr",
     "output_type": "stream",
     "text": [
      "INFO:tensorflow:Assets written to: model1\\assets\n"
     ]
    },
    {
     "name": "stdout",
     "output_type": "stream",
     "text": [
      "79/79 [==============================] - 4s 48ms/step - loss: 12.2865 - root_mean_squared_error: 3.5052 - val_loss: 509.7636 - val_root_mean_squared_error: 22.5779\n",
      "Epoch 292/500\n",
      "79/79 [==============================] - 1s 8ms/step - loss: 12.0764 - root_mean_squared_error: 3.4751 - val_loss: 516.6421 - val_root_mean_squared_error: 22.7298\n",
      "Epoch 293/500\n",
      "79/79 [==============================] - 1s 8ms/step - loss: 12.1075 - root_mean_squared_error: 3.4796 - val_loss: 517.7878 - val_root_mean_squared_error: 22.7550\n",
      "Epoch 294/500\n",
      "76/79 [===========================>..] - ETA: 0s - loss: 11.9816 - root_mean_squared_error: 3.4614INFO:tensorflow:Assets written to: model1\\assets\n"
     ]
    },
    {
     "name": "stderr",
     "output_type": "stream",
     "text": [
      "INFO:tensorflow:Assets written to: model1\\assets\n"
     ]
    },
    {
     "name": "stdout",
     "output_type": "stream",
     "text": [
      "79/79 [==============================] - 3s 44ms/step - loss: 11.9617 - root_mean_squared_error: 3.4586 - val_loss: 509.5527 - val_root_mean_squared_error: 22.5733\n",
      "Epoch 295/500\n",
      "79/79 [==============================] - 1s 8ms/step - loss: 12.1183 - root_mean_squared_error: 3.4811 - val_loss: 527.1709 - val_root_mean_squared_error: 22.9602\n",
      "Epoch 296/500\n",
      "79/79 [==============================] - 1s 8ms/step - loss: 12.4685 - root_mean_squared_error: 3.5311 - val_loss: 515.4278 - val_root_mean_squared_error: 22.7030\n",
      "Epoch 297/500\n",
      "79/79 [==============================] - 1s 7ms/step - loss: 12.0909 - root_mean_squared_error: 3.4772 - val_loss: 516.4852 - val_root_mean_squared_error: 22.7263\n",
      "Epoch 298/500\n",
      "79/79 [==============================] - 1s 7ms/step - loss: 12.0791 - root_mean_squared_error: 3.4755 - val_loss: 514.0637 - val_root_mean_squared_error: 22.6730\n",
      "Epoch 299/500\n",
      "79/79 [==============================] - 1s 8ms/step - loss: 12.3174 - root_mean_squared_error: 3.5096 - val_loss: 516.3466 - val_root_mean_squared_error: 22.7233\n",
      "Epoch 300/500\n",
      "79/79 [==============================] - 1s 7ms/step - loss: 12.0950 - root_mean_squared_error: 3.4778 - val_loss: 510.3248 - val_root_mean_squared_error: 22.5904\n",
      "Epoch 301/500\n",
      "71/79 [=========================>....] - ETA: 0s - loss: 12.1970 - root_mean_squared_error: 3.4924INFO:tensorflow:Assets written to: model1\\assets\n"
     ]
    },
    {
     "name": "stderr",
     "output_type": "stream",
     "text": [
      "INFO:tensorflow:Assets written to: model1\\assets\n"
     ]
    },
    {
     "name": "stdout",
     "output_type": "stream",
     "text": [
      "79/79 [==============================] - 4s 49ms/step - loss: 11.9972 - root_mean_squared_error: 3.4637 - val_loss: 507.2442 - val_root_mean_squared_error: 22.5221\n",
      "Epoch 302/500\n",
      "79/79 [==============================] - 1s 8ms/step - loss: 12.1830 - root_mean_squared_error: 3.4904 - val_loss: 508.4841 - val_root_mean_squared_error: 22.5496\n",
      "Epoch 303/500\n",
      "79/79 [==============================] - 1s 8ms/step - loss: 12.1710 - root_mean_squared_error: 3.4887 - val_loss: 509.8010 - val_root_mean_squared_error: 22.5788\n",
      "Epoch 304/500\n",
      "79/79 [==============================] - 1s 8ms/step - loss: 12.0715 - root_mean_squared_error: 3.4744 - val_loss: 513.9116 - val_root_mean_squared_error: 22.6696\n",
      "Epoch 305/500\n",
      "79/79 [==============================] - 1s 8ms/step - loss: 12.0907 - root_mean_squared_error: 3.4772 - val_loss: 508.0731 - val_root_mean_squared_error: 22.5405\n",
      "Epoch 306/500\n",
      "79/79 [==============================] - 1s 7ms/step - loss: 12.1973 - root_mean_squared_error: 3.4925 - val_loss: 510.2591 - val_root_mean_squared_error: 22.5889\n",
      "Epoch 307/500\n",
      "79/79 [==============================] - 1s 8ms/step - loss: 12.0628 - root_mean_squared_error: 3.4731 - val_loss: 516.5113 - val_root_mean_squared_error: 22.7269\n",
      "Epoch 308/500\n",
      "79/79 [==============================] - 1s 7ms/step - loss: 12.1036 - root_mean_squared_error: 3.4790 - val_loss: 509.6018 - val_root_mean_squared_error: 22.5744\n",
      "Epoch 309/500\n",
      "79/79 [==============================] - 1s 7ms/step - loss: 12.1516 - root_mean_squared_error: 3.4859 - val_loss: 507.6830 - val_root_mean_squared_error: 22.5318\n",
      "Epoch 310/500\n",
      "79/79 [==============================] - 1s 8ms/step - loss: 12.3593 - root_mean_squared_error: 3.5156 - val_loss: 516.1060 - val_root_mean_squared_error: 22.7180\n",
      "Epoch 311/500\n",
      "79/79 [==============================] - 1s 8ms/step - loss: 12.4099 - root_mean_squared_error: 3.5228 - val_loss: 512.4727 - val_root_mean_squared_error: 22.6379\n",
      "Epoch 312/500\n",
      "79/79 [==============================] - 1s 8ms/step - loss: 12.1266 - root_mean_squared_error: 3.4823 - val_loss: 513.5320 - val_root_mean_squared_error: 22.6612\n",
      "Epoch 313/500\n",
      "79/79 [==============================] - 1s 8ms/step - loss: 12.2326 - root_mean_squared_error: 3.4975 - val_loss: 520.3122 - val_root_mean_squared_error: 22.8104\n",
      "Epoch 314/500\n",
      "79/79 [==============================] - 1s 7ms/step - loss: 12.1580 - root_mean_squared_error: 3.4868 - val_loss: 515.8150 - val_root_mean_squared_error: 22.7116\n",
      "Epoch 315/500\n",
      "79/79 [==============================] - 1s 8ms/step - loss: 12.1192 - root_mean_squared_error: 3.4813 - val_loss: 515.9164 - val_root_mean_squared_error: 22.7138\n",
      "Epoch 316/500\n",
      "79/79 [==============================] - 1s 9ms/step - loss: 12.1522 - root_mean_squared_error: 3.4860 - val_loss: 512.8548 - val_root_mean_squared_error: 22.6463\n",
      "Epoch 317/500\n",
      "79/79 [==============================] - 1s 8ms/step - loss: 12.1064 - root_mean_squared_error: 3.4794 - val_loss: 514.1819 - val_root_mean_squared_error: 22.6756\n",
      "Epoch 318/500\n",
      "79/79 [==============================] - 1s 7ms/step - loss: 12.1943 - root_mean_squared_error: 3.4920 - val_loss: 509.5973 - val_root_mean_squared_error: 22.5743\n",
      "Epoch 319/500\n",
      "79/79 [==============================] - 1s 8ms/step - loss: 12.0799 - root_mean_squared_error: 3.4756 - val_loss: 510.7747 - val_root_mean_squared_error: 22.6003\n",
      "Epoch 320/500\n",
      "79/79 [==============================] - 1s 8ms/step - loss: 12.1754 - root_mean_squared_error: 3.4893 - val_loss: 507.5813 - val_root_mean_squared_error: 22.5296\n",
      "Epoch 321/500\n",
      "79/79 [==============================] - 1s 9ms/step - loss: 12.0321 - root_mean_squared_error: 3.4687 - val_loss: 508.6539 - val_root_mean_squared_error: 22.5534\n",
      "Epoch 322/500\n",
      "79/79 [==============================] - 1s 7ms/step - loss: 11.9684 - root_mean_squared_error: 3.4595 - val_loss: 508.8569 - val_root_mean_squared_error: 22.5579\n",
      "Epoch 323/500\n",
      "79/79 [==============================] - 1s 7ms/step - loss: 12.2031 - root_mean_squared_error: 3.4933 - val_loss: 513.5746 - val_root_mean_squared_error: 22.6622\n",
      "Epoch 324/500\n",
      "79/79 [==============================] - 1s 7ms/step - loss: 12.2339 - root_mean_squared_error: 3.4977 - val_loss: 513.9888 - val_root_mean_squared_error: 22.6713\n",
      "Epoch 325/500\n",
      "79/79 [==============================] - 1s 7ms/step - loss: 12.0469 - root_mean_squared_error: 3.4709 - val_loss: 511.2894 - val_root_mean_squared_error: 22.6117\n",
      "Epoch 326/500\n",
      "79/79 [==============================] - 1s 7ms/step - loss: 12.0122 - root_mean_squared_error: 3.4659 - val_loss: 512.0141 - val_root_mean_squared_error: 22.6277\n",
      "Epoch 327/500\n",
      "79/79 [==============================] - 1s 7ms/step - loss: 12.2924 - root_mean_squared_error: 3.5060 - val_loss: 512.6193 - val_root_mean_squared_error: 22.6411\n",
      "Epoch 328/500\n",
      "79/79 [==============================] - 1s 8ms/step - loss: 12.1711 - root_mean_squared_error: 3.4887 - val_loss: 513.5068 - val_root_mean_squared_error: 22.6607\n",
      "Epoch 329/500\n",
      "79/79 [==============================] - ETA: 0s - loss: 12.0306 - root_mean_squared_error: 3.4685INFO:tensorflow:Assets written to: model1\\assets\n"
     ]
    },
    {
     "name": "stderr",
     "output_type": "stream",
     "text": [
      "INFO:tensorflow:Assets written to: model1\\assets\n"
     ]
    },
    {
     "name": "stdout",
     "output_type": "stream",
     "text": [
      "79/79 [==============================] - 4s 52ms/step - loss: 12.0306 - root_mean_squared_error: 3.4685 - val_loss: 502.9104 - val_root_mean_squared_error: 22.4257\n",
      "Epoch 330/500\n",
      "79/79 [==============================] - 1s 7ms/step - loss: 12.1081 - root_mean_squared_error: 3.4797 - val_loss: 513.3304 - val_root_mean_squared_error: 22.6568\n",
      "Epoch 331/500\n",
      "78/79 [============================>.] - ETA: 0s - loss: 12.8124 - root_mean_squared_error: 3.5794INFO:tensorflow:Assets written to: model1\\assets\n"
     ]
    },
    {
     "name": "stderr",
     "output_type": "stream",
     "text": [
      "INFO:tensorflow:Assets written to: model1\\assets\n"
     ]
    },
    {
     "name": "stdout",
     "output_type": "stream",
     "text": [
      "79/79 [==============================] - 4s 45ms/step - loss: 12.8010 - root_mean_squared_error: 3.5778 - val_loss: 500.2740 - val_root_mean_squared_error: 22.3668\n",
      "Epoch 332/500\n",
      "79/79 [==============================] - 1s 7ms/step - loss: 12.2648 - root_mean_squared_error: 3.5021 - val_loss: 509.0762 - val_root_mean_squared_error: 22.5627\n",
      "Epoch 333/500\n",
      "79/79 [==============================] - 1s 8ms/step - loss: 12.2100 - root_mean_squared_error: 3.4943 - val_loss: 505.8983 - val_root_mean_squared_error: 22.4922\n",
      "Epoch 334/500\n",
      "79/79 [==============================] - 1s 7ms/step - loss: 12.1711 - root_mean_squared_error: 3.4887 - val_loss: 512.2952 - val_root_mean_squared_error: 22.6339\n",
      "Epoch 335/500\n",
      "79/79 [==============================] - 1s 7ms/step - loss: 12.4769 - root_mean_squared_error: 3.5323 - val_loss: 510.3863 - val_root_mean_squared_error: 22.5917\n",
      "Epoch 336/500\n",
      "79/79 [==============================] - 1s 8ms/step - loss: 12.2195 - root_mean_squared_error: 3.4956 - val_loss: 508.7046 - val_root_mean_squared_error: 22.5545\n",
      "Epoch 337/500\n",
      "79/79 [==============================] - 1s 8ms/step - loss: 12.1326 - root_mean_squared_error: 3.4832 - val_loss: 503.1522 - val_root_mean_squared_error: 22.4311\n",
      "Epoch 338/500\n",
      "79/79 [==============================] - 1s 8ms/step - loss: 12.5670 - root_mean_squared_error: 3.5450 - val_loss: 510.2166 - val_root_mean_squared_error: 22.5880\n",
      "Epoch 339/500\n",
      "79/79 [==============================] - 1s 8ms/step - loss: 12.1180 - root_mean_squared_error: 3.4811 - val_loss: 508.5316 - val_root_mean_squared_error: 22.5506\n",
      "Epoch 340/500\n",
      "79/79 [==============================] - 1s 8ms/step - loss: 12.0740 - root_mean_squared_error: 3.4748 - val_loss: 517.8854 - val_root_mean_squared_error: 22.7571\n",
      "Epoch 341/500\n",
      "79/79 [==============================] - 1s 8ms/step - loss: 12.0211 - root_mean_squared_error: 3.4671 - val_loss: 505.6431 - val_root_mean_squared_error: 22.4865\n",
      "Epoch 342/500\n",
      "79/79 [==============================] - 1s 7ms/step - loss: 12.0360 - root_mean_squared_error: 3.4693 - val_loss: 507.7459 - val_root_mean_squared_error: 22.5332\n",
      "Epoch 343/500\n",
      "79/79 [==============================] - 1s 7ms/step - loss: 12.1837 - root_mean_squared_error: 3.4905 - val_loss: 503.5122 - val_root_mean_squared_error: 22.4391\n",
      "Epoch 344/500\n",
      "79/79 [==============================] - 1s 7ms/step - loss: 12.2201 - root_mean_squared_error: 3.4957 - val_loss: 508.3872 - val_root_mean_squared_error: 22.5474\n",
      "Epoch 345/500\n",
      "79/79 [==============================] - 1s 8ms/step - loss: 12.3988 - root_mean_squared_error: 3.5212 - val_loss: 505.2638 - val_root_mean_squared_error: 22.4781\n",
      "Epoch 346/500\n",
      "79/79 [==============================] - 1s 7ms/step - loss: 12.0269 - root_mean_squared_error: 3.4680 - val_loss: 508.6710 - val_root_mean_squared_error: 22.5537\n",
      "Epoch 347/500\n",
      "79/79 [==============================] - 1s 7ms/step - loss: 11.9959 - root_mean_squared_error: 3.4635 - val_loss: 513.1443 - val_root_mean_squared_error: 22.6527\n",
      "Epoch 348/500\n",
      "79/79 [==============================] - 1s 7ms/step - loss: 12.1046 - root_mean_squared_error: 3.4792 - val_loss: 512.2238 - val_root_mean_squared_error: 22.6324\n",
      "Epoch 349/500\n",
      "79/79 [==============================] - 1s 7ms/step - loss: 12.0511 - root_mean_squared_error: 3.4715 - val_loss: 509.6724 - val_root_mean_squared_error: 22.5759\n",
      "Epoch 350/500\n",
      "79/79 [==============================] - 1s 7ms/step - loss: 12.0850 - root_mean_squared_error: 3.4763 - val_loss: 506.6434 - val_root_mean_squared_error: 22.5087\n",
      "Epoch 351/500\n",
      "79/79 [==============================] - 1s 7ms/step - loss: 12.1349 - root_mean_squared_error: 3.4835 - val_loss: 506.1615 - val_root_mean_squared_error: 22.4980\n",
      "Epoch 352/500\n",
      "79/79 [==============================] - 1s 8ms/step - loss: 12.0996 - root_mean_squared_error: 3.4784 - val_loss: 507.6421 - val_root_mean_squared_error: 22.5309\n",
      "Epoch 353/500\n",
      "79/79 [==============================] - 1s 8ms/step - loss: 12.2531 - root_mean_squared_error: 3.5004 - val_loss: 506.9998 - val_root_mean_squared_error: 22.5167\n",
      "Epoch 354/500\n",
      "79/79 [==============================] - 1s 8ms/step - loss: 12.1222 - root_mean_squared_error: 3.4817 - val_loss: 508.0779 - val_root_mean_squared_error: 22.5406\n",
      "Epoch 355/500\n",
      "79/79 [==============================] - 1s 7ms/step - loss: 12.0504 - root_mean_squared_error: 3.4714 - val_loss: 503.1904 - val_root_mean_squared_error: 22.4319\n",
      "Epoch 356/500\n",
      "79/79 [==============================] - 1s 8ms/step - loss: 12.3251 - root_mean_squared_error: 3.5107 - val_loss: 508.5139 - val_root_mean_squared_error: 22.5503\n",
      "Epoch 357/500\n",
      "79/79 [==============================] - 1s 7ms/step - loss: 12.0331 - root_mean_squared_error: 3.4689 - val_loss: 507.3380 - val_root_mean_squared_error: 22.5242\n",
      "Epoch 358/500\n",
      "79/79 [==============================] - 1s 7ms/step - loss: 12.1603 - root_mean_squared_error: 3.4872 - val_loss: 504.3977 - val_root_mean_squared_error: 22.4588\n",
      "Epoch 359/500\n",
      "79/79 [==============================] - 1s 7ms/step - loss: 11.9960 - root_mean_squared_error: 3.4635 - val_loss: 502.7897 - val_root_mean_squared_error: 22.4230\n",
      "Epoch 360/500\n",
      "79/79 [==============================] - 1s 8ms/step - loss: 12.1982 - root_mean_squared_error: 3.4926 - val_loss: 503.8923 - val_root_mean_squared_error: 22.4475\n",
      "Epoch 361/500\n",
      "79/79 [==============================] - 1s 8ms/step - loss: 12.1982 - root_mean_squared_error: 3.4926 - val_loss: 505.2770 - val_root_mean_squared_error: 22.4784\n",
      "Epoch 362/500\n",
      "79/79 [==============================] - 1s 7ms/step - loss: 12.0351 - root_mean_squared_error: 3.4692 - val_loss: 506.7170 - val_root_mean_squared_error: 22.5104\n",
      "Epoch 363/500\n",
      "75/79 [===========================>..] - ETA: 0s - loss: 12.1360 - root_mean_squared_error: 3.4837INFO:tensorflow:Assets written to: model1\\assets\n"
     ]
    },
    {
     "name": "stderr",
     "output_type": "stream",
     "text": [
      "INFO:tensorflow:Assets written to: model1\\assets\n"
     ]
    },
    {
     "name": "stdout",
     "output_type": "stream",
     "text": [
      "79/79 [==============================] - 4s 45ms/step - loss: 12.0397 - root_mean_squared_error: 3.4698 - val_loss: 500.1659 - val_root_mean_squared_error: 22.3644\n",
      "Epoch 364/500\n",
      "79/79 [==============================] - 1s 8ms/step - loss: 12.2480 - root_mean_squared_error: 3.4997 - val_loss: 500.8640 - val_root_mean_squared_error: 22.3800\n",
      "Epoch 365/500\n",
      "79/79 [==============================] - 1s 9ms/step - loss: 12.1595 - root_mean_squared_error: 3.4871 - val_loss: 502.4108 - val_root_mean_squared_error: 22.4145\n",
      "Epoch 366/500\n",
      "79/79 [==============================] - 1s 7ms/step - loss: 12.1512 - root_mean_squared_error: 3.4859 - val_loss: 510.1325 - val_root_mean_squared_error: 22.5861\n",
      "Epoch 367/500\n",
      "79/79 [==============================] - 1s 7ms/step - loss: 12.3092 - root_mean_squared_error: 3.5084 - val_loss: 507.0457 - val_root_mean_squared_error: 22.5177\n",
      "Epoch 368/500\n",
      "79/79 [==============================] - 1s 7ms/step - loss: 12.1222 - root_mean_squared_error: 3.4817 - val_loss: 503.1914 - val_root_mean_squared_error: 22.4319\n",
      "Epoch 369/500\n",
      "79/79 [==============================] - 1s 7ms/step - loss: 12.0253 - root_mean_squared_error: 3.4677 - val_loss: 502.0069 - val_root_mean_squared_error: 22.4055\n",
      "Epoch 370/500\n",
      "79/79 [==============================] - 1s 7ms/step - loss: 11.9159 - root_mean_squared_error: 3.4519 - val_loss: 504.0362 - val_root_mean_squared_error: 22.4508\n",
      "Epoch 371/500\n",
      "79/79 [==============================] - 1s 7ms/step - loss: 12.0064 - root_mean_squared_error: 3.4650 - val_loss: 503.5614 - val_root_mean_squared_error: 22.4402\n",
      "Epoch 372/500\n",
      "73/79 [==========================>...] - ETA: 0s - loss: 12.1622 - root_mean_squared_error: 3.4874INFO:tensorflow:Assets written to: model1\\assets\n"
     ]
    },
    {
     "name": "stderr",
     "output_type": "stream",
     "text": [
      "INFO:tensorflow:Assets written to: model1\\assets\n"
     ]
    },
    {
     "name": "stdout",
     "output_type": "stream",
     "text": [
      "79/79 [==============================] - 4s 46ms/step - loss: 12.2151 - root_mean_squared_error: 3.4950 - val_loss: 498.2776 - val_root_mean_squared_error: 22.3221\n",
      "Epoch 373/500\n",
      "79/79 [==============================] - 1s 8ms/step - loss: 12.4168 - root_mean_squared_error: 3.5237 - val_loss: 510.0724 - val_root_mean_squared_error: 22.5848\n",
      "Epoch 374/500\n",
      "79/79 [==============================] - 1s 8ms/step - loss: 12.1847 - root_mean_squared_error: 3.4907 - val_loss: 503.9885 - val_root_mean_squared_error: 22.4497\n",
      "Epoch 375/500\n",
      "79/79 [==============================] - 1s 7ms/step - loss: 12.0587 - root_mean_squared_error: 3.4726 - val_loss: 504.7324 - val_root_mean_squared_error: 22.4662\n",
      "Epoch 376/500\n",
      "79/79 [==============================] - 1s 7ms/step - loss: 12.0115 - root_mean_squared_error: 3.4658 - val_loss: 502.3301 - val_root_mean_squared_error: 22.4127\n",
      "Epoch 377/500\n",
      "79/79 [==============================] - 1s 7ms/step - loss: 12.1746 - root_mean_squared_error: 3.4892 - val_loss: 499.8500 - val_root_mean_squared_error: 22.3573\n",
      "Epoch 378/500\n",
      "79/79 [==============================] - 1s 7ms/step - loss: 12.1675 - root_mean_squared_error: 3.4882 - val_loss: 505.2761 - val_root_mean_squared_error: 22.4783\n",
      "Epoch 379/500\n",
      "79/79 [==============================] - 1s 7ms/step - loss: 12.0977 - root_mean_squared_error: 3.4782 - val_loss: 504.5065 - val_root_mean_squared_error: 22.4612\n",
      "Epoch 380/500\n",
      "79/79 [==============================] - 1s 7ms/step - loss: 12.5154 - root_mean_squared_error: 3.5377 - val_loss: 500.2422 - val_root_mean_squared_error: 22.3661\n",
      "Epoch 381/500\n",
      "79/79 [==============================] - 1s 7ms/step - loss: 12.0137 - root_mean_squared_error: 3.4661 - val_loss: 503.7680 - val_root_mean_squared_error: 22.4448\n",
      "Epoch 382/500\n",
      "79/79 [==============================] - 1s 7ms/step - loss: 11.9908 - root_mean_squared_error: 3.4628 - val_loss: 502.4735 - val_root_mean_squared_error: 22.4159\n",
      "Epoch 383/500\n",
      "79/79 [==============================] - 1s 8ms/step - loss: 12.2420 - root_mean_squared_error: 3.4989 - val_loss: 500.5292 - val_root_mean_squared_error: 22.3725\n",
      "Epoch 384/500\n",
      "79/79 [==============================] - 1s 7ms/step - loss: 12.0566 - root_mean_squared_error: 3.4723 - val_loss: 503.3659 - val_root_mean_squared_error: 22.4358\n",
      "Epoch 385/500\n",
      "79/79 [==============================] - 1s 8ms/step - loss: 12.0897 - root_mean_squared_error: 3.4770 - val_loss: 503.1476 - val_root_mean_squared_error: 22.4310\n",
      "Epoch 386/500\n",
      "79/79 [==============================] - 1s 7ms/step - loss: 12.0110 - root_mean_squared_error: 3.4657 - val_loss: 506.9024 - val_root_mean_squared_error: 22.5145\n",
      "Epoch 387/500\n",
      "79/79 [==============================] - 1s 8ms/step - loss: 12.3040 - root_mean_squared_error: 3.5077 - val_loss: 498.7554 - val_root_mean_squared_error: 22.3328\n",
      "Epoch 388/500\n",
      "79/79 [==============================] - 1s 7ms/step - loss: 12.2163 - root_mean_squared_error: 3.4952 - val_loss: 502.2996 - val_root_mean_squared_error: 22.4120\n",
      "Epoch 389/500\n",
      "79/79 [==============================] - 1s 7ms/step - loss: 12.4948 - root_mean_squared_error: 3.5348 - val_loss: 509.0695 - val_root_mean_squared_error: 22.5626\n",
      "Epoch 390/500\n",
      "79/79 [==============================] - 1s 8ms/step - loss: 12.4744 - root_mean_squared_error: 3.5319 - val_loss: 504.1091 - val_root_mean_squared_error: 22.4524\n",
      "Epoch 391/500\n",
      "79/79 [==============================] - 1s 7ms/step - loss: 12.0557 - root_mean_squared_error: 3.4721 - val_loss: 507.8471 - val_root_mean_squared_error: 22.5355\n",
      "Epoch 392/500\n",
      "79/79 [==============================] - 1s 7ms/step - loss: 12.1225 - root_mean_squared_error: 3.4817 - val_loss: 502.0681 - val_root_mean_squared_error: 22.4069\n",
      "Epoch 393/500\n",
      "79/79 [==============================] - 1s 8ms/step - loss: 11.9483 - root_mean_squared_error: 3.4566 - val_loss: 499.9420 - val_root_mean_squared_error: 22.3594\n",
      "Epoch 394/500\n",
      "79/79 [==============================] - 1s 8ms/step - loss: 12.3189 - root_mean_squared_error: 3.5098 - val_loss: 505.0029 - val_root_mean_squared_error: 22.4723\n",
      "Epoch 395/500\n",
      "79/79 [==============================] - 1s 8ms/step - loss: 12.0641 - root_mean_squared_error: 3.4733 - val_loss: 504.8868 - val_root_mean_squared_error: 22.4697\n",
      "Epoch 396/500\n",
      "79/79 [==============================] - 1s 8ms/step - loss: 11.9878 - root_mean_squared_error: 3.4623 - val_loss: 503.6991 - val_root_mean_squared_error: 22.4432\n",
      "Epoch 397/500\n",
      "79/79 [==============================] - 1s 8ms/step - loss: 12.3553 - root_mean_squared_error: 3.5150 - val_loss: 512.9199 - val_root_mean_squared_error: 22.6477\n",
      "Epoch 398/500\n",
      "79/79 [==============================] - 1s 7ms/step - loss: 12.3024 - root_mean_squared_error: 3.5075 - val_loss: 504.5248 - val_root_mean_squared_error: 22.4616\n",
      "Epoch 399/500\n",
      "79/79 [==============================] - 1s 7ms/step - loss: 12.1523 - root_mean_squared_error: 3.4860 - val_loss: 506.6718 - val_root_mean_squared_error: 22.5094\n",
      "Epoch 400/500\n",
      "79/79 [==============================] - 1s 8ms/step - loss: 12.0689 - root_mean_squared_error: 3.4740 - val_loss: 499.6875 - val_root_mean_squared_error: 22.3537\n",
      "Epoch 401/500\n",
      "71/79 [=========================>....] - ETA: 0s - loss: 12.2636 - root_mean_squared_error: 3.5019INFO:tensorflow:Assets written to: model1\\assets\n"
     ]
    },
    {
     "name": "stderr",
     "output_type": "stream",
     "text": [
      "INFO:tensorflow:Assets written to: model1\\assets\n"
     ]
    },
    {
     "name": "stdout",
     "output_type": "stream",
     "text": [
      "79/79 [==============================] - 4s 46ms/step - loss: 11.9947 - root_mean_squared_error: 3.4633 - val_loss: 498.2266 - val_root_mean_squared_error: 22.3210\n",
      "Epoch 402/500\n",
      "79/79 [==============================] - 1s 7ms/step - loss: 12.0651 - root_mean_squared_error: 3.4735 - val_loss: 510.1173 - val_root_mean_squared_error: 22.5858\n",
      "Epoch 403/500\n",
      "79/79 [==============================] - 1s 8ms/step - loss: 12.1890 - root_mean_squared_error: 3.4913 - val_loss: 498.6612 - val_root_mean_squared_error: 22.3307\n",
      "Epoch 404/500\n",
      "79/79 [==============================] - 1s 7ms/step - loss: 12.0780 - root_mean_squared_error: 3.4753 - val_loss: 500.2430 - val_root_mean_squared_error: 22.3661\n",
      "Epoch 405/500\n",
      "73/79 [==========================>...] - ETA: 0s - loss: 11.9076 - root_mean_squared_error: 3.4507INFO:tensorflow:Assets written to: model1\\assets\n"
     ]
    },
    {
     "name": "stderr",
     "output_type": "stream",
     "text": [
      "INFO:tensorflow:Assets written to: model1\\assets\n"
     ]
    },
    {
     "name": "stdout",
     "output_type": "stream",
     "text": [
      "79/79 [==============================] - 4s 51ms/step - loss: 11.9460 - root_mean_squared_error: 3.4563 - val_loss: 494.0620 - val_root_mean_squared_error: 22.2275\n",
      "Epoch 406/500\n",
      "79/79 [==============================] - 1s 8ms/step - loss: 12.2147 - root_mean_squared_error: 3.4950 - val_loss: 502.1014 - val_root_mean_squared_error: 22.4076\n",
      "Epoch 407/500\n",
      "79/79 [==============================] - 1s 9ms/step - loss: 12.0045 - root_mean_squared_error: 3.4647 - val_loss: 502.7967 - val_root_mean_squared_error: 22.4231\n",
      "Epoch 408/500\n",
      "79/79 [==============================] - 1s 7ms/step - loss: 12.2399 - root_mean_squared_error: 3.4986 - val_loss: 496.1218 - val_root_mean_squared_error: 22.2738\n",
      "Epoch 409/500\n",
      "79/79 [==============================] - 1s 7ms/step - loss: 12.0502 - root_mean_squared_error: 3.4713 - val_loss: 501.1095 - val_root_mean_squared_error: 22.3855\n",
      "Epoch 410/500\n",
      "79/79 [==============================] - 1s 7ms/step - loss: 12.0374 - root_mean_squared_error: 3.4695 - val_loss: 501.0984 - val_root_mean_squared_error: 22.3852\n",
      "Epoch 411/500\n",
      "79/79 [==============================] - 1s 7ms/step - loss: 12.1658 - root_mean_squared_error: 3.4879 - val_loss: 509.0111 - val_root_mean_squared_error: 22.5613\n",
      "Epoch 412/500\n",
      "79/79 [==============================] - 1s 7ms/step - loss: 12.0045 - root_mean_squared_error: 3.4647 - val_loss: 507.5848 - val_root_mean_squared_error: 22.5296\n",
      "Epoch 413/500\n",
      "79/79 [==============================] - 1s 8ms/step - loss: 12.2425 - root_mean_squared_error: 3.4989 - val_loss: 516.4071 - val_root_mean_squared_error: 22.7246\n",
      "Epoch 414/500\n",
      "79/79 [==============================] - 1s 9ms/step - loss: 12.1876 - root_mean_squared_error: 3.4911 - val_loss: 504.2345 - val_root_mean_squared_error: 22.4552\n",
      "Epoch 415/500\n",
      "79/79 [==============================] - 1s 7ms/step - loss: 12.3438 - root_mean_squared_error: 3.5134 - val_loss: 501.5466 - val_root_mean_squared_error: 22.3952\n",
      "Epoch 416/500\n",
      "79/79 [==============================] - 1s 7ms/step - loss: 12.1053 - root_mean_squared_error: 3.4793 - val_loss: 505.1507 - val_root_mean_squared_error: 22.4756\n",
      "Epoch 417/500\n",
      "79/79 [==============================] - 1s 7ms/step - loss: 12.1407 - root_mean_squared_error: 3.4843 - val_loss: 510.1120 - val_root_mean_squared_error: 22.5857\n",
      "Epoch 418/500\n",
      "79/79 [==============================] - 1s 7ms/step - loss: 11.9766 - root_mean_squared_error: 3.4607 - val_loss: 505.6868 - val_root_mean_squared_error: 22.4875\n",
      "Epoch 419/500\n",
      "79/79 [==============================] - 1s 7ms/step - loss: 12.1495 - root_mean_squared_error: 3.4856 - val_loss: 501.5261 - val_root_mean_squared_error: 22.3948\n",
      "Epoch 420/500\n",
      "79/79 [==============================] - 1s 7ms/step - loss: 12.5130 - root_mean_squared_error: 3.5374 - val_loss: 497.1866 - val_root_mean_squared_error: 22.2977\n",
      "Epoch 421/500\n",
      "79/79 [==============================] - 1s 7ms/step - loss: 12.0744 - root_mean_squared_error: 3.4748 - val_loss: 502.0651 - val_root_mean_squared_error: 22.4068\n",
      "Epoch 422/500\n",
      "79/79 [==============================] - 1s 8ms/step - loss: 12.1518 - root_mean_squared_error: 3.4859 - val_loss: 500.4378 - val_root_mean_squared_error: 22.3705\n",
      "Epoch 423/500\n",
      "79/79 [==============================] - 1s 8ms/step - loss: 12.0065 - root_mean_squared_error: 3.4650 - val_loss: 501.0650 - val_root_mean_squared_error: 22.3845\n",
      "Epoch 424/500\n",
      "79/79 [==============================] - 1s 8ms/step - loss: 12.0525 - root_mean_squared_error: 3.4717 - val_loss: 499.4164 - val_root_mean_squared_error: 22.3476\n",
      "Epoch 425/500\n",
      "79/79 [==============================] - 1s 8ms/step - loss: 11.9755 - root_mean_squared_error: 3.4606 - val_loss: 505.1170 - val_root_mean_squared_error: 22.4748\n",
      "Epoch 426/500\n",
      "79/79 [==============================] - 1s 8ms/step - loss: 11.9547 - root_mean_squared_error: 3.4576 - val_loss: 503.2584 - val_root_mean_squared_error: 22.4334\n",
      "Epoch 427/500\n",
      "79/79 [==============================] - 1s 8ms/step - loss: 12.1165 - root_mean_squared_error: 3.4809 - val_loss: 510.2744 - val_root_mean_squared_error: 22.5893\n",
      "Epoch 428/500\n",
      "79/79 [==============================] - 1s 8ms/step - loss: 12.2536 - root_mean_squared_error: 3.5005 - val_loss: 496.1602 - val_root_mean_squared_error: 22.2747\n",
      "Epoch 429/500\n",
      "79/79 [==============================] - 1s 8ms/step - loss: 12.0948 - root_mean_squared_error: 3.4778 - val_loss: 504.4378 - val_root_mean_squared_error: 22.4597\n",
      "Epoch 430/500\n",
      "79/79 [==============================] - 1s 8ms/step - loss: 12.1932 - root_mean_squared_error: 3.4919 - val_loss: 498.6306 - val_root_mean_squared_error: 22.3300\n",
      "Epoch 431/500\n",
      "79/79 [==============================] - 1s 8ms/step - loss: 12.1477 - root_mean_squared_error: 3.4854 - val_loss: 499.9820 - val_root_mean_squared_error: 22.3603\n",
      "Epoch 432/500\n",
      "79/79 [==============================] - 1s 8ms/step - loss: 12.0002 - root_mean_squared_error: 3.4641 - val_loss: 496.6078 - val_root_mean_squared_error: 22.2847\n",
      "Epoch 433/500\n",
      "79/79 [==============================] - 1s 7ms/step - loss: 12.2021 - root_mean_squared_error: 3.4932 - val_loss: 502.0601 - val_root_mean_squared_error: 22.4067\n",
      "Epoch 434/500\n",
      "79/79 [==============================] - 1s 6ms/step - loss: 12.2697 - root_mean_squared_error: 3.5028 - val_loss: 500.6551 - val_root_mean_squared_error: 22.3753\n",
      "Epoch 435/500\n",
      "79/79 [==============================] - 1s 7ms/step - loss: 12.1013 - root_mean_squared_error: 3.4787 - val_loss: 497.3619 - val_root_mean_squared_error: 22.3016\n",
      "Epoch 436/500\n",
      "79/79 [==============================] - 1s 7ms/step - loss: 12.0204 - root_mean_squared_error: 3.4670 - val_loss: 504.7776 - val_root_mean_squared_error: 22.4673\n",
      "Epoch 437/500\n",
      "79/79 [==============================] - 1s 7ms/step - loss: 12.1008 - root_mean_squared_error: 3.4786 - val_loss: 497.4132 - val_root_mean_squared_error: 22.3028\n",
      "Epoch 438/500\n",
      "79/79 [==============================] - 1s 7ms/step - loss: 11.9591 - root_mean_squared_error: 3.4582 - val_loss: 497.9915 - val_root_mean_squared_error: 22.3157\n",
      "Epoch 439/500\n",
      "79/79 [==============================] - 1s 7ms/step - loss: 11.9385 - root_mean_squared_error: 3.4552 - val_loss: 502.1967 - val_root_mean_squared_error: 22.4097\n",
      "Epoch 440/500\n",
      "79/79 [==============================] - 1s 7ms/step - loss: 12.3166 - root_mean_squared_error: 3.5095 - val_loss: 498.9434 - val_root_mean_squared_error: 22.3370\n",
      "Epoch 441/500\n",
      "79/79 [==============================] - 1s 8ms/step - loss: 12.0307 - root_mean_squared_error: 3.4685 - val_loss: 498.9954 - val_root_mean_squared_error: 22.3382\n",
      "Epoch 442/500\n",
      "73/79 [==========================>...] - ETA: 0s - loss: 12.4870 - root_mean_squared_error: 3.5337INFO:tensorflow:Assets written to: model1\\assets\n"
     ]
    },
    {
     "name": "stderr",
     "output_type": "stream",
     "text": [
      "INFO:tensorflow:Assets written to: model1\\assets\n"
     ]
    },
    {
     "name": "stdout",
     "output_type": "stream",
     "text": [
      "79/79 [==============================] - 4s 49ms/step - loss: 12.3297 - root_mean_squared_error: 3.5114 - val_loss: 493.8112 - val_root_mean_squared_error: 22.2219\n",
      "Epoch 443/500\n",
      "79/79 [==============================] - 1s 7ms/step - loss: 12.1267 - root_mean_squared_error: 3.4823 - val_loss: 500.5898 - val_root_mean_squared_error: 22.3739\n",
      "Epoch 444/500\n",
      "78/79 [============================>.] - ETA: 0s - loss: 12.1189 - root_mean_squared_error: 3.4812INFO:tensorflow:Assets written to: model1\\assets\n"
     ]
    },
    {
     "name": "stderr",
     "output_type": "stream",
     "text": [
      "INFO:tensorflow:Assets written to: model1\\assets\n"
     ]
    },
    {
     "name": "stdout",
     "output_type": "stream",
     "text": [
      "79/79 [==============================] - 3s 44ms/step - loss: 12.1063 - root_mean_squared_error: 3.4794 - val_loss: 492.9508 - val_root_mean_squared_error: 22.2025\n",
      "Epoch 445/500\n",
      "79/79 [==============================] - 1s 8ms/step - loss: 11.9414 - root_mean_squared_error: 3.4556 - val_loss: 495.0644 - val_root_mean_squared_error: 22.2500\n",
      "Epoch 446/500\n",
      "79/79 [==============================] - 1s 6ms/step - loss: 12.0907 - root_mean_squared_error: 3.4772 - val_loss: 503.3569 - val_root_mean_squared_error: 22.4356\n",
      "Epoch 447/500\n",
      "79/79 [==============================] - 1s 7ms/step - loss: 12.1312 - root_mean_squared_error: 3.4830 - val_loss: 505.1461 - val_root_mean_squared_error: 22.4755\n",
      "Epoch 448/500\n",
      "79/79 [==============================] - 1s 7ms/step - loss: 12.0508 - root_mean_squared_error: 3.4714 - val_loss: 496.6220 - val_root_mean_squared_error: 22.2850\n",
      "Epoch 449/500\n",
      "79/79 [==============================] - 1s 7ms/step - loss: 11.9859 - root_mean_squared_error: 3.4621 - val_loss: 499.0630 - val_root_mean_squared_error: 22.3397\n",
      "Epoch 450/500\n",
      "79/79 [==============================] - 1s 7ms/step - loss: 12.1499 - root_mean_squared_error: 3.4857 - val_loss: 504.5926 - val_root_mean_squared_error: 22.4631\n",
      "Epoch 451/500\n",
      "79/79 [==============================] - 1s 7ms/step - loss: 12.2987 - root_mean_squared_error: 3.5070 - val_loss: 502.3312 - val_root_mean_squared_error: 22.4127\n",
      "Epoch 452/500\n",
      "79/79 [==============================] - 1s 7ms/step - loss: 12.1903 - root_mean_squared_error: 3.4915 - val_loss: 502.2073 - val_root_mean_squared_error: 22.4100\n",
      "Epoch 453/500\n",
      "79/79 [==============================] - 1s 8ms/step - loss: 12.0723 - root_mean_squared_error: 3.4745 - val_loss: 498.2091 - val_root_mean_squared_error: 22.3206\n",
      "Epoch 454/500\n",
      "79/79 [==============================] - 1s 7ms/step - loss: 11.9725 - root_mean_squared_error: 3.4601 - val_loss: 502.0773 - val_root_mean_squared_error: 22.4071\n",
      "Epoch 455/500\n",
      "79/79 [==============================] - 1s 7ms/step - loss: 12.1673 - root_mean_squared_error: 3.4882 - val_loss: 498.5798 - val_root_mean_squared_error: 22.3289\n",
      "Epoch 456/500\n",
      "79/79 [==============================] - 1s 7ms/step - loss: 12.1437 - root_mean_squared_error: 3.4848 - val_loss: 496.6206 - val_root_mean_squared_error: 22.2850\n",
      "Epoch 457/500\n",
      "79/79 [==============================] - 1s 7ms/step - loss: 12.0600 - root_mean_squared_error: 3.4728 - val_loss: 496.8439 - val_root_mean_squared_error: 22.2900\n",
      "Epoch 458/500\n",
      "79/79 [==============================] - 1s 7ms/step - loss: 12.0876 - root_mean_squared_error: 3.4767 - val_loss: 497.0626 - val_root_mean_squared_error: 22.2949\n",
      "Epoch 459/500\n",
      "79/79 [==============================] - 1s 8ms/step - loss: 11.9970 - root_mean_squared_error: 3.4637 - val_loss: 493.1112 - val_root_mean_squared_error: 22.2061\n",
      "Epoch 460/500\n",
      "79/79 [==============================] - 1s 8ms/step - loss: 12.0368 - root_mean_squared_error: 3.4694 - val_loss: 498.7654 - val_root_mean_squared_error: 22.3331\n",
      "Epoch 461/500\n",
      "79/79 [==============================] - 1s 7ms/step - loss: 12.0417 - root_mean_squared_error: 3.4701 - val_loss: 495.4375 - val_root_mean_squared_error: 22.2584\n",
      "Epoch 462/500\n",
      "79/79 [==============================] - 1s 7ms/step - loss: 12.6122 - root_mean_squared_error: 3.5514 - val_loss: 498.8698 - val_root_mean_squared_error: 22.3354\n",
      "Epoch 463/500\n",
      "79/79 [==============================] - 1s 7ms/step - loss: 12.2155 - root_mean_squared_error: 3.4951 - val_loss: 498.9148 - val_root_mean_squared_error: 22.3364\n",
      "Epoch 464/500\n",
      "79/79 [==============================] - 1s 7ms/step - loss: 12.0038 - root_mean_squared_error: 3.4646 - val_loss: 506.6367 - val_root_mean_squared_error: 22.5086\n",
      "Epoch 465/500\n",
      "79/79 [==============================] - 1s 7ms/step - loss: 12.3898 - root_mean_squared_error: 3.5199 - val_loss: 493.6644 - val_root_mean_squared_error: 22.2186\n",
      "Epoch 466/500\n",
      "79/79 [==============================] - 1s 7ms/step - loss: 11.9875 - root_mean_squared_error: 3.4623 - val_loss: 495.5503 - val_root_mean_squared_error: 22.2610\n",
      "Epoch 467/500\n",
      "79/79 [==============================] - 1s 7ms/step - loss: 11.9965 - root_mean_squared_error: 3.4636 - val_loss: 498.8452 - val_root_mean_squared_error: 22.3348\n",
      "Epoch 468/500\n",
      "79/79 [==============================] - 1s 7ms/step - loss: 11.9777 - root_mean_squared_error: 3.4609 - val_loss: 498.1034 - val_root_mean_squared_error: 22.3182\n",
      "Epoch 469/500\n",
      "79/79 [==============================] - 1s 7ms/step - loss: 11.9975 - root_mean_squared_error: 3.4637 - val_loss: 497.0841 - val_root_mean_squared_error: 22.2954\n",
      "Epoch 470/500\n",
      "79/79 [==============================] - 1s 7ms/step - loss: 12.1165 - root_mean_squared_error: 3.4809 - val_loss: 497.2697 - val_root_mean_squared_error: 22.2995\n",
      "Epoch 471/500\n",
      "79/79 [==============================] - 1s 7ms/step - loss: 11.9060 - root_mean_squared_error: 3.4505 - val_loss: 497.0466 - val_root_mean_squared_error: 22.2945\n",
      "Epoch 472/500\n",
      "79/79 [==============================] - 1s 7ms/step - loss: 12.0191 - root_mean_squared_error: 3.4669 - val_loss: 495.3941 - val_root_mean_squared_error: 22.2575\n",
      "Epoch 473/500\n",
      "79/79 [==============================] - 1s 7ms/step - loss: 12.1586 - root_mean_squared_error: 3.4869 - val_loss: 493.4721 - val_root_mean_squared_error: 22.2142\n",
      "Epoch 474/500\n",
      "74/79 [===========================>..] - ETA: 0s - loss: 12.2791 - root_mean_squared_error: 3.5042INFO:tensorflow:Assets written to: model1\\assets\n"
     ]
    },
    {
     "name": "stderr",
     "output_type": "stream",
     "text": [
      "INFO:tensorflow:Assets written to: model1\\assets\n"
     ]
    },
    {
     "name": "stdout",
     "output_type": "stream",
     "text": [
      "79/79 [==============================] - 3s 43ms/step - loss: 12.1665 - root_mean_squared_error: 3.4881 - val_loss: 492.6113 - val_root_mean_squared_error: 22.1948\n",
      "Epoch 475/500\n",
      "74/79 [===========================>..] - ETA: 0s - loss: 12.2895 - root_mean_squared_error: 3.5056INFO:tensorflow:Assets written to: model1\\assets\n"
     ]
    },
    {
     "name": "stderr",
     "output_type": "stream",
     "text": [
      "INFO:tensorflow:Assets written to: model1\\assets\n"
     ]
    },
    {
     "name": "stdout",
     "output_type": "stream",
     "text": [
      "79/79 [==============================] - 4s 45ms/step - loss: 12.2038 - root_mean_squared_error: 3.4934 - val_loss: 483.4718 - val_root_mean_squared_error: 21.9880\n",
      "Epoch 476/500\n",
      "79/79 [==============================] - 1s 7ms/step - loss: 12.1417 - root_mean_squared_error: 3.4845 - val_loss: 488.8521 - val_root_mean_squared_error: 22.1100\n",
      "Epoch 477/500\n",
      "79/79 [==============================] - 0s 6ms/step - loss: 12.0598 - root_mean_squared_error: 3.4727 - val_loss: 493.4805 - val_root_mean_squared_error: 22.2144\n",
      "Epoch 478/500\n",
      "79/79 [==============================] - 1s 7ms/step - loss: 12.0799 - root_mean_squared_error: 3.4756 - val_loss: 494.7146 - val_root_mean_squared_error: 22.2422\n",
      "Epoch 479/500\n",
      "79/79 [==============================] - 1s 6ms/step - loss: 12.2078 - root_mean_squared_error: 3.4940 - val_loss: 497.9059 - val_root_mean_squared_error: 22.3138\n",
      "Epoch 480/500\n",
      "79/79 [==============================] - 0s 6ms/step - loss: 12.1393 - root_mean_squared_error: 3.4842 - val_loss: 494.8602 - val_root_mean_squared_error: 22.2455\n",
      "Epoch 481/500\n",
      "79/79 [==============================] - 1s 7ms/step - loss: 12.0368 - root_mean_squared_error: 3.4694 - val_loss: 489.2401 - val_root_mean_squared_error: 22.1188\n",
      "Epoch 482/500\n",
      "79/79 [==============================] - 1s 7ms/step - loss: 12.2053 - root_mean_squared_error: 3.4936 - val_loss: 491.5858 - val_root_mean_squared_error: 22.1717\n",
      "Epoch 483/500\n",
      "79/79 [==============================] - 1s 7ms/step - loss: 12.0431 - root_mean_squared_error: 3.4703 - val_loss: 491.5868 - val_root_mean_squared_error: 22.1718\n",
      "Epoch 484/500\n",
      "79/79 [==============================] - 1s 8ms/step - loss: 12.0578 - root_mean_squared_error: 3.4724 - val_loss: 496.6801 - val_root_mean_squared_error: 22.2863\n",
      "Epoch 485/500\n",
      "79/79 [==============================] - 1s 8ms/step - loss: 12.0092 - root_mean_squared_error: 3.4654 - val_loss: 493.4935 - val_root_mean_squared_error: 22.2147\n",
      "Epoch 486/500\n",
      "79/79 [==============================] - 1s 7ms/step - loss: 11.9886 - root_mean_squared_error: 3.4625 - val_loss: 493.4811 - val_root_mean_squared_error: 22.2144\n",
      "Epoch 487/500\n",
      "79/79 [==============================] - 1s 8ms/step - loss: 11.9863 - root_mean_squared_error: 3.4621 - val_loss: 498.6564 - val_root_mean_squared_error: 22.3306\n",
      "Epoch 488/500\n",
      "79/79 [==============================] - 1s 8ms/step - loss: 12.4303 - root_mean_squared_error: 3.5257 - val_loss: 497.4359 - val_root_mean_squared_error: 22.3033\n",
      "Epoch 489/500\n",
      "79/79 [==============================] - 1s 7ms/step - loss: 12.1051 - root_mean_squared_error: 3.4792 - val_loss: 502.4734 - val_root_mean_squared_error: 22.4159\n",
      "Epoch 490/500\n",
      "79/79 [==============================] - 1s 7ms/step - loss: 12.0507 - root_mean_squared_error: 3.4714 - val_loss: 491.8892 - val_root_mean_squared_error: 22.1786\n",
      "Epoch 491/500\n",
      "79/79 [==============================] - 1s 8ms/step - loss: 12.0059 - root_mean_squared_error: 3.4650 - val_loss: 496.1775 - val_root_mean_squared_error: 22.2750\n",
      "Epoch 492/500\n",
      "79/79 [==============================] - 1s 8ms/step - loss: 12.0109 - root_mean_squared_error: 3.4657 - val_loss: 502.9612 - val_root_mean_squared_error: 22.4268\n",
      "Epoch 493/500\n",
      "79/79 [==============================] - 1s 7ms/step - loss: 11.9798 - root_mean_squared_error: 3.4612 - val_loss: 491.8654 - val_root_mean_squared_error: 22.1780\n",
      "Epoch 494/500\n",
      "79/79 [==============================] - 1s 7ms/step - loss: 12.0708 - root_mean_squared_error: 3.4743 - val_loss: 495.4850 - val_root_mean_squared_error: 22.2595\n",
      "Epoch 495/500\n",
      "79/79 [==============================] - 1s 7ms/step - loss: 12.1304 - root_mean_squared_error: 3.4829 - val_loss: 495.9325 - val_root_mean_squared_error: 22.2695\n",
      "Epoch 496/500\n",
      "79/79 [==============================] - 1s 8ms/step - loss: 11.9819 - root_mean_squared_error: 3.4615 - val_loss: 497.6380 - val_root_mean_squared_error: 22.3078\n",
      "Epoch 497/500\n",
      "79/79 [==============================] - 1s 8ms/step - loss: 11.9585 - root_mean_squared_error: 3.4581 - val_loss: 499.0650 - val_root_mean_squared_error: 22.3398\n",
      "Epoch 498/500\n",
      "79/79 [==============================] - 1s 8ms/step - loss: 12.1269 - root_mean_squared_error: 3.4824 - val_loss: 497.2746 - val_root_mean_squared_error: 22.2997\n",
      "Epoch 499/500\n",
      "79/79 [==============================] - 1s 8ms/step - loss: 12.0764 - root_mean_squared_error: 3.4751 - val_loss: 500.3820 - val_root_mean_squared_error: 22.3692\n",
      "Epoch 500/500\n",
      "79/79 [==============================] - 1s 8ms/step - loss: 12.2142 - root_mean_squared_error: 3.4949 - val_loss: 491.6496 - val_root_mean_squared_error: 22.1732\n"
     ]
    },
    {
     "data": {
      "text/plain": [
       "<keras.src.callbacks.History at 0x232f172fb10>"
      ]
     },
     "execution_count": 193,
     "metadata": {},
     "output_type": "execute_result"
    }
   ],
   "source": [
    "model1.fit(X_train1, y_train1, validation_data=(X_val1, y_val1), epochs=500, callbacks=[cp1])"
   ]
  },
  {
   "cell_type": "code",
   "execution_count": 194,
   "metadata": {},
   "outputs": [],
   "source": [
    "from tensorflow.keras.models import load_model\n",
    "model1 = load_model('model1/')"
   ]
  },
  {
   "cell_type": "code",
   "execution_count": 195,
   "metadata": {},
   "outputs": [
    {
     "name": "stdout",
     "output_type": "stream",
     "text": [
      "79/79 [==============================] - 1s 5ms/step\n"
     ]
    },
    {
     "data": {
      "text/html": [
       "<div>\n",
       "<style scoped>\n",
       "    .dataframe tbody tr th:only-of-type {\n",
       "        vertical-align: middle;\n",
       "    }\n",
       "\n",
       "    .dataframe tbody tr th {\n",
       "        vertical-align: top;\n",
       "    }\n",
       "\n",
       "    .dataframe thead th {\n",
       "        text-align: right;\n",
       "    }\n",
       "</style>\n",
       "<table border=\"1\" class=\"dataframe\">\n",
       "  <thead>\n",
       "    <tr style=\"text-align: right;\">\n",
       "      <th></th>\n",
       "      <th>Train Predictions</th>\n",
       "      <th>Actuals</th>\n",
       "    </tr>\n",
       "  </thead>\n",
       "  <tbody>\n",
       "    <tr>\n",
       "      <th>50</th>\n",
       "      <td>136.450012</td>\n",
       "      <td>136.00</td>\n",
       "    </tr>\n",
       "    <tr>\n",
       "      <th>51</th>\n",
       "      <td>136.833130</td>\n",
       "      <td>136.25</td>\n",
       "    </tr>\n",
       "    <tr>\n",
       "      <th>52</th>\n",
       "      <td>136.771561</td>\n",
       "      <td>138.25</td>\n",
       "    </tr>\n",
       "    <tr>\n",
       "      <th>53</th>\n",
       "      <td>138.917328</td>\n",
       "      <td>139.50</td>\n",
       "    </tr>\n",
       "    <tr>\n",
       "      <th>54</th>\n",
       "      <td>140.278122</td>\n",
       "      <td>139.00</td>\n",
       "    </tr>\n",
       "    <tr>\n",
       "      <th>55</th>\n",
       "      <td>139.687225</td>\n",
       "      <td>135.25</td>\n",
       "    </tr>\n",
       "    <tr>\n",
       "      <th>56</th>\n",
       "      <td>135.951691</td>\n",
       "      <td>137.50</td>\n",
       "    </tr>\n",
       "    <tr>\n",
       "      <th>57</th>\n",
       "      <td>138.145432</td>\n",
       "      <td>136.50</td>\n",
       "    </tr>\n",
       "    <tr>\n",
       "      <th>58</th>\n",
       "      <td>137.479950</td>\n",
       "      <td>140.50</td>\n",
       "    </tr>\n",
       "    <tr>\n",
       "      <th>59</th>\n",
       "      <td>141.064377</td>\n",
       "      <td>139.50</td>\n",
       "    </tr>\n",
       "    <tr>\n",
       "      <th>60</th>\n",
       "      <td>140.423279</td>\n",
       "      <td>140.50</td>\n",
       "    </tr>\n",
       "    <tr>\n",
       "      <th>61</th>\n",
       "      <td>141.044739</td>\n",
       "      <td>137.25</td>\n",
       "    </tr>\n",
       "    <tr>\n",
       "      <th>62</th>\n",
       "      <td>138.065048</td>\n",
       "      <td>146.25</td>\n",
       "    </tr>\n",
       "    <tr>\n",
       "      <th>63</th>\n",
       "      <td>146.900879</td>\n",
       "      <td>144.00</td>\n",
       "    </tr>\n",
       "    <tr>\n",
       "      <th>64</th>\n",
       "      <td>145.265472</td>\n",
       "      <td>139.75</td>\n",
       "    </tr>\n",
       "    <tr>\n",
       "      <th>65</th>\n",
       "      <td>140.097916</td>\n",
       "      <td>143.00</td>\n",
       "    </tr>\n",
       "    <tr>\n",
       "      <th>66</th>\n",
       "      <td>143.840530</td>\n",
       "      <td>145.25</td>\n",
       "    </tr>\n",
       "    <tr>\n",
       "      <th>67</th>\n",
       "      <td>146.384277</td>\n",
       "      <td>143.50</td>\n",
       "    </tr>\n",
       "    <tr>\n",
       "      <th>68</th>\n",
       "      <td>144.220795</td>\n",
       "      <td>140.00</td>\n",
       "    </tr>\n",
       "    <tr>\n",
       "      <th>69</th>\n",
       "      <td>140.645294</td>\n",
       "      <td>135.00</td>\n",
       "    </tr>\n",
       "    <tr>\n",
       "      <th>70</th>\n",
       "      <td>135.905960</td>\n",
       "      <td>136.50</td>\n",
       "    </tr>\n",
       "    <tr>\n",
       "      <th>71</th>\n",
       "      <td>137.369720</td>\n",
       "      <td>140.50</td>\n",
       "    </tr>\n",
       "    <tr>\n",
       "      <th>72</th>\n",
       "      <td>141.506973</td>\n",
       "      <td>141.00</td>\n",
       "    </tr>\n",
       "    <tr>\n",
       "      <th>73</th>\n",
       "      <td>141.871063</td>\n",
       "      <td>141.75</td>\n",
       "    </tr>\n",
       "    <tr>\n",
       "      <th>74</th>\n",
       "      <td>142.340942</td>\n",
       "      <td>139.25</td>\n",
       "    </tr>\n",
       "    <tr>\n",
       "      <th>75</th>\n",
       "      <td>139.987915</td>\n",
       "      <td>140.00</td>\n",
       "    </tr>\n",
       "    <tr>\n",
       "      <th>76</th>\n",
       "      <td>140.696823</td>\n",
       "      <td>138.00</td>\n",
       "    </tr>\n",
       "    <tr>\n",
       "      <th>77</th>\n",
       "      <td>138.899597</td>\n",
       "      <td>142.75</td>\n",
       "    </tr>\n",
       "    <tr>\n",
       "      <th>78</th>\n",
       "      <td>143.440582</td>\n",
       "      <td>130.00</td>\n",
       "    </tr>\n",
       "    <tr>\n",
       "      <th>79</th>\n",
       "      <td>131.189484</td>\n",
       "      <td>130.00</td>\n",
       "    </tr>\n",
       "    <tr>\n",
       "      <th>80</th>\n",
       "      <td>130.502594</td>\n",
       "      <td>127.75</td>\n",
       "    </tr>\n",
       "    <tr>\n",
       "      <th>81</th>\n",
       "      <td>129.158020</td>\n",
       "      <td>123.25</td>\n",
       "    </tr>\n",
       "    <tr>\n",
       "      <th>82</th>\n",
       "      <td>124.193542</td>\n",
       "      <td>124.50</td>\n",
       "    </tr>\n",
       "    <tr>\n",
       "      <th>83</th>\n",
       "      <td>125.053635</td>\n",
       "      <td>123.75</td>\n",
       "    </tr>\n",
       "    <tr>\n",
       "      <th>84</th>\n",
       "      <td>124.676041</td>\n",
       "      <td>121.50</td>\n",
       "    </tr>\n",
       "    <tr>\n",
       "      <th>85</th>\n",
       "      <td>122.251785</td>\n",
       "      <td>121.50</td>\n",
       "    </tr>\n",
       "    <tr>\n",
       "      <th>86</th>\n",
       "      <td>122.104355</td>\n",
       "      <td>119.50</td>\n",
       "    </tr>\n",
       "    <tr>\n",
       "      <th>87</th>\n",
       "      <td>120.416077</td>\n",
       "      <td>124.75</td>\n",
       "    </tr>\n",
       "    <tr>\n",
       "      <th>88</th>\n",
       "      <td>124.949020</td>\n",
       "      <td>125.50</td>\n",
       "    </tr>\n",
       "    <tr>\n",
       "      <th>89</th>\n",
       "      <td>126.505051</td>\n",
       "      <td>125.00</td>\n",
       "    </tr>\n",
       "    <tr>\n",
       "      <th>90</th>\n",
       "      <td>125.579865</td>\n",
       "      <td>124.00</td>\n",
       "    </tr>\n",
       "    <tr>\n",
       "      <th>91</th>\n",
       "      <td>124.630844</td>\n",
       "      <td>124.00</td>\n",
       "    </tr>\n",
       "    <tr>\n",
       "      <th>92</th>\n",
       "      <td>124.612534</td>\n",
       "      <td>125.25</td>\n",
       "    </tr>\n",
       "    <tr>\n",
       "      <th>93</th>\n",
       "      <td>125.839485</td>\n",
       "      <td>123.25</td>\n",
       "    </tr>\n",
       "    <tr>\n",
       "      <th>94</th>\n",
       "      <td>124.087471</td>\n",
       "      <td>121.00</td>\n",
       "    </tr>\n",
       "    <tr>\n",
       "      <th>95</th>\n",
       "      <td>121.694412</td>\n",
       "      <td>123.75</td>\n",
       "    </tr>\n",
       "    <tr>\n",
       "      <th>96</th>\n",
       "      <td>124.192200</td>\n",
       "      <td>127.50</td>\n",
       "    </tr>\n",
       "    <tr>\n",
       "      <th>97</th>\n",
       "      <td>128.128662</td>\n",
       "      <td>128.75</td>\n",
       "    </tr>\n",
       "    <tr>\n",
       "      <th>98</th>\n",
       "      <td>129.498688</td>\n",
       "      <td>128.25</td>\n",
       "    </tr>\n",
       "    <tr>\n",
       "      <th>99</th>\n",
       "      <td>128.822113</td>\n",
       "      <td>128.75</td>\n",
       "    </tr>\n",
       "  </tbody>\n",
       "</table>\n",
       "</div>"
      ],
      "text/plain": [
       "    Train Predictions  Actuals\n",
       "50         136.450012   136.00\n",
       "51         136.833130   136.25\n",
       "52         136.771561   138.25\n",
       "53         138.917328   139.50\n",
       "54         140.278122   139.00\n",
       "55         139.687225   135.25\n",
       "56         135.951691   137.50\n",
       "57         138.145432   136.50\n",
       "58         137.479950   140.50\n",
       "59         141.064377   139.50\n",
       "60         140.423279   140.50\n",
       "61         141.044739   137.25\n",
       "62         138.065048   146.25\n",
       "63         146.900879   144.00\n",
       "64         145.265472   139.75\n",
       "65         140.097916   143.00\n",
       "66         143.840530   145.25\n",
       "67         146.384277   143.50\n",
       "68         144.220795   140.00\n",
       "69         140.645294   135.00\n",
       "70         135.905960   136.50\n",
       "71         137.369720   140.50\n",
       "72         141.506973   141.00\n",
       "73         141.871063   141.75\n",
       "74         142.340942   139.25\n",
       "75         139.987915   140.00\n",
       "76         140.696823   138.00\n",
       "77         138.899597   142.75\n",
       "78         143.440582   130.00\n",
       "79         131.189484   130.00\n",
       "80         130.502594   127.75\n",
       "81         129.158020   123.25\n",
       "82         124.193542   124.50\n",
       "83         125.053635   123.75\n",
       "84         124.676041   121.50\n",
       "85         122.251785   121.50\n",
       "86         122.104355   119.50\n",
       "87         120.416077   124.75\n",
       "88         124.949020   125.50\n",
       "89         126.505051   125.00\n",
       "90         125.579865   124.00\n",
       "91         124.630844   124.00\n",
       "92         124.612534   125.25\n",
       "93         125.839485   123.25\n",
       "94         124.087471   121.00\n",
       "95         121.694412   123.75\n",
       "96         124.192200   127.50\n",
       "97         128.128662   128.75\n",
       "98         129.498688   128.25\n",
       "99         128.822113   128.75"
      ]
     },
     "execution_count": 195,
     "metadata": {},
     "output_type": "execute_result"
    }
   ],
   "source": [
    "train_predictions = model1.predict(X_train1).flatten()\n",
    "train_results = pd.DataFrame(data={'Train Predictions':train_predictions, 'Actuals':y_train1})\n",
    "train_results[50:100]"
   ]
  },
  {
   "cell_type": "code",
   "execution_count": 111,
   "metadata": {},
   "outputs": [
    {
     "data": {
      "text/plain": [
       "[<matplotlib.lines.Line2D at 0x232e5be3090>]"
      ]
     },
     "execution_count": 111,
     "metadata": {},
     "output_type": "execute_result"
    },
    {
     "data": {
      "image/png": "[encoded data removed]",
      "text/plain": [
       "<Figure size 640x480 with 1 Axes>"
      ]
     },
     "metadata": {},
     "output_type": "display_data"
    }
   ],
   "source": [
    "import matplotlib.pyplot as plt\n",
    "plt.plot(train_results['Train Predictions'][50:100],color='orange')\n",
    "plt.plot(train_results['Actuals'][50:100],color='blue')"
   ]
  },
  {
   "cell_type": "code",
   "execution_count": 112,
   "metadata": {},
   "outputs": [
    {
     "name": "stdout",
     "output_type": "stream",
     "text": [
      "13/13 [==============================] - 0s 4ms/step\n"
     ]
    },
    {
     "data": {
      "text/html": [
       "<div>\n",
       "<style scoped>\n",
       "    .dataframe tbody tr th:only-of-type {\n",
       "        vertical-align: middle;\n",
       "    }\n",
       "\n",
       "    .dataframe tbody tr th {\n",
       "        vertical-align: top;\n",
       "    }\n",
       "\n",
       "    .dataframe thead th {\n",
       "        text-align: right;\n",
       "    }\n",
       "</style>\n",
       "<table border=\"1\" class=\"dataframe\">\n",
       "  <thead>\n",
       "    <tr style=\"text-align: right;\">\n",
       "      <th></th>\n",
       "      <th>Val Predictions</th>\n",
       "      <th>Actuals</th>\n",
       "    </tr>\n",
       "  </thead>\n",
       "  <tbody>\n",
       "    <tr>\n",
       "      <th>0</th>\n",
       "      <td>186.322021</td>\n",
       "      <td>187.300003</td>\n",
       "    </tr>\n",
       "    <tr>\n",
       "      <th>1</th>\n",
       "      <td>187.426758</td>\n",
       "      <td>187.500000</td>\n",
       "    </tr>\n",
       "    <tr>\n",
       "      <th>2</th>\n",
       "      <td>187.766403</td>\n",
       "      <td>186.699997</td>\n",
       "    </tr>\n",
       "    <tr>\n",
       "      <th>3</th>\n",
       "      <td>187.255920</td>\n",
       "      <td>191.500000</td>\n",
       "    </tr>\n",
       "    <tr>\n",
       "      <th>4</th>\n",
       "      <td>191.485748</td>\n",
       "      <td>193.800003</td>\n",
       "    </tr>\n",
       "    <tr>\n",
       "      <th>...</th>\n",
       "      <td>...</td>\n",
       "      <td>...</td>\n",
       "    </tr>\n",
       "    <tr>\n",
       "      <th>395</th>\n",
       "      <td>316.977570</td>\n",
       "      <td>314.000000</td>\n",
       "    </tr>\n",
       "    <tr>\n",
       "      <th>396</th>\n",
       "      <td>316.172028</td>\n",
       "      <td>315.799988</td>\n",
       "    </tr>\n",
       "    <tr>\n",
       "      <th>397</th>\n",
       "      <td>316.781586</td>\n",
       "      <td>322.200012</td>\n",
       "    </tr>\n",
       "    <tr>\n",
       "      <th>398</th>\n",
       "      <td>319.892120</td>\n",
       "      <td>321.799988</td>\n",
       "    </tr>\n",
       "    <tr>\n",
       "      <th>399</th>\n",
       "      <td>320.473480</td>\n",
       "      <td>321.000000</td>\n",
       "    </tr>\n",
       "  </tbody>\n",
       "</table>\n",
       "<p>400 rows × 2 columns</p>\n",
       "</div>"
      ],
      "text/plain": [
       "     Val Predictions     Actuals\n",
       "0         186.322021  187.300003\n",
       "1         187.426758  187.500000\n",
       "2         187.766403  186.699997\n",
       "3         187.255920  191.500000\n",
       "4         191.485748  193.800003\n",
       "..               ...         ...\n",
       "395       316.977570  314.000000\n",
       "396       316.172028  315.799988\n",
       "397       316.781586  322.200012\n",
       "398       319.892120  321.799988\n",
       "399       320.473480  321.000000\n",
       "\n",
       "[400 rows x 2 columns]"
      ]
     },
     "execution_count": 112,
     "metadata": {},
     "output_type": "execute_result"
    }
   ],
   "source": [
    "val_predictions = model1.predict(X_val1).flatten()\n",
    "val_results = pd.DataFrame(data={'Val Predictions':val_predictions, 'Actuals':y_val1})\n",
    "val_results"
   ]
  },
  {
   "cell_type": "code",
   "execution_count": 113,
   "metadata": {},
   "outputs": [
    {
     "data": {
      "text/plain": [
       "[<matplotlib.lines.Line2D at 0x232e5d10690>]"
      ]
     },
     "execution_count": 113,
     "metadata": {},
     "output_type": "execute_result"
    },
    {
     "data": {
      "image/png": "[encoded data removed]",
      "text/plain": [
       "<Figure size 640x480 with 1 Axes>"
      ]
     },
     "metadata": {},
     "output_type": "display_data"
    }
   ],
   "source": [
    "plt.plot(val_results['Val Predictions'][:100])\n",
    "plt.plot(val_results['Actuals'][:100])"
   ]
  },
  {
   "cell_type": "code",
   "execution_count": 197,
   "metadata": {},
   "outputs": [
    {
     "name": "stdout",
     "output_type": "stream",
     "text": [
      "(1, 5, 1)\n",
      "1/1 [==============================] - 0s 25ms/step\n",
      "1/1 [==============================] - 0s 18ms/step\n",
      "1/1 [==============================] - 0s 37ms/step\n",
      "1/1 [==============================] - 0s 27ms/step\n",
      "1/1 [==============================] - 0s 27ms/step\n",
      "1/1 [==============================] - 0s 22ms/step\n",
      "1/1 [==============================] - 0s 27ms/step\n",
      "1/1 [==============================] - 0s 22ms/step\n",
      "1/1 [==============================] - 0s 25ms/step\n",
      "1/1 [==============================] - 0s 24ms/step\n",
      "1/1 [==============================] - 0s 16ms/step\n",
      "1/1 [==============================] - 0s 15ms/step\n",
      "1/1 [==============================] - 0s 33ms/step\n",
      "1/1 [==============================] - 0s 27ms/step\n",
      "1/1 [==============================] - 0s 17ms/step\n",
      "1/1 [==============================] - 0s 29ms/step\n",
      "1/1 [==============================] - 0s 34ms/step\n",
      "1/1 [==============================] - 0s 22ms/step\n",
      "1/1 [==============================] - 0s 12ms/step\n",
      "1/1 [==============================] - 0s 36ms/step\n",
      "1/1 [==============================] - 0s 26ms/step\n",
      "1/1 [==============================] - 0s 24ms/step\n",
      "1/1 [==============================] - 0s 24ms/step\n",
      "1/1 [==============================] - 0s 28ms/step\n",
      "1/1 [==============================] - 0s 25ms/step\n",
      "1/1 [==============================] - 0s 15ms/step\n",
      "1/1 [==============================] - 0s 37ms/step\n",
      "1/1 [==============================] - 0s 15ms/step\n",
      "1/1 [==============================] - 0s 16ms/step\n",
      "1/1 [==============================] - 0s 39ms/step\n",
      "1/1 [==============================] - 0s 22ms/step\n",
      "1/1 [==============================] - 0s 17ms/step\n",
      "1/1 [==============================] - 0s 24ms/step\n",
      "1/1 [==============================] - 0s 20ms/step\n",
      "1/1 [==============================] - 0s 26ms/step\n",
      "1/1 [==============================] - 0s 24ms/step\n",
      "1/1 [==============================] - 0s 22ms/step\n",
      "1/1 [==============================] - 0s 22ms/step\n",
      "1/1 [==============================] - 0s 26ms/step\n",
      "1/1 [==============================] - 0s 22ms/step\n",
      "1/1 [==============================] - 0s 28ms/step\n",
      "1/1 [==============================] - 0s 21ms/step\n",
      "1/1 [==============================] - 0s 26ms/step\n",
      "1/1 [==============================] - 0s 23ms/step\n",
      "1/1 [==============================] - 0s 26ms/step\n",
      "1/1 [==============================] - 0s 22ms/step\n",
      "1/1 [==============================] - 0s 23ms/step\n",
      "1/1 [==============================] - 0s 39ms/step\n",
      "1/1 [==============================] - 0s 25ms/step\n",
      "1/1 [==============================] - 0s 14ms/step\n",
      "1/1 [==============================] - 0s 26ms/step\n",
      "1/1 [==============================] - 0s 17ms/step\n",
      "1/1 [==============================] - 0s 25ms/step\n",
      "1/1 [==============================] - 0s 24ms/step\n",
      "1/1 [==============================] - 0s 23ms/step\n",
      "1/1 [==============================] - 0s 22ms/step\n",
      "1/1 [==============================] - 0s 25ms/step\n",
      "1/1 [==============================] - 0s 22ms/step\n",
      "1/1 [==============================] - 0s 28ms/step\n",
      "1/1 [==============================] - 0s 22ms/step\n",
      "1/1 [==============================] - 0s 25ms/step\n",
      "1/1 [==============================] - 0s 24ms/step\n",
      "1/1 [==============================] - 0s 24ms/step\n",
      "1/1 [==============================] - 0s 22ms/step\n",
      "1/1 [==============================] - 0s 20ms/step\n",
      "1/1 [==============================] - 0s 21ms/step\n",
      "1/1 [==============================] - 0s 15ms/step\n",
      "1/1 [==============================] - 0s 23ms/step\n",
      "1/1 [==============================] - 0s 39ms/step\n",
      "1/1 [==============================] - 0s 21ms/step\n",
      "1/1 [==============================] - 0s 26ms/step\n",
      "1/1 [==============================] - 0s 23ms/step\n",
      "1/1 [==============================] - 0s 24ms/step\n",
      "1/1 [==============================] - 0s 22ms/step\n",
      "1/1 [==============================] - 0s 23ms/step\n",
      "1/1 [==============================] - 0s 24ms/step\n",
      "1/1 [==============================] - 0s 22ms/step\n",
      "1/1 [==============================] - 0s 23ms/step\n",
      "1/1 [==============================] - 0s 25ms/step\n",
      "1/1 [==============================] - 0s 18ms/step\n",
      "1/1 [==============================] - 0s 8ms/step\n",
      "1/1 [==============================] - 0s 16ms/step\n",
      "1/1 [==============================] - 0s 23ms/step\n",
      "1/1 [==============================] - 0s 25ms/step\n",
      "1/1 [==============================] - 0s 22ms/step\n",
      "1/1 [==============================] - 0s 26ms/step\n",
      "1/1 [==============================] - 0s 21ms/step\n",
      "1/1 [==============================] - 0s 15ms/step\n",
      "1/1 [==============================] - 0s 27ms/step\n",
      "1/1 [==============================] - 0s 24ms/step\n",
      "1/1 [==============================] - 0s 24ms/step\n",
      "1/1 [==============================] - 0s 28ms/step\n",
      "1/1 [==============================] - 0s 22ms/step\n",
      "1/1 [==============================] - 0s 31ms/step\n",
      "1/1 [==============================] - 0s 24ms/step\n"
     ]
    }
   ],
   "source": [
    "test_predictions = []\n",
    "\n",
    "first_eval_batch = X_train1[-1:]\n",
    "print(first_eval_batch.shape)\n",
    "current_batch = first_eval_batch.reshape((1, n_inputs , n_features))\n",
    "\n",
    "for i in range(len(X_test1)):\n",
    "\n",
    "    # get the prediction value for the first batch\n",
    "    current_pred = model1.predict(current_batch)[0]\n",
    "\n",
    "    # append the prediction into the array\n",
    "    test_predictions.append(current_pred)\n",
    "\n",
    "    # use the prediction to update the batch and remove the first value\n",
    "    current_batch = np.append(current_batch[:,1:,:],[[current_pred]],axis=1)\n",
    "\n",
    "# print(test_predictions.shape)"
   ]
  },
  {
   "cell_type": "code",
   "execution_count": 198,
   "metadata": {},
   "outputs": [
    {
     "data": {
      "text/html": [
       "<div>\n",
       "<style scoped>\n",
       "    .dataframe tbody tr th:only-of-type {\n",
       "        vertical-align: middle;\n",
       "    }\n",
       "\n",
       "    .dataframe tbody tr th {\n",
       "        vertical-align: top;\n",
       "    }\n",
       "\n",
       "    .dataframe thead th {\n",
       "        text-align: right;\n",
       "    }\n",
       "</style>\n",
       "<table border=\"1\" class=\"dataframe\">\n",
       "  <thead>\n",
       "    <tr style=\"text-align: right;\">\n",
       "      <th></th>\n",
       "      <th>Test Predictions</th>\n",
       "      <th>Actuals</th>\n",
       "    </tr>\n",
       "  </thead>\n",
       "  <tbody>\n",
       "    <tr>\n",
       "      <th>0</th>\n",
       "      <td>[183.45164]</td>\n",
       "      <td>328.799988</td>\n",
       "    </tr>\n",
       "    <tr>\n",
       "      <th>1</th>\n",
       "      <td>[184.34578]</td>\n",
       "      <td>329.399994</td>\n",
       "    </tr>\n",
       "    <tr>\n",
       "      <th>2</th>\n",
       "      <td>[185.08138]</td>\n",
       "      <td>311.000000</td>\n",
       "    </tr>\n",
       "    <tr>\n",
       "      <th>3</th>\n",
       "      <td>[185.76466]</td>\n",
       "      <td>311.200012</td>\n",
       "    </tr>\n",
       "    <tr>\n",
       "      <th>4</th>\n",
       "      <td>[186.44554]</td>\n",
       "      <td>315.500000</td>\n",
       "    </tr>\n",
       "    <tr>\n",
       "      <th>...</th>\n",
       "      <td>...</td>\n",
       "      <td>...</td>\n",
       "    </tr>\n",
       "    <tr>\n",
       "      <th>90</th>\n",
       "      <td>[222.72055]</td>\n",
       "      <td>240.300003</td>\n",
       "    </tr>\n",
       "    <tr>\n",
       "      <th>91</th>\n",
       "      <td>[222.72089]</td>\n",
       "      <td>251.800003</td>\n",
       "    </tr>\n",
       "    <tr>\n",
       "      <th>92</th>\n",
       "      <td>[222.72116]</td>\n",
       "      <td>249.300003</td>\n",
       "    </tr>\n",
       "    <tr>\n",
       "      <th>93</th>\n",
       "      <td>[222.72139]</td>\n",
       "      <td>240.000000</td>\n",
       "    </tr>\n",
       "    <tr>\n",
       "      <th>94</th>\n",
       "      <td>[222.72154]</td>\n",
       "      <td>227.399994</td>\n",
       "    </tr>\n",
       "  </tbody>\n",
       "</table>\n",
       "<p>95 rows × 2 columns</p>\n",
       "</div>"
      ],
      "text/plain": [
       "   Test Predictions     Actuals\n",
       "0       [183.45164]  328.799988\n",
       "1       [184.34578]  329.399994\n",
       "2       [185.08138]  311.000000\n",
       "3       [185.76466]  311.200012\n",
       "4       [186.44554]  315.500000\n",
       "..              ...         ...\n",
       "90      [222.72055]  240.300003\n",
       "91      [222.72089]  251.800003\n",
       "92      [222.72116]  249.300003\n",
       "93      [222.72139]  240.000000\n",
       "94      [222.72154]  227.399994\n",
       "\n",
       "[95 rows x 2 columns]"
      ]
     },
     "execution_count": 198,
     "metadata": {},
     "output_type": "execute_result"
    }
   ],
   "source": [
    "# test_predictions = model1.predict(X_test1).flatten()\n",
    "test_results = pd.DataFrame(data={'Test Predictions':test_predictions, 'Actuals':y_test1})\n",
    "test_results"
   ]
  },
  {
   "cell_type": "code",
   "execution_count": 199,
   "metadata": {},
   "outputs": [
    {
     "data": {
      "text/plain": [
       "[<matplotlib.lines.Line2D at 0x232f904df10>]"
      ]
     },
     "execution_count": 199,
     "metadata": {},
     "output_type": "execute_result"
    },
    {
     "data": {
      "image/png": "[encoded data removed]",
      "text/plain": [
       "<Figure size 640x480 with 1 Axes>"
      ]
     },
     "metadata": {},
     "output_type": "display_data"
    }
   ],
   "source": [
    "plt.plot(test_results['Test Predictions'])\n",
    "plt.plot(test_results['Actuals'])"
   ]
  },
  {
   "cell_type": "code",
   "execution_count": 200,
   "metadata": {},
   "outputs": [
    {
     "name": "stdout",
     "output_type": "stream",
     "text": [
      "97.07539601422799\n"
     ]
    }
   ],
   "source": [
    "from sklearn.metrics import mean_squared_error as mse\n",
    "\n",
    "print(np.sqrt(mse(test_results['Test Predictions'],test_results['Actuals'])))"
   ]
  },
  {
   "cell_type": "markdown",
   "metadata": {},
   "source": [
    "Convolution Model"
   ]
  },
  {
   "cell_type": "code",
   "execution_count": 206,
   "metadata": {},
   "outputs": [],
   "source": [
    "from tensorflow.keras import layers"
   ]
  },
  {
   "cell_type": "code",
   "execution_count": 208,
   "metadata": {},
   "outputs": [
    {
     "name": "stdout",
     "output_type": "stream",
     "text": [
      "Model: \"sequential_14\"\n",
      "_________________________________________________________________\n",
      " Layer (type)                Output Shape              Param #   \n",
      "=================================================================\n",
      " conv1d_7 (Conv1D)           (None, 4, 64)             192       \n",
      "                                                                 \n",
      " flatten_7 (Flatten)         (None, 256)               0         \n",
      "                                                                 \n",
      " dense_35 (Dense)            (None, 8)                 2056      \n",
      "                                                                 \n",
      " dense_36 (Dense)            (None, 1)                 9         \n",
      "                                                                 \n",
      "=================================================================\n",
      "Total params: 2257 (8.82 KB)\n",
      "Trainable params: 2257 (8.82 KB)\n",
      "Non-trainable params: 0 (0.00 Byte)\n",
      "_________________________________________________________________\n"
     ]
    }
   ],
   "source": [
    "model2 = Sequential()\n",
    "model2.add(InputLayer((5, 1)))\n",
    "model2.add(Conv1D(64, kernel_size=2))\n",
    "model2.add(Flatten())\n",
    "model2.add(Dense(8, 'relu'))\n",
    "model2.add(Dense(1, 'linear'))\n",
    "\n",
    "model2.summary()"
   ]
  },
  {
   "cell_type": "code",
   "execution_count": 203,
   "metadata": {},
   "outputs": [],
   "source": [
    "cp2 = ModelCheckpoint('model2/', save_best_only=True)\n",
    "model2.compile(loss=MeanSquaredError(), optimizer=Adam(learning_rate=0.0001), metrics=[RootMeanSquaredError()])"
   ]
  },
  {
   "cell_type": "code",
   "execution_count": null,
   "metadata": {},
   "outputs": [],
   "source": [
    "model2.fit(X_train1, y_train1, validation_data=(X_val1, y_val1), epochs=1000, callbacks=[cp2])"
   ]
  },
  {
   "cell_type": "code",
   "execution_count": 121,
   "metadata": {},
   "outputs": [],
   "source": [
    "from tensorflow.keras.models import load_model\n",
    "model2 = load_model('model2/')"
   ]
  },
  {
   "cell_type": "code",
   "execution_count": 122,
   "metadata": {},
   "outputs": [
    {
     "name": "stdout",
     "output_type": "stream",
     "text": [
      "91/91 [==============================] - 0s 1ms/step\n"
     ]
    },
    {
     "data": {
      "text/html": [
       "<div>\n",
       "<style scoped>\n",
       "    .dataframe tbody tr th:only-of-type {\n",
       "        vertical-align: middle;\n",
       "    }\n",
       "\n",
       "    .dataframe tbody tr th {\n",
       "        vertical-align: top;\n",
       "    }\n",
       "\n",
       "    .dataframe thead th {\n",
       "        text-align: right;\n",
       "    }\n",
       "</style>\n",
       "<table border=\"1\" class=\"dataframe\">\n",
       "  <thead>\n",
       "    <tr style=\"text-align: right;\">\n",
       "      <th></th>\n",
       "      <th>Train Predictions</th>\n",
       "      <th>Actuals</th>\n",
       "    </tr>\n",
       "  </thead>\n",
       "  <tbody>\n",
       "    <tr>\n",
       "      <th>50</th>\n",
       "      <td>135.995102</td>\n",
       "      <td>136.00</td>\n",
       "    </tr>\n",
       "    <tr>\n",
       "      <th>51</th>\n",
       "      <td>136.189728</td>\n",
       "      <td>136.25</td>\n",
       "    </tr>\n",
       "    <tr>\n",
       "      <th>52</th>\n",
       "      <td>136.422165</td>\n",
       "      <td>138.25</td>\n",
       "    </tr>\n",
       "    <tr>\n",
       "      <th>53</th>\n",
       "      <td>138.263992</td>\n",
       "      <td>139.50</td>\n",
       "    </tr>\n",
       "    <tr>\n",
       "      <th>54</th>\n",
       "      <td>139.654480</td>\n",
       "      <td>139.00</td>\n",
       "    </tr>\n",
       "    <tr>\n",
       "      <th>55</th>\n",
       "      <td>139.263458</td>\n",
       "      <td>135.25</td>\n",
       "    </tr>\n",
       "    <tr>\n",
       "      <th>56</th>\n",
       "      <td>135.813263</td>\n",
       "      <td>137.50</td>\n",
       "    </tr>\n",
       "    <tr>\n",
       "      <th>57</th>\n",
       "      <td>137.639343</td>\n",
       "      <td>136.50</td>\n",
       "    </tr>\n",
       "    <tr>\n",
       "      <th>58</th>\n",
       "      <td>137.006424</td>\n",
       "      <td>140.50</td>\n",
       "    </tr>\n",
       "    <tr>\n",
       "      <th>59</th>\n",
       "      <td>140.492035</td>\n",
       "      <td>139.50</td>\n",
       "    </tr>\n",
       "    <tr>\n",
       "      <th>60</th>\n",
       "      <td>139.807968</td>\n",
       "      <td>140.50</td>\n",
       "    </tr>\n",
       "    <tr>\n",
       "      <th>61</th>\n",
       "      <td>140.632233</td>\n",
       "      <td>137.25</td>\n",
       "    </tr>\n",
       "    <tr>\n",
       "      <th>62</th>\n",
       "      <td>137.761963</td>\n",
       "      <td>146.25</td>\n",
       "    </tr>\n",
       "    <tr>\n",
       "      <th>63</th>\n",
       "      <td>145.780838</td>\n",
       "      <td>144.00</td>\n",
       "    </tr>\n",
       "    <tr>\n",
       "      <th>64</th>\n",
       "      <td>144.465744</td>\n",
       "      <td>139.75</td>\n",
       "    </tr>\n",
       "    <tr>\n",
       "      <th>65</th>\n",
       "      <td>140.292572</td>\n",
       "      <td>143.00</td>\n",
       "    </tr>\n",
       "    <tr>\n",
       "      <th>66</th>\n",
       "      <td>142.891907</td>\n",
       "      <td>145.25</td>\n",
       "    </tr>\n",
       "    <tr>\n",
       "      <th>67</th>\n",
       "      <td>145.521484</td>\n",
       "      <td>143.50</td>\n",
       "    </tr>\n",
       "    <tr>\n",
       "      <th>68</th>\n",
       "      <td>143.965912</td>\n",
       "      <td>140.00</td>\n",
       "    </tr>\n",
       "    <tr>\n",
       "      <th>69</th>\n",
       "      <td>140.498627</td>\n",
       "      <td>135.00</td>\n",
       "    </tr>\n",
       "    <tr>\n",
       "      <th>70</th>\n",
       "      <td>135.824020</td>\n",
       "      <td>136.50</td>\n",
       "    </tr>\n",
       "    <tr>\n",
       "      <th>71</th>\n",
       "      <td>136.920059</td>\n",
       "      <td>140.50</td>\n",
       "    </tr>\n",
       "    <tr>\n",
       "      <th>72</th>\n",
       "      <td>140.689194</td>\n",
       "      <td>141.00</td>\n",
       "    </tr>\n",
       "    <tr>\n",
       "      <th>73</th>\n",
       "      <td>141.302368</td>\n",
       "      <td>141.75</td>\n",
       "    </tr>\n",
       "    <tr>\n",
       "      <th>74</th>\n",
       "      <td>141.808624</td>\n",
       "      <td>139.25</td>\n",
       "    </tr>\n",
       "    <tr>\n",
       "      <th>75</th>\n",
       "      <td>139.648743</td>\n",
       "      <td>140.00</td>\n",
       "    </tr>\n",
       "    <tr>\n",
       "      <th>76</th>\n",
       "      <td>140.244797</td>\n",
       "      <td>138.00</td>\n",
       "    </tr>\n",
       "    <tr>\n",
       "      <th>77</th>\n",
       "      <td>138.548340</td>\n",
       "      <td>142.75</td>\n",
       "    </tr>\n",
       "    <tr>\n",
       "      <th>78</th>\n",
       "      <td>142.706024</td>\n",
       "      <td>130.00</td>\n",
       "    </tr>\n",
       "    <tr>\n",
       "      <th>79</th>\n",
       "      <td>131.459595</td>\n",
       "      <td>130.00</td>\n",
       "    </tr>\n",
       "    <tr>\n",
       "      <th>80</th>\n",
       "      <td>130.403473</td>\n",
       "      <td>127.75</td>\n",
       "    </tr>\n",
       "    <tr>\n",
       "      <th>81</th>\n",
       "      <td>128.541443</td>\n",
       "      <td>123.25</td>\n",
       "    </tr>\n",
       "    <tr>\n",
       "      <th>82</th>\n",
       "      <td>124.372665</td>\n",
       "      <td>124.50</td>\n",
       "    </tr>\n",
       "    <tr>\n",
       "      <th>83</th>\n",
       "      <td>124.816315</td>\n",
       "      <td>123.75</td>\n",
       "    </tr>\n",
       "    <tr>\n",
       "      <th>84</th>\n",
       "      <td>124.301605</td>\n",
       "      <td>121.50</td>\n",
       "    </tr>\n",
       "    <tr>\n",
       "      <th>85</th>\n",
       "      <td>122.093399</td>\n",
       "      <td>121.50</td>\n",
       "    </tr>\n",
       "    <tr>\n",
       "      <th>86</th>\n",
       "      <td>121.802307</td>\n",
       "      <td>119.50</td>\n",
       "    </tr>\n",
       "    <tr>\n",
       "      <th>87</th>\n",
       "      <td>120.059898</td>\n",
       "      <td>124.75</td>\n",
       "    </tr>\n",
       "    <tr>\n",
       "      <th>88</th>\n",
       "      <td>124.640717</td>\n",
       "      <td>125.50</td>\n",
       "    </tr>\n",
       "    <tr>\n",
       "      <th>89</th>\n",
       "      <td>125.695969</td>\n",
       "      <td>125.00</td>\n",
       "    </tr>\n",
       "    <tr>\n",
       "      <th>90</th>\n",
       "      <td>125.200684</td>\n",
       "      <td>124.00</td>\n",
       "    </tr>\n",
       "    <tr>\n",
       "      <th>91</th>\n",
       "      <td>124.201767</td>\n",
       "      <td>124.00</td>\n",
       "    </tr>\n",
       "    <tr>\n",
       "      <th>92</th>\n",
       "      <td>124.293221</td>\n",
       "      <td>125.25</td>\n",
       "    </tr>\n",
       "    <tr>\n",
       "      <th>93</th>\n",
       "      <td>125.466148</td>\n",
       "      <td>123.25</td>\n",
       "    </tr>\n",
       "    <tr>\n",
       "      <th>94</th>\n",
       "      <td>123.727997</td>\n",
       "      <td>121.00</td>\n",
       "    </tr>\n",
       "    <tr>\n",
       "      <th>95</th>\n",
       "      <td>121.478249</td>\n",
       "      <td>123.75</td>\n",
       "    </tr>\n",
       "    <tr>\n",
       "      <th>96</th>\n",
       "      <td>123.840782</td>\n",
       "      <td>127.50</td>\n",
       "    </tr>\n",
       "    <tr>\n",
       "      <th>97</th>\n",
       "      <td>127.527664</td>\n",
       "      <td>128.75</td>\n",
       "    </tr>\n",
       "    <tr>\n",
       "      <th>98</th>\n",
       "      <td>128.836548</td>\n",
       "      <td>128.25</td>\n",
       "    </tr>\n",
       "    <tr>\n",
       "      <th>99</th>\n",
       "      <td>128.357574</td>\n",
       "      <td>128.75</td>\n",
       "    </tr>\n",
       "  </tbody>\n",
       "</table>\n",
       "</div>"
      ],
      "text/plain": [
       "    Train Predictions  Actuals\n",
       "50         135.995102   136.00\n",
       "51         136.189728   136.25\n",
       "52         136.422165   138.25\n",
       "53         138.263992   139.50\n",
       "54         139.654480   139.00\n",
       "55         139.263458   135.25\n",
       "56         135.813263   137.50\n",
       "57         137.639343   136.50\n",
       "58         137.006424   140.50\n",
       "59         140.492035   139.50\n",
       "60         139.807968   140.50\n",
       "61         140.632233   137.25\n",
       "62         137.761963   146.25\n",
       "63         145.780838   144.00\n",
       "64         144.465744   139.75\n",
       "65         140.292572   143.00\n",
       "66         142.891907   145.25\n",
       "67         145.521484   143.50\n",
       "68         143.965912   140.00\n",
       "69         140.498627   135.00\n",
       "70         135.824020   136.50\n",
       "71         136.920059   140.50\n",
       "72         140.689194   141.00\n",
       "73         141.302368   141.75\n",
       "74         141.808624   139.25\n",
       "75         139.648743   140.00\n",
       "76         140.244797   138.00\n",
       "77         138.548340   142.75\n",
       "78         142.706024   130.00\n",
       "79         131.459595   130.00\n",
       "80         130.403473   127.75\n",
       "81         128.541443   123.25\n",
       "82         124.372665   124.50\n",
       "83         124.816315   123.75\n",
       "84         124.301605   121.50\n",
       "85         122.093399   121.50\n",
       "86         121.802307   119.50\n",
       "87         120.059898   124.75\n",
       "88         124.640717   125.50\n",
       "89         125.695969   125.00\n",
       "90         125.200684   124.00\n",
       "91         124.201767   124.00\n",
       "92         124.293221   125.25\n",
       "93         125.466148   123.25\n",
       "94         123.727997   121.00\n",
       "95         121.478249   123.75\n",
       "96         123.840782   127.50\n",
       "97         127.527664   128.75\n",
       "98         128.836548   128.25\n",
       "99         128.357574   128.75"
      ]
     },
     "execution_count": 122,
     "metadata": {},
     "output_type": "execute_result"
    }
   ],
   "source": [
    "train_predictions_convolution = model2.predict(X_train1).flatten()\n",
    "train_results_convolution = pd.DataFrame(data={'Train Predictions':train_predictions_convolution, 'Actuals':y_train1})\n",
    "train_results_convolution[50:100]"
   ]
  },
  {
   "cell_type": "code",
   "execution_count": 162,
   "metadata": {},
   "outputs": [
    {
     "data": {
      "text/plain": [
       "[<matplotlib.lines.Line2D at 0x232f1523110>]"
      ]
     },
     "execution_count": 162,
     "metadata": {},
     "output_type": "execute_result"
    },
    {
     "data": {
      "image/png": "[encoded data removed]",
      "text/plain": [
       "<Figure size 640x480 with 1 Axes>"
      ]
     },
     "metadata": {},
     "output_type": "display_data"
    }
   ],
   "source": [
    "import matplotlib.pyplot as plt\n",
    "plt.plot(train_results_convolution['Train Predictions'][50:100],color='orange')\n",
    "plt.plot(train_results_convolution['Actuals'][50:100],color='blue')"
   ]
  },
  {
   "cell_type": "code",
   "execution_count": 124,
   "metadata": {},
   "outputs": [
    {
     "name": "stdout",
     "output_type": "stream",
     "text": [
      "13/13 [==============================] - 0s 2ms/step\n"
     ]
    },
    {
     "data": {
      "text/html": [
       "<div>\n",
       "<style scoped>\n",
       "    .dataframe tbody tr th:only-of-type {\n",
       "        vertical-align: middle;\n",
       "    }\n",
       "\n",
       "    .dataframe tbody tr th {\n",
       "        vertical-align: top;\n",
       "    }\n",
       "\n",
       "    .dataframe thead th {\n",
       "        text-align: right;\n",
       "    }\n",
       "</style>\n",
       "<table border=\"1\" class=\"dataframe\">\n",
       "  <thead>\n",
       "    <tr style=\"text-align: right;\">\n",
       "      <th></th>\n",
       "      <th>Val Predictions</th>\n",
       "      <th>Actuals</th>\n",
       "    </tr>\n",
       "  </thead>\n",
       "  <tbody>\n",
       "    <tr>\n",
       "      <th>0</th>\n",
       "      <td>186.197433</td>\n",
       "      <td>187.300003</td>\n",
       "    </tr>\n",
       "    <tr>\n",
       "      <th>1</th>\n",
       "      <td>187.629242</td>\n",
       "      <td>187.500000</td>\n",
       "    </tr>\n",
       "    <tr>\n",
       "      <th>2</th>\n",
       "      <td>187.782944</td>\n",
       "      <td>186.699997</td>\n",
       "    </tr>\n",
       "    <tr>\n",
       "      <th>3</th>\n",
       "      <td>187.022491</td>\n",
       "      <td>191.500000</td>\n",
       "    </tr>\n",
       "    <tr>\n",
       "      <th>4</th>\n",
       "      <td>191.434540</td>\n",
       "      <td>193.800003</td>\n",
       "    </tr>\n",
       "    <tr>\n",
       "      <th>...</th>\n",
       "      <td>...</td>\n",
       "      <td>...</td>\n",
       "    </tr>\n",
       "    <tr>\n",
       "      <th>395</th>\n",
       "      <td>315.823822</td>\n",
       "      <td>314.000000</td>\n",
       "    </tr>\n",
       "    <tr>\n",
       "      <th>396</th>\n",
       "      <td>314.732025</td>\n",
       "      <td>315.799988</td>\n",
       "    </tr>\n",
       "    <tr>\n",
       "      <th>397</th>\n",
       "      <td>316.376831</td>\n",
       "      <td>322.200012</td>\n",
       "    </tr>\n",
       "    <tr>\n",
       "      <th>398</th>\n",
       "      <td>322.400238</td>\n",
       "      <td>321.799988</td>\n",
       "    </tr>\n",
       "    <tr>\n",
       "      <th>399</th>\n",
       "      <td>322.375580</td>\n",
       "      <td>321.000000</td>\n",
       "    </tr>\n",
       "  </tbody>\n",
       "</table>\n",
       "<p>400 rows × 2 columns</p>\n",
       "</div>"
      ],
      "text/plain": [
       "     Val Predictions     Actuals\n",
       "0         186.197433  187.300003\n",
       "1         187.629242  187.500000\n",
       "2         187.782944  186.699997\n",
       "3         187.022491  191.500000\n",
       "4         191.434540  193.800003\n",
       "..               ...         ...\n",
       "395       315.823822  314.000000\n",
       "396       314.732025  315.799988\n",
       "397       316.376831  322.200012\n",
       "398       322.400238  321.799988\n",
       "399       322.375580  321.000000\n",
       "\n",
       "[400 rows x 2 columns]"
      ]
     },
     "execution_count": 124,
     "metadata": {},
     "output_type": "execute_result"
    }
   ],
   "source": [
    "val_predictions_convolution = model2.predict(X_val1).flatten()\n",
    "val_results_convolution = pd.DataFrame(data={'Val Predictions':val_predictions_convolution, 'Actuals':y_val1})\n",
    "val_results_convolution"
   ]
  },
  {
   "cell_type": "code",
   "execution_count": 125,
   "metadata": {},
   "outputs": [
    {
     "data": {
      "text/plain": [
       "[<matplotlib.lines.Line2D at 0x232ee17b090>]"
      ]
     },
     "execution_count": 125,
     "metadata": {},
     "output_type": "execute_result"
    },
    {
     "data": {
      "image/png": "[encoded data removed]",
      "text/plain": [
       "<Figure size 640x480 with 1 Axes>"
      ]
     },
     "metadata": {},
     "output_type": "display_data"
    }
   ],
   "source": [
    "plt.plot(val_results_convolution['Val Predictions'][:100])\n",
    "plt.plot(val_results_convolution['Actuals'][:100])"
   ]
  },
  {
   "cell_type": "code",
   "execution_count": 126,
   "metadata": {},
   "outputs": [
    {
     "name": "stdout",
     "output_type": "stream",
     "text": [
      "3/3 [==============================] - 0s 1ms/step\n"
     ]
    },
    {
     "data": {
      "text/html": [
       "<div>\n",
       "<style scoped>\n",
       "    .dataframe tbody tr th:only-of-type {\n",
       "        vertical-align: middle;\n",
       "    }\n",
       "\n",
       "    .dataframe tbody tr th {\n",
       "        vertical-align: top;\n",
       "    }\n",
       "\n",
       "    .dataframe thead th {\n",
       "        text-align: right;\n",
       "    }\n",
       "</style>\n",
       "<table border=\"1\" class=\"dataframe\">\n",
       "  <thead>\n",
       "    <tr style=\"text-align: right;\">\n",
       "      <th></th>\n",
       "      <th>Test Predictions</th>\n",
       "      <th>Actuals</th>\n",
       "    </tr>\n",
       "  </thead>\n",
       "  <tbody>\n",
       "    <tr>\n",
       "      <th>0</th>\n",
       "      <td>321.489899</td>\n",
       "      <td>328.799988</td>\n",
       "    </tr>\n",
       "    <tr>\n",
       "      <th>1</th>\n",
       "      <td>328.596771</td>\n",
       "      <td>329.399994</td>\n",
       "    </tr>\n",
       "    <tr>\n",
       "      <th>2</th>\n",
       "      <td>329.949982</td>\n",
       "      <td>311.000000</td>\n",
       "    </tr>\n",
       "    <tr>\n",
       "      <th>3</th>\n",
       "      <td>313.137726</td>\n",
       "      <td>311.200012</td>\n",
       "    </tr>\n",
       "    <tr>\n",
       "      <th>4</th>\n",
       "      <td>311.890198</td>\n",
       "      <td>315.500000</td>\n",
       "    </tr>\n",
       "    <tr>\n",
       "      <th>...</th>\n",
       "      <td>...</td>\n",
       "      <td>...</td>\n",
       "    </tr>\n",
       "    <tr>\n",
       "      <th>90</th>\n",
       "      <td>241.342346</td>\n",
       "      <td>240.300003</td>\n",
       "    </tr>\n",
       "    <tr>\n",
       "      <th>91</th>\n",
       "      <td>240.889923</td>\n",
       "      <td>251.800003</td>\n",
       "    </tr>\n",
       "    <tr>\n",
       "      <th>92</th>\n",
       "      <td>251.248199</td>\n",
       "      <td>249.300003</td>\n",
       "    </tr>\n",
       "    <tr>\n",
       "      <th>93</th>\n",
       "      <td>249.853455</td>\n",
       "      <td>240.000000</td>\n",
       "    </tr>\n",
       "    <tr>\n",
       "      <th>94</th>\n",
       "      <td>241.068085</td>\n",
       "      <td>227.399994</td>\n",
       "    </tr>\n",
       "  </tbody>\n",
       "</table>\n",
       "<p>95 rows × 2 columns</p>\n",
       "</div>"
      ],
      "text/plain": [
       "    Test Predictions     Actuals\n",
       "0         321.489899  328.799988\n",
       "1         328.596771  329.399994\n",
       "2         329.949982  311.000000\n",
       "3         313.137726  311.200012\n",
       "4         311.890198  315.500000\n",
       "..               ...         ...\n",
       "90        241.342346  240.300003\n",
       "91        240.889923  251.800003\n",
       "92        251.248199  249.300003\n",
       "93        249.853455  240.000000\n",
       "94        241.068085  227.399994\n",
       "\n",
       "[95 rows x 2 columns]"
      ]
     },
     "execution_count": 126,
     "metadata": {},
     "output_type": "execute_result"
    }
   ],
   "source": [
    "test_predictions_convolution = model2.predict(X_test1).flatten()\n",
    "test_results_convolution = pd.DataFrame(data={'Test Predictions':test_predictions_convolution, 'Actuals':y_test1})\n",
    "test_results_convolution"
   ]
  },
  {
   "cell_type": "code",
   "execution_count": 127,
   "metadata": {},
   "outputs": [
    {
     "data": {
      "text/plain": [
       "[<matplotlib.lines.Line2D at 0x232e6fb9f90>]"
      ]
     },
     "execution_count": 127,
     "metadata": {},
     "output_type": "execute_result"
    },
    {
     "data": {
      "image/png": "[encoded data removed]",
      "text/plain": [
       "<Figure size 640x480 with 1 Axes>"
      ]
     },
     "metadata": {},
     "output_type": "display_data"
    }
   ],
   "source": [
    "plt.plot(test_results_convolution['Test Predictions'])\n",
    "plt.plot(test_results_convolution['Actuals'])"
   ]
  },
  {
   "cell_type": "code",
   "execution_count": 128,
   "metadata": {},
   "outputs": [
    {
     "name": "stdout",
     "output_type": "stream",
     "text": [
      "7.523675995395486\n"
     ]
    }
   ],
   "source": [
    "from sklearn.metrics import mean_squared_error as mse\n",
    "\n",
    "print(np.sqrt(mse(test_results_convolution['Test Predictions'],test_results_convolution['Actuals'])))"
   ]
  },
  {
   "cell_type": "markdown",
   "metadata": {},
   "source": [
    "Vayun Code"
   ]
  },
  {
   "cell_type": "code",
   "execution_count": 160,
   "metadata": {},
   "outputs": [
    {
     "name": "stdout",
     "output_type": "stream",
     "text": [
      "7.485982843020989\n"
     ]
    }
   ],
   "source": [
    "def combined(col1,col2,alpha):\n",
    "    predictions_combined = []\n",
    "    for i in range(len(col2)):\n",
    "        pred = (alpha*col1[i] + (1-alpha)*col2[i])\n",
    "        predictions_combined.append(pred)\n",
    "    return(predictions_combined)\n",
    "\n",
    "# print(combined(np.array(test_results['Test Predictions']),np.array(test_results_convolution['Test Predictions']),0.15))\n",
    "    \n",
    "ensambled_pred=combined(np.array(test_results['Test Predictions']),np.array(test_results_convolution['Test Predictions']),0.15)"
   ]
  },
  {
   "cell_type": "code",
   "execution_count": 141,
   "metadata": {},
   "outputs": [
    {
     "data": {
      "text/plain": [
       "[<matplotlib.lines.Line2D at 0x232f161d2d0>]"
      ]
     },
     "execution_count": 141,
     "metadata": {},
     "output_type": "execute_result"
    },
    {
     "data": {
      "image/png": "[encoded data removed]",
      "text/plain": [
       "<Figure size 640x480 with 1 Axes>"
      ]
     },
     "metadata": {},
     "output_type": "display_data"
    }
   ],
   "source": [
    "plt.plot(test_results['Test Predictions'])\n",
    "plt.plot(ensambled_pred,color='Red')\n",
    "plt.plot(test_results_convolution['Test Predictions'])\n",
    "# plt.plot(test_results['Actuals'],color='blue')"
   ]
  },
  {
   "cell_type": "code",
   "execution_count": null,
   "metadata": {},
   "outputs": [],
   "source": []
  }
 ],
 "metadata": {
  "kernelspec": {
   "display_name": "Python 3",
   "language": "python",
   "name": "python3"
  },
  "language_info": {
   "codemirror_mode": {
    "name": "ipython",
    "version": 3
   },
   "file_extension": ".py",
   "mimetype": "text/x-python",
   "name": "python",
   "nbconvert_exporter": "python",
   "pygments_lexer": "ipython3",
   "version": "3.11.3"
  }
 },
 "nbformat": 4,
 "nbformat_minor": 2
}
